{
 "cells": [
  {
   "cell_type": "markdown",
   "metadata": {},
   "source": [
    "# NOTE\n",
    "\n",
    "This notebook is best viewed with some jupyter extensions:\n",
    "\n",
    "```\n",
    "# snippet of impartant parts of `jupyter nbextension list`\n",
    "Known nbextensions:\n",
    "    notebook section\n",
    "      ExecuteTime\n",
    "      collapsible_headings\n",
    "      hide_input\n",
    "      toc2\n",
    "```\n",
    "\n",
    "After `Imports` and `Setup` `Model testing` can be executed."
   ]
  },
  {
   "cell_type": "markdown",
   "metadata": {
    "toc": true
   },
   "source": [
    "<h1>Table of Contents<span class=\"tocSkip\"></span></h1>\n",
    "<div class=\"toc\"><ul class=\"toc-item\"><li><span><a href=\"#NOTE\" data-toc-modified-id=\"NOTE-1\"><span class=\"toc-item-num\">1&nbsp;&nbsp;</span>NOTE</a></span></li><li><span><a href=\"#Imports\" data-toc-modified-id=\"Imports-2\"><span class=\"toc-item-num\">2&nbsp;&nbsp;</span>Imports</a></span></li><li><span><a href=\"#Setup\" data-toc-modified-id=\"Setup-3\"><span class=\"toc-item-num\">3&nbsp;&nbsp;</span>Setup</a></span></li><li><span><a href=\"#Hyper-parameter-search-learning-rate\" data-toc-modified-id=\"Hyper-parameter-search-learning-rate-4\"><span class=\"toc-item-num\">4&nbsp;&nbsp;</span>Hyper-parameter search learning rate</a></span></li><li><span><a href=\"#Train-model-using-K-=-1,2,3,4,5\" data-toc-modified-id=\"Train-model-using-K-=-1,2,3,4,5-5\"><span class=\"toc-item-num\">5&nbsp;&nbsp;</span>Train model using K = 1,2,3,4,5</a></span></li><li><span><a href=\"#Test-on-a-bigger-grid\" data-toc-modified-id=\"Test-on-a-bigger-grid-6\"><span class=\"toc-item-num\">6&nbsp;&nbsp;</span>Test on a bigger grid</a></span></li><li><span><a href=\"#Plotting-solutions-for-domain-shapes\" data-toc-modified-id=\"Plotting-solutions-for-domain-shapes-7\"><span class=\"toc-item-num\">7&nbsp;&nbsp;</span>Plotting solutions for domain shapes</a></span><ul class=\"toc-item\"><li><span><a href=\"#Plot-Square-Domain\" data-toc-modified-id=\"Plot-Square-Domain-7.1\"><span class=\"toc-item-num\">7.1&nbsp;&nbsp;</span>Plot Square Domain</a></span></li><li><span><a href=\"#Plot-L-shape\" data-toc-modified-id=\"Plot-L-shape-7.2\"><span class=\"toc-item-num\">7.2&nbsp;&nbsp;</span>Plot L shape</a></span></li></ul></li><li><span><a href=\"#Error-evolution-with-iterations\" data-toc-modified-id=\"Error-evolution-with-iterations-8\"><span class=\"toc-item-num\">8&nbsp;&nbsp;</span>Error evolution with iterations</a></span></li><li><span><a href=\"#Model-testing\" data-toc-modified-id=\"Model-testing-9\"><span class=\"toc-item-num\">9&nbsp;&nbsp;</span>Model testing</a></span><ul class=\"toc-item\"><li><span><a href=\"#Tables-plots-for-report\" data-toc-modified-id=\"Tables-plots-for-report-9.1\"><span class=\"toc-item-num\">9.1&nbsp;&nbsp;</span>Tables plots for report</a></span></li></ul></li></ul></div>"
   ]
  },
  {
   "cell_type": "markdown",
   "metadata": {
    "ExecuteTime": {
     "end_time": "2018-12-18T11:12:37.978677Z",
     "start_time": "2018-12-18T11:12:37.976016Z"
    }
   },
   "source": [
    "# Imports"
   ]
  },
  {
   "cell_type": "code",
   "execution_count": 63,
   "metadata": {
    "ExecuteTime": {
     "end_time": "2019-01-02T11:52:45.419072Z",
     "start_time": "2019-01-02T11:52:45.386467Z"
    },
    "autoscroll": false,
    "ein.hycell": false,
    "ein.tags": "worksheet-0",
    "slideshow": {
     "slide_type": "-"
    }
   },
   "outputs": [
    {
     "data": {
      "text/html": [
       "<style>.container { width:95% !important; }</style>"
      ],
      "text/plain": [
       "<IPython.core.display.HTML object>"
      ]
     },
     "metadata": {},
     "output_type": "display_data"
    }
   ],
   "source": [
    "def fix_layout(width:int=95):\n",
    "    from IPython.core.display import display, HTML\n",
    "    display(HTML('<style>.container { width:' + str(width) + '% !important; }</style>'))\n",
    "    \n",
    "fix_layout()"
   ]
  },
  {
   "cell_type": "code",
   "execution_count": 2,
   "metadata": {
    "ExecuteTime": {
     "end_time": "2018-12-30T11:10:53.160742Z",
     "start_time": "2018-12-30T11:10:51.404495Z"
    },
    "autoscroll": false,
    "ein.hycell": false,
    "ein.tags": "worksheet-0",
    "slideshow": {
     "slide_type": "-"
    }
   },
   "outputs": [],
   "source": [
    "import os\n",
    "from importlib import reload\n",
    "from itertools import product\n",
    "\n",
    "import numpy as np\n",
    "import pandas as pd\n",
    "import seaborn as sns\n",
    "import matplotlib.pyplot as plt\n",
    "import torch\n",
    "import torch.nn as nn\n",
    "import torch.nn.functional as F\n",
    "from IPython.display import display\n",
    "\n",
    "import nnpde.iterative_methods as im\n",
    "from nnpde.metrics import least_squares_loss as LSE\n",
    "from nnpde import geometries, helpers\n",
    "from nnpde.utils.logs import enable_logging, logging \n",
    "from nnpde.problems import DirichletProblem \n",
    "from nnpde.utils import plots\n",
    "import nnpde.model as M \n",
    "import nnpde.model_testing as MT\n",
    "import nnpde.problems as PDEF\n",
    "from nnpde.grid_search import grid_search"
   ]
  },
  {
   "cell_type": "markdown",
   "metadata": {},
   "source": [
    "# Setup"
   ]
  },
  {
   "cell_type": "code",
   "execution_count": 3,
   "metadata": {
    "ExecuteTime": {
     "end_time": "2018-12-30T11:10:53.476092Z",
     "start_time": "2018-12-30T11:10:53.462359Z"
    },
    "autoscroll": false,
    "ein.hycell": false,
    "ein.tags": "worksheet-0",
    "slideshow": {
     "slide_type": "-"
    }
   },
   "outputs": [
    {
     "name": "stderr",
     "output_type": "stream",
     "text": [
      "2018-12-30 12:10:53,464 - root - INFO - logs - logging enabled for level: 20\n"
     ]
    }
   ],
   "source": [
    "enable_logging(20)\n",
    "\n",
    "seed = 9 # Does not give problems\n",
    "torch.manual_seed(seed)\n",
    "np.random.seed(seed)"
   ]
  },
  {
   "cell_type": "code",
   "execution_count": 4,
   "metadata": {
    "ExecuteTime": {
     "end_time": "2018-12-30T11:11:03.135930Z",
     "start_time": "2018-12-30T11:10:55.287969Z"
    },
    "autoscroll": false,
    "ein.hycell": false,
    "ein.tags": "worksheet-0",
    "slideshow": {
     "slide_type": "-"
    }
   },
   "outputs": [],
   "source": [
    "# Define train dimension: NxN\n",
    "N = 16\n",
    "\n",
    "# For each problem instance define number of iteration to perform to obtain the solution\n",
    "nb_problem_instances = 50\n",
    "problem_instances = [DirichletProblem(k=k) for k in np.random.randint(1, 20, nb_problem_instances)]\n",
    "\n",
    "# Net parameters, will also be used further down.\n",
    "base_parameters = {\n",
    "    \"nb_layers\": 3,\n",
    "    \"max_epochs\": 200,\n",
    "    \"batch_size\": 10,\n",
    "    \"stable_count\": 10,\n",
    "    \"random_seed\": 9,\n",
    "}\n",
    "\n",
    "# SGD\n",
    "grid_parameters = {\n",
    "    \"learning_rate\": np.logspace(start=-6, stop=-4, num=7), #num=7 is good since it contains 1e-5\n",
    "}"
   ]
  },
  {
   "cell_type": "markdown",
   "metadata": {
    "heading_collapsed": true
   },
   "source": [
    "# Hyper-parameter search learning rate"
   ]
  },
  {
   "cell_type": "code",
   "execution_count": null,
   "metadata": {
    "hidden": true
   },
   "outputs": [],
   "source": [
    "def grid_search_wrapper(base_parameters, grid_search_parameters):\n",
    "    return grid_search(mdl=M.JacobyWithConv,\n",
    "                       base_parameters=base_parameters,\n",
    "                       grid_search_parameters=grid_search_parameters,\n",
    "                       problem_instances=problem_instances)"
   ]
  },
  {
   "cell_type": "code",
   "execution_count": null,
   "metadata": {
    "ExecuteTime": {
     "end_time": "2018-12-19T23:54:27.150000Z",
     "start_time": "2018-12-19T23:51:14.436602Z"
    },
    "hidden": true
   },
   "outputs": [],
   "source": [
    "# Took 3m 13s on a Intel(R) Core(TM) i7-6700K CPU @ 4.00GHz\n",
    "hyper_models = grid_search_wrapper(base_parameters, grid_parameters) \\\n",
    "    + grid_search_wrapper(base_parameters, {\"optimizer\": [\"Adadelta\"]})"
   ]
  },
  {
   "cell_type": "code",
   "execution_count": null,
   "metadata": {
    "ExecuteTime": {
     "end_time": "2018-12-19T23:54:27.609410Z",
     "start_time": "2018-12-19T23:54:27.151785Z"
    },
    "hidden": true
   },
   "outputs": [],
   "source": [
    "# Colors for plotting\n",
    "color_map = plt.get_cmap('cubehelix')\n",
    "colors = color_map(np.linspace(0.1, 1, 10))\n",
    "\n",
    "# Initilize figure\n",
    "hyper_fig = plt.figure()\n",
    "\n",
    "# Plot SGD\n",
    "i = 0\n",
    "for model in hyper_models[:-1]:  \n",
    "    n_epoch = np.arange(np.shape(model.losses)[0])\n",
    "    plt.semilogy(n_epoch, \n",
    "                 model.losses, \n",
    "                 color=colors[i], \n",
    "                 linewidth=1, \n",
    "                 linestyle=\"-\", \n",
    "                 marker=(i+2, 0, 0), \n",
    "                 markevery=10, \n",
    "                 label = f'$\\gamma= {model.learning_rate:.2e} $')\n",
    "    i += 1\n",
    "\n",
    "# Plot Adadelta\n",
    "n_epoch = np.arange(np.shape(hyper_models[-1].losses)[0])\n",
    "plt.semilogy(n_epoch, hyper_models[-1].losses, color=colors[i], linewidth=1, linestyle=\"-\", marker=(i+2, 0, 0), markevery=10,label='Adadelta')\n",
    "\n",
    "# Additional settings\n",
    "plt.legend(bbox_to_anchor=(1.05, 0.31), loc=3, borderaxespad=0.)\n",
    "plt.xlabel('n epochs', fontsize=14)\n",
    "plt.ylabel('Total loss [-]', fontsize=14)\n",
    "#plt.xlim([0, base_parameters['max_epochs']])\n",
    "#plt.ylim([0, 200])\n",
    "plt.title('Loss evolution for different learning rates $\\gamma$ \\n $K=3$, $|\\mathcal{D}|=50$, $|\\mathcal{B}|=10$, max epochs=200')\n",
    "plt.grid(True, which = \"both\", linewidth = 0.5,  linestyle = \"--\")\n",
    "\n",
    "#hyper_fig.savefig('../report/figs/hyper.eps', bbox_inches='tight')\n",
    "plt.draw()\n",
    "plt.show()"
   ]
  },
  {
   "cell_type": "markdown",
   "metadata": {
    "heading_collapsed": true
   },
   "source": [
    "# Train model using K = 1,2,3,4,5"
   ]
  },
  {
   "cell_type": "code",
   "execution_count": 8,
   "metadata": {
    "ExecuteTime": {
     "end_time": "2018-12-20T06:55:14.360643Z",
     "start_time": "2018-12-20T06:55:14.296094Z"
    },
    "hidden": true
   },
   "outputs": [
    {
     "data": {
      "text/plain": [
       "{'nb_layers': 3,\n",
       " 'max_epochs': 200,\n",
       " 'batch_size': 10,\n",
       " 'stable_count': 10,\n",
       " 'random_seed': 9}"
      ]
     },
     "execution_count": 8,
     "metadata": {},
     "output_type": "execute_result"
    }
   ],
   "source": [
    "base_parameters"
   ]
  },
  {
   "cell_type": "code",
   "execution_count": 11,
   "metadata": {
    "ExecuteTime": {
     "end_time": "2018-12-20T00:05:07.260050Z",
     "start_time": "2018-12-20T00:04:04.273443Z"
    },
    "hidden": true
   },
   "outputs": [
    {
     "name": "stderr",
     "output_type": "stream",
     "text": [
      "2018-12-20 20:28:56,548 - root - INFO - model - Using optimizer Adadelta\n",
      "2018-12-20 20:28:56,725 - root - INFO - model - Training with max_epochs: 500, tol: 1e-06. Initial loss is 16156.76171875\n",
      "2018-12-20 20:28:57,022 - root - INFO - model - iter 0 with total loss 4020.325927734375\n",
      "2018-12-20 20:29:28,979 - root - INFO - model - iter 100 with total loss 330.5577392578125\n",
      "2018-12-20 20:30:00,568 - root - INFO - model - iter 200 with total loss 330.51593017578125\n",
      "2018-12-20 20:30:28,184 - root - INFO - model - iter 300 with total loss 330.52191162109375\n",
      "2018-12-20 20:30:59,289 - root - INFO - model - iter 400 with total loss 330.525146484375\n",
      "2018-12-20 20:31:37,099 - root - INFO - model - Convergence reached in 499 epochs with total loss 330.5162353515625\n",
      "2018-12-20 20:31:37,101 - root - INFO - model - Using optimizer Adadelta\n",
      "2018-12-20 20:31:37,278 - root - INFO - model - Training with max_epochs: 500, tol: 1e-06. Initial loss is 1111510.625\n",
      "2018-12-20 20:31:37,807 - root - INFO - model - iter 0 with total loss 57557.74609375\n",
      "2018-12-20 20:32:22,818 - root - INFO - model - iter 100 with total loss 160.8571319580078\n",
      "2018-12-20 20:33:05,654 - root - INFO - model - iter 200 with total loss 146.26608276367188\n",
      "2018-12-20 20:33:50,701 - root - INFO - model - iter 300 with total loss 145.5672607421875\n",
      "2018-12-20 20:34:30,590 - root - INFO - model - iter 400 with total loss 136.31167602539062\n",
      "2018-12-20 20:35:06,288 - root - INFO - model - Convergence reached in 499 epochs with total loss 134.05599975585938\n",
      "2018-12-20 20:35:06,290 - root - INFO - model - Using optimizer Adadelta\n",
      "2018-12-20 20:35:06,479 - root - INFO - model - Training with max_epochs: 500, tol: 1e-06. Initial loss is 2754.449462890625\n",
      "2018-12-20 20:35:06,913 - root - INFO - model - iter 0 with total loss 1539.9169921875\n",
      "2018-12-20 20:35:44,752 - root - INFO - model - iter 100 with total loss 81.43997192382812\n",
      "2018-12-20 20:36:24,057 - root - INFO - model - iter 200 with total loss 74.87944030761719\n",
      "2018-12-20 20:37:00,639 - root - INFO - model - iter 300 with total loss 73.74588775634766\n",
      "2018-12-20 20:37:36,409 - root - INFO - model - iter 400 with total loss 73.66825103759766\n",
      "2018-12-20 20:38:14,577 - root - INFO - model - Convergence reached in 499 epochs with total loss 73.68553924560547\n",
      "2018-12-20 20:38:14,580 - root - INFO - model - Using optimizer Adadelta\n",
      "2018-12-20 20:38:14,753 - root - INFO - model - Training with max_epochs: 500, tol: 1e-06. Initial loss is 1346.889404296875\n",
      "2018-12-20 20:38:15,240 - root - INFO - model - iter 0 with total loss 1251.7584228515625\n",
      "2018-12-20 20:38:58,279 - root - INFO - model - iter 100 with total loss 60.05453109741211\n",
      "2018-12-20 20:39:40,744 - root - INFO - model - iter 200 with total loss 57.559566497802734\n",
      "2018-12-20 20:40:23,115 - root - INFO - model - iter 300 with total loss 56.826072692871094\n",
      "2018-12-20 20:41:08,863 - root - INFO - model - iter 400 with total loss 56.52799606323242\n",
      "2018-12-20 20:41:55,715 - root - INFO - model - Convergence reached in 499 epochs with total loss 56.87120056152344\n",
      "2018-12-20 20:41:55,717 - root - INFO - model - Using optimizer Adadelta\n",
      "2018-12-20 20:41:55,898 - root - INFO - model - Training with max_epochs: 500, tol: 1e-06. Initial loss is 1254.5662841796875\n",
      "2018-12-20 20:41:56,344 - root - INFO - model - iter 0 with total loss 1213.55517578125\n",
      "2018-12-20 20:42:45,579 - root - INFO - model - iter 100 with total loss 54.51945877075195\n",
      "2018-12-20 20:43:36,626 - root - INFO - model - iter 200 with total loss 51.37683868408203\n",
      "2018-12-20 20:44:26,279 - root - INFO - model - iter 300 with total loss 49.83615493774414\n",
      "2018-12-20 20:45:20,076 - root - INFO - model - iter 400 with total loss 48.633155822753906\n",
      "2018-12-20 20:46:12,316 - root - INFO - model - Convergence reached in 499 epochs with total loss 49.117977142333984\n"
     ]
    }
   ],
   "source": [
    "reload(M)\n",
    "\n",
    "params = {**base_parameters, **{'max_epochs': 1000, 'optimizer': 'Adadelta'}}\n",
    "models = grid_search_wrapper(params, {'nb_layers': range(1, 6)})\n",
    "\n",
    "#models = [M.JacobyWithConv(**{**params, 'nb_layers': nb_layers}).fit(problem_instances) for nb_layers in [1,2,3,4,5]]\n",
    "#models = [M.JacobyWithConv(**{**params, 'nb_layers': nb_layers}).fit(problem_instances) for nb_layers in [1,2,3,4,5]]"
   ]
  },
  {
   "cell_type": "code",
   "execution_count": 18,
   "metadata": {
    "ExecuteTime": {
     "end_time": "2018-12-20T00:06:01.037853Z",
     "start_time": "2018-12-20T00:06:00.693699Z"
    },
    "hidden": true
   },
   "outputs": [
    {
     "name": "stderr",
     "output_type": "stream",
     "text": [
      "2018-12-20 20:49:14,363 - matplotlib.axes._base - DEBUG - _base - update_title_pos\n",
      "2018-12-20 20:49:14,398 - matplotlib.ticker - DEBUG - ticker - vmin 33.532488305316434 vmax 82060.50019627924\n",
      "2018-12-20 20:49:14,398 - matplotlib.ticker - DEBUG - ticker - ticklocs array([1.e+00, 1.e+01, 1.e+02, 1.e+03, 1.e+04, 1.e+05, 1.e+06])\n",
      "2018-12-20 20:49:14,409 - matplotlib.ticker - DEBUG - ticker - vmin 33.532488305316434 vmax 82060.50019627924\n",
      "2018-12-20 20:49:14,409 - matplotlib.ticker - DEBUG - ticker - ticklocs [2.0, 3.0, 4.0, 5.0, 6.0, 7.0, 8.0, 9.0, 20.0, 30.0, 40.0, 50.0, 60.0, 70.0, 80.0, 90.0, 200.0, 300.0, 400.0, 500.0, 600.0, 700.0, 800.0, 900.0, 2000.0, 3000.0, 4000.0, 5000.0, 6000.0, 7000.0, 8000.0, 9000.0, 20000.0, 30000.0, 40000.0, 50000.0, 60000.0, 70000.0, 80000.0, 90000.0, 200000.0, 300000.0, 400000.0, 500000.0, 600000.0, 700000.0, 800000.0, 900000.0, 2000000.0, 3000000.0, 4000000.0, 5000000.0, 6000000.0, 7000000.0, 8000000.0, 9000000.0]\n",
      "2018-12-20 20:49:14,506 - matplotlib.ticker - DEBUG - ticker - vmin 33.532488305316434 vmax 82060.50019627924\n",
      "2018-12-20 20:49:14,506 - matplotlib.ticker - DEBUG - ticker - ticklocs array([1.e+00, 1.e+01, 1.e+02, 1.e+03, 1.e+04, 1.e+05, 1.e+06])\n",
      "2018-12-20 20:49:14,509 - matplotlib.ticker - DEBUG - ticker - vmin 33.532488305316434 vmax 82060.50019627924\n",
      "2018-12-20 20:49:14,510 - matplotlib.ticker - DEBUG - ticker - ticklocs [2.0, 3.0, 4.0, 5.0, 6.0, 7.0, 8.0, 9.0, 20.0, 30.0, 40.0, 50.0, 60.0, 70.0, 80.0, 90.0, 200.0, 300.0, 400.0, 500.0, 600.0, 700.0, 800.0, 900.0, 2000.0, 3000.0, 4000.0, 5000.0, 6000.0, 7000.0, 8000.0, 9000.0, 20000.0, 30000.0, 40000.0, 50000.0, 60000.0, 70000.0, 80000.0, 90000.0, 200000.0, 300000.0, 400000.0, 500000.0, 600000.0, 700000.0, 800000.0, 900000.0, 2000000.0, 3000000.0, 4000000.0, 5000000.0, 6000000.0, 7000000.0, 8000000.0, 9000000.0]\n"
     ]
    },
    {
     "name": "stdout",
     "output_type": "stream",
     "text": [
      "For K=1 final loss is 330.5162353515625\n",
      "For K=2 final loss is 134.05599975585938\n",
      "For K=3 final loss is 73.68553924560547\n",
      "For K=4 final loss is 56.87120056152344\n",
      "For K=5 final loss is 49.117977142333984\n"
     ]
    },
    {
     "name": "stderr",
     "output_type": "stream",
     "text": [
      "2018-12-20 20:49:14,584 - matplotlib.axes._base - DEBUG - _base - update_title_pos\n",
      "2018-12-20 20:49:14,587 - matplotlib.ticker - DEBUG - ticker - vmin 33.532488305316434 vmax 82060.50019627924\n",
      "2018-12-20 20:49:14,588 - matplotlib.ticker - DEBUG - ticker - ticklocs array([1.e+00, 1.e+01, 1.e+02, 1.e+03, 1.e+04, 1.e+05, 1.e+06])\n",
      "2018-12-20 20:49:14,591 - matplotlib.ticker - DEBUG - ticker - vmin 33.532488305316434 vmax 82060.50019627924\n",
      "2018-12-20 20:49:14,592 - matplotlib.ticker - DEBUG - ticker - ticklocs [2.0, 3.0, 4.0, 5.0, 6.0, 7.0, 8.0, 9.0, 20.0, 30.0, 40.0, 50.0, 60.0, 70.0, 80.0, 90.0, 200.0, 300.0, 400.0, 500.0, 600.0, 700.0, 800.0, 900.0, 2000.0, 3000.0, 4000.0, 5000.0, 6000.0, 7000.0, 8000.0, 9000.0, 20000.0, 30000.0, 40000.0, 50000.0, 60000.0, 70000.0, 80000.0, 90000.0, 200000.0, 300000.0, 400000.0, 500000.0, 600000.0, 700000.0, 800000.0, 900000.0, 2000000.0, 3000000.0, 4000000.0, 5000000.0, 6000000.0, 7000000.0, 8000000.0, 9000000.0]\n",
      "2018-12-20 20:49:14,597 - matplotlib.ticker - DEBUG - ticker - vmin 33.532488305316434 vmax 82060.50019627924\n",
      "2018-12-20 20:49:14,598 - matplotlib.ticker - DEBUG - ticker - ticklocs array([1.e+00, 1.e+01, 1.e+02, 1.e+03, 1.e+04, 1.e+05, 1.e+06])\n",
      "2018-12-20 20:49:14,601 - matplotlib.ticker - DEBUG - ticker - vmin 33.532488305316434 vmax 82060.50019627924\n",
      "2018-12-20 20:49:14,602 - matplotlib.ticker - DEBUG - ticker - ticklocs [2.0, 3.0, 4.0, 5.0, 6.0, 7.0, 8.0, 9.0, 20.0, 30.0, 40.0, 50.0, 60.0, 70.0, 80.0, 90.0, 200.0, 300.0, 400.0, 500.0, 600.0, 700.0, 800.0, 900.0, 2000.0, 3000.0, 4000.0, 5000.0, 6000.0, 7000.0, 8000.0, 9000.0, 20000.0, 30000.0, 40000.0, 50000.0, 60000.0, 70000.0, 80000.0, 90000.0, 200000.0, 300000.0, 400000.0, 500000.0, 600000.0, 700000.0, 800000.0, 900000.0, 2000000.0, 3000000.0, 4000000.0, 5000000.0, 6000000.0, 7000000.0, 8000000.0, 9000000.0]\n",
      "2018-12-20 20:49:14,632 - matplotlib.ticker - DEBUG - ticker - vmin 33.532488305316434 vmax 82060.50019627924\n",
      "2018-12-20 20:49:14,633 - matplotlib.ticker - DEBUG - ticker - ticklocs array([1.e+00, 1.e+01, 1.e+02, 1.e+03, 1.e+04, 1.e+05, 1.e+06])\n",
      "2018-12-20 20:49:14,636 - matplotlib.ticker - DEBUG - ticker - vmin 33.532488305316434 vmax 82060.50019627924\n",
      "2018-12-20 20:49:14,637 - matplotlib.ticker - DEBUG - ticker - ticklocs [2.0, 3.0, 4.0, 5.0, 6.0, 7.0, 8.0, 9.0, 20.0, 30.0, 40.0, 50.0, 60.0, 70.0, 80.0, 90.0, 200.0, 300.0, 400.0, 500.0, 600.0, 700.0, 800.0, 900.0, 2000.0, 3000.0, 4000.0, 5000.0, 6000.0, 7000.0, 8000.0, 9000.0, 20000.0, 30000.0, 40000.0, 50000.0, 60000.0, 70000.0, 80000.0, 90000.0, 200000.0, 300000.0, 400000.0, 500000.0, 600000.0, 700000.0, 800000.0, 900000.0, 2000000.0, 3000000.0, 4000000.0, 5000000.0, 6000000.0, 7000000.0, 8000000.0, 9000000.0]\n",
      "2018-12-20 20:49:14,645 - matplotlib.ticker - DEBUG - ticker - vmin 33.532488305316434 vmax 82060.50019627924\n",
      "2018-12-20 20:49:14,646 - matplotlib.ticker - DEBUG - ticker - ticklocs array([1.e+00, 1.e+01, 1.e+02, 1.e+03, 1.e+04, 1.e+05, 1.e+06])\n",
      "2018-12-20 20:49:14,650 - matplotlib.ticker - DEBUG - ticker - vmin 33.532488305316434 vmax 82060.50019627924\n",
      "2018-12-20 20:49:14,651 - matplotlib.ticker - DEBUG - ticker - ticklocs [2.0, 3.0, 4.0, 5.0, 6.0, 7.0, 8.0, 9.0, 20.0, 30.0, 40.0, 50.0, 60.0, 70.0, 80.0, 90.0, 200.0, 300.0, 400.0, 500.0, 600.0, 700.0, 800.0, 900.0, 2000.0, 3000.0, 4000.0, 5000.0, 6000.0, 7000.0, 8000.0, 9000.0, 20000.0, 30000.0, 40000.0, 50000.0, 60000.0, 70000.0, 80000.0, 90000.0, 200000.0, 300000.0, 400000.0, 500000.0, 600000.0, 700000.0, 800000.0, 900000.0, 2000000.0, 3000000.0, 4000000.0, 5000000.0, 6000000.0, 7000000.0, 8000000.0, 9000000.0]\n",
      "2018-12-20 20:49:14,688 - matplotlib.ticker - DEBUG - ticker - vmin 33.532488305316434 vmax 82060.50019627924\n",
      "2018-12-20 20:49:14,689 - matplotlib.ticker - DEBUG - ticker - ticklocs array([1.e+00, 1.e+01, 1.e+02, 1.e+03, 1.e+04, 1.e+05, 1.e+06])\n",
      "2018-12-20 20:49:14,692 - matplotlib.ticker - DEBUG - ticker - vmin 33.532488305316434 vmax 82060.50019627924\n",
      "2018-12-20 20:49:14,694 - matplotlib.ticker - DEBUG - ticker - ticklocs [2.0, 3.0, 4.0, 5.0, 6.0, 7.0, 8.0, 9.0, 20.0, 30.0, 40.0, 50.0, 60.0, 70.0, 80.0, 90.0, 200.0, 300.0, 400.0, 500.0, 600.0, 700.0, 800.0, 900.0, 2000.0, 3000.0, 4000.0, 5000.0, 6000.0, 7000.0, 8000.0, 9000.0, 20000.0, 30000.0, 40000.0, 50000.0, 60000.0, 70000.0, 80000.0, 90000.0, 200000.0, 300000.0, 400000.0, 500000.0, 600000.0, 700000.0, 800000.0, 900000.0, 2000000.0, 3000000.0, 4000000.0, 5000000.0, 6000000.0, 7000000.0, 8000000.0, 9000000.0]\n",
      "2018-12-20 20:49:14,700 - matplotlib.ticker - DEBUG - ticker - vmin 33.532488305316434 vmax 82060.50019627924\n",
      "2018-12-20 20:49:14,701 - matplotlib.ticker - DEBUG - ticker - ticklocs array([1.e+00, 1.e+01, 1.e+02, 1.e+03, 1.e+04, 1.e+05, 1.e+06])\n",
      "2018-12-20 20:49:14,704 - matplotlib.ticker - DEBUG - ticker - vmin 33.532488305316434 vmax 82060.50019627924\n",
      "2018-12-20 20:49:14,705 - matplotlib.ticker - DEBUG - ticker - ticklocs [2.0, 3.0, 4.0, 5.0, 6.0, 7.0, 8.0, 9.0, 20.0, 30.0, 40.0, 50.0, 60.0, 70.0, 80.0, 90.0, 200.0, 300.0, 400.0, 500.0, 600.0, 700.0, 800.0, 900.0, 2000.0, 3000.0, 4000.0, 5000.0, 6000.0, 7000.0, 8000.0, 9000.0, 20000.0, 30000.0, 40000.0, 50000.0, 60000.0, 70000.0, 80000.0, 90000.0, 200000.0, 300000.0, 400000.0, 500000.0, 600000.0, 700000.0, 800000.0, 900000.0, 2000000.0, 3000000.0, 4000000.0, 5000000.0, 6000000.0, 7000000.0, 8000000.0, 9000000.0]\n",
      "2018-12-20 20:49:14,738 - matplotlib.axes._base - DEBUG - _base - update_title_pos\n",
      "2018-12-20 20:49:14,742 - matplotlib.ticker - DEBUG - ticker - vmin 33.532488305316434 vmax 82060.50019627924\n",
      "2018-12-20 20:49:14,746 - matplotlib.ticker - DEBUG - ticker - ticklocs array([1.e+00, 1.e+01, 1.e+02, 1.e+03, 1.e+04, 1.e+05, 1.e+06])\n",
      "2018-12-20 20:49:14,750 - matplotlib.ticker - DEBUG - ticker - vmin 33.532488305316434 vmax 82060.50019627924\n",
      "2018-12-20 20:49:14,751 - matplotlib.ticker - DEBUG - ticker - ticklocs [2.0, 3.0, 4.0, 5.0, 6.0, 7.0, 8.0, 9.0, 20.0, 30.0, 40.0, 50.0, 60.0, 70.0, 80.0, 90.0, 200.0, 300.0, 400.0, 500.0, 600.0, 700.0, 800.0, 900.0, 2000.0, 3000.0, 4000.0, 5000.0, 6000.0, 7000.0, 8000.0, 9000.0, 20000.0, 30000.0, 40000.0, 50000.0, 60000.0, 70000.0, 80000.0, 90000.0, 200000.0, 300000.0, 400000.0, 500000.0, 600000.0, 700000.0, 800000.0, 900000.0, 2000000.0, 3000000.0, 4000000.0, 5000000.0, 6000000.0, 7000000.0, 8000000.0, 9000000.0]\n",
      "2018-12-20 20:49:14,759 - matplotlib.ticker - DEBUG - ticker - vmin 33.532488305316434 vmax 82060.50019627924\n",
      "2018-12-20 20:49:14,760 - matplotlib.ticker - DEBUG - ticker - ticklocs array([1.e+00, 1.e+01, 1.e+02, 1.e+03, 1.e+04, 1.e+05, 1.e+06])\n",
      "2018-12-20 20:49:14,766 - matplotlib.ticker - DEBUG - ticker - vmin 33.532488305316434 vmax 82060.50019627924\n",
      "2018-12-20 20:49:14,775 - matplotlib.ticker - DEBUG - ticker - ticklocs [2.0, 3.0, 4.0, 5.0, 6.0, 7.0, 8.0, 9.0, 20.0, 30.0, 40.0, 50.0, 60.0, 70.0, 80.0, 90.0, 200.0, 300.0, 400.0, 500.0, 600.0, 700.0, 800.0, 900.0, 2000.0, 3000.0, 4000.0, 5000.0, 6000.0, 7000.0, 8000.0, 9000.0, 20000.0, 30000.0, 40000.0, 50000.0, 60000.0, 70000.0, 80000.0, 90000.0, 200000.0, 300000.0, 400000.0, 500000.0, 600000.0, 700000.0, 800000.0, 900000.0, 2000000.0, 3000000.0, 4000000.0, 5000000.0, 6000000.0, 7000000.0, 8000000.0, 9000000.0]\n",
      "2018-12-20 20:49:14,805 - matplotlib.ticker - DEBUG - ticker - vmin 33.532488305316434 vmax 82060.50019627924\n",
      "2018-12-20 20:49:14,806 - matplotlib.ticker - DEBUG - ticker - ticklocs array([1.e+00, 1.e+01, 1.e+02, 1.e+03, 1.e+04, 1.e+05, 1.e+06])\n",
      "2018-12-20 20:49:14,809 - matplotlib.ticker - DEBUG - ticker - vmin 33.532488305316434 vmax 82060.50019627924\n",
      "2018-12-20 20:49:14,811 - matplotlib.ticker - DEBUG - ticker - ticklocs [2.0, 3.0, 4.0, 5.0, 6.0, 7.0, 8.0, 9.0, 20.0, 30.0, 40.0, 50.0, 60.0, 70.0, 80.0, 90.0, 200.0, 300.0, 400.0, 500.0, 600.0, 700.0, 800.0, 900.0, 2000.0, 3000.0, 4000.0, 5000.0, 6000.0, 7000.0, 8000.0, 9000.0, 20000.0, 30000.0, 40000.0, 50000.0, 60000.0, 70000.0, 80000.0, 90000.0, 200000.0, 300000.0, 400000.0, 500000.0, 600000.0, 700000.0, 800000.0, 900000.0, 2000000.0, 3000000.0, 4000000.0, 5000000.0, 6000000.0, 7000000.0, 8000000.0, 9000000.0]\n",
      "2018-12-20 20:49:14,817 - matplotlib.ticker - DEBUG - ticker - vmin 33.532488305316434 vmax 82060.50019627924\n",
      "2018-12-20 20:49:14,818 - matplotlib.ticker - DEBUG - ticker - ticklocs array([1.e+00, 1.e+01, 1.e+02, 1.e+03, 1.e+04, 1.e+05, 1.e+06])\n"
     ]
    },
    {
     "name": "stderr",
     "output_type": "stream",
     "text": [
      "2018-12-20 20:49:14,821 - matplotlib.ticker - DEBUG - ticker - vmin 33.532488305316434 vmax 82060.50019627924\n",
      "2018-12-20 20:49:14,823 - matplotlib.ticker - DEBUG - ticker - ticklocs [2.0, 3.0, 4.0, 5.0, 6.0, 7.0, 8.0, 9.0, 20.0, 30.0, 40.0, 50.0, 60.0, 70.0, 80.0, 90.0, 200.0, 300.0, 400.0, 500.0, 600.0, 700.0, 800.0, 900.0, 2000.0, 3000.0, 4000.0, 5000.0, 6000.0, 7000.0, 8000.0, 9000.0, 20000.0, 30000.0, 40000.0, 50000.0, 60000.0, 70000.0, 80000.0, 90000.0, 200000.0, 300000.0, 400000.0, 500000.0, 600000.0, 700000.0, 800000.0, 900000.0, 2000000.0, 3000000.0, 4000000.0, 5000000.0, 6000000.0, 7000000.0, 8000000.0, 9000000.0]\n",
      "2018-12-20 20:49:14,848 - matplotlib.axes._base - DEBUG - _base - update_title_pos\n",
      "2018-12-20 20:49:14,881 - matplotlib.ticker - DEBUG - ticker - vmin 33.532488305316434 vmax 82060.50019627924\n",
      "2018-12-20 20:49:14,882 - matplotlib.ticker - DEBUG - ticker - ticklocs array([1.e+00, 1.e+01, 1.e+02, 1.e+03, 1.e+04, 1.e+05, 1.e+06])\n",
      "2018-12-20 20:49:14,887 - matplotlib.ticker - DEBUG - ticker - vmin 33.532488305316434 vmax 82060.50019627924\n",
      "2018-12-20 20:49:14,887 - matplotlib.ticker - DEBUG - ticker - ticklocs [2.0, 3.0, 4.0, 5.0, 6.0, 7.0, 8.0, 9.0, 20.0, 30.0, 40.0, 50.0, 60.0, 70.0, 80.0, 90.0, 200.0, 300.0, 400.0, 500.0, 600.0, 700.0, 800.0, 900.0, 2000.0, 3000.0, 4000.0, 5000.0, 6000.0, 7000.0, 8000.0, 9000.0, 20000.0, 30000.0, 40000.0, 50000.0, 60000.0, 70000.0, 80000.0, 90000.0, 200000.0, 300000.0, 400000.0, 500000.0, 600000.0, 700000.0, 800000.0, 900000.0, 2000000.0, 3000000.0, 4000000.0, 5000000.0, 6000000.0, 7000000.0, 8000000.0, 9000000.0]\n",
      "2018-12-20 20:49:14,948 - matplotlib.ticker - DEBUG - ticker - vmin 33.532488305316434 vmax 82060.50019627924\n",
      "2018-12-20 20:49:14,949 - matplotlib.ticker - DEBUG - ticker - ticklocs array([1.e+00, 1.e+01, 1.e+02, 1.e+03, 1.e+04, 1.e+05, 1.e+06])\n",
      "2018-12-20 20:49:14,952 - matplotlib.ticker - DEBUG - ticker - vmin 33.532488305316434 vmax 82060.50019627924\n",
      "2018-12-20 20:49:14,952 - matplotlib.ticker - DEBUG - ticker - ticklocs [2.0, 3.0, 4.0, 5.0, 6.0, 7.0, 8.0, 9.0, 20.0, 30.0, 40.0, 50.0, 60.0, 70.0, 80.0, 90.0, 200.0, 300.0, 400.0, 500.0, 600.0, 700.0, 800.0, 900.0, 2000.0, 3000.0, 4000.0, 5000.0, 6000.0, 7000.0, 8000.0, 9000.0, 20000.0, 30000.0, 40000.0, 50000.0, 60000.0, 70000.0, 80000.0, 90000.0, 200000.0, 300000.0, 400000.0, 500000.0, 600000.0, 700000.0, 800000.0, 900000.0, 2000000.0, 3000000.0, 4000000.0, 5000000.0, 6000000.0, 7000000.0, 8000000.0, 9000000.0]\n",
      "2018-12-20 20:49:15,012 - matplotlib.axes._base - DEBUG - _base - update_title_pos\n",
      "2018-12-20 20:49:15,032 - matplotlib.ticker - DEBUG - ticker - vmin 33.532488305316434 vmax 82060.50019627924\n",
      "2018-12-20 20:49:15,033 - matplotlib.ticker - DEBUG - ticker - ticklocs array([1.e+00, 1.e+01, 1.e+02, 1.e+03, 1.e+04, 1.e+05, 1.e+06])\n",
      "2018-12-20 20:49:15,035 - matplotlib.ticker - DEBUG - ticker - vmin 33.532488305316434 vmax 82060.50019627924\n",
      "2018-12-20 20:49:15,036 - matplotlib.ticker - DEBUG - ticker - ticklocs [2.0, 3.0, 4.0, 5.0, 6.0, 7.0, 8.0, 9.0, 20.0, 30.0, 40.0, 50.0, 60.0, 70.0, 80.0, 90.0, 200.0, 300.0, 400.0, 500.0, 600.0, 700.0, 800.0, 900.0, 2000.0, 3000.0, 4000.0, 5000.0, 6000.0, 7000.0, 8000.0, 9000.0, 20000.0, 30000.0, 40000.0, 50000.0, 60000.0, 70000.0, 80000.0, 90000.0, 200000.0, 300000.0, 400000.0, 500000.0, 600000.0, 700000.0, 800000.0, 900000.0, 2000000.0, 3000000.0, 4000000.0, 5000000.0, 6000000.0, 7000000.0, 8000000.0, 9000000.0]\n",
      "2018-12-20 20:49:15,090 - matplotlib.ticker - DEBUG - ticker - vmin 33.532488305316434 vmax 82060.50019627924\n",
      "2018-12-20 20:49:15,091 - matplotlib.ticker - DEBUG - ticker - ticklocs array([1.e+00, 1.e+01, 1.e+02, 1.e+03, 1.e+04, 1.e+05, 1.e+06])\n",
      "2018-12-20 20:49:15,093 - matplotlib.ticker - DEBUG - ticker - vmin 33.532488305316434 vmax 82060.50019627924\n",
      "2018-12-20 20:49:15,095 - matplotlib.ticker - DEBUG - ticker - ticklocs [2.0, 3.0, 4.0, 5.0, 6.0, 7.0, 8.0, 9.0, 20.0, 30.0, 40.0, 50.0, 60.0, 70.0, 80.0, 90.0, 200.0, 300.0, 400.0, 500.0, 600.0, 700.0, 800.0, 900.0, 2000.0, 3000.0, 4000.0, 5000.0, 6000.0, 7000.0, 8000.0, 9000.0, 20000.0, 30000.0, 40000.0, 50000.0, 60000.0, 70000.0, 80000.0, 90000.0, 200000.0, 300000.0, 400000.0, 500000.0, 600000.0, 700000.0, 800000.0, 900000.0, 2000000.0, 3000000.0, 4000000.0, 5000000.0, 6000000.0, 7000000.0, 8000000.0, 9000000.0]\n",
      "2018-12-20 20:49:15,151 - matplotlib.ticker - DEBUG - ticker - vmin 33.532488305316434 vmax 82060.50019627924\n",
      "2018-12-20 20:49:15,152 - matplotlib.ticker - DEBUG - ticker - ticklocs array([1.e+00, 1.e+01, 1.e+02, 1.e+03, 1.e+04, 1.e+05, 1.e+06])\n",
      "2018-12-20 20:49:15,154 - matplotlib.axes._base - DEBUG - _base - update_title_pos\n",
      "2018-12-20 20:49:15,173 - matplotlib.ticker - DEBUG - ticker - vmin 33.532488305316434 vmax 82060.50019627924\n",
      "2018-12-20 20:49:15,174 - matplotlib.ticker - DEBUG - ticker - ticklocs array([1.e+00, 1.e+01, 1.e+02, 1.e+03, 1.e+04, 1.e+05, 1.e+06])\n",
      "2018-12-20 20:49:15,176 - matplotlib.ticker - DEBUG - ticker - vmin 33.532488305316434 vmax 82060.50019627924\n",
      "2018-12-20 20:49:15,177 - matplotlib.ticker - DEBUG - ticker - ticklocs [2.0, 3.0, 4.0, 5.0, 6.0, 7.0, 8.0, 9.0, 20.0, 30.0, 40.0, 50.0, 60.0, 70.0, 80.0, 90.0, 200.0, 300.0, 400.0, 500.0, 600.0, 700.0, 800.0, 900.0, 2000.0, 3000.0, 4000.0, 5000.0, 6000.0, 7000.0, 8000.0, 9000.0, 20000.0, 30000.0, 40000.0, 50000.0, 60000.0, 70000.0, 80000.0, 90000.0, 200000.0, 300000.0, 400000.0, 500000.0, 600000.0, 700000.0, 800000.0, 900000.0, 2000000.0, 3000000.0, 4000000.0, 5000000.0, 6000000.0, 7000000.0, 8000000.0, 9000000.0]\n",
      "2018-12-20 20:49:15,212 - matplotlib.ticker - DEBUG - ticker - vmin 33.532488305316434 vmax 82060.50019627924\n",
      "2018-12-20 20:49:15,212 - matplotlib.ticker - DEBUG - ticker - ticklocs array([1.e+00, 1.e+01, 1.e+02, 1.e+03, 1.e+04, 1.e+05, 1.e+06])\n",
      "2018-12-20 20:49:15,215 - matplotlib.ticker - DEBUG - ticker - vmin 33.532488305316434 vmax 82060.50019627924\n",
      "2018-12-20 20:49:15,215 - matplotlib.ticker - DEBUG - ticker - ticklocs [2.0, 3.0, 4.0, 5.0, 6.0, 7.0, 8.0, 9.0, 20.0, 30.0, 40.0, 50.0, 60.0, 70.0, 80.0, 90.0, 200.0, 300.0, 400.0, 500.0, 600.0, 700.0, 800.0, 900.0, 2000.0, 3000.0, 4000.0, 5000.0, 6000.0, 7000.0, 8000.0, 9000.0, 20000.0, 30000.0, 40000.0, 50000.0, 60000.0, 70000.0, 80000.0, 90000.0, 200000.0, 300000.0, 400000.0, 500000.0, 600000.0, 700000.0, 800000.0, 900000.0, 2000000.0, 3000000.0, 4000000.0, 5000000.0, 6000000.0, 7000000.0, 8000000.0, 9000000.0]\n",
      "2018-12-20 20:49:15,266 - matplotlib.axes._base - DEBUG - _base - update_title_pos\n",
      "2018-12-20 20:49:15,268 - matplotlib.ticker - DEBUG - ticker - vmin 33.532488305316434 vmax 82060.50019627924\n",
      "2018-12-20 20:49:15,269 - matplotlib.ticker - DEBUG - ticker - ticklocs array([1.e+00, 1.e+01, 1.e+02, 1.e+03, 1.e+04, 1.e+05, 1.e+06])\n",
      "2018-12-20 20:49:15,271 - matplotlib.ticker - DEBUG - ticker - vmin 33.532488305316434 vmax 82060.50019627924\n",
      "2018-12-20 20:49:15,272 - matplotlib.ticker - DEBUG - ticker - ticklocs [2.0, 3.0, 4.0, 5.0, 6.0, 7.0, 8.0, 9.0, 20.0, 30.0, 40.0, 50.0, 60.0, 70.0, 80.0, 90.0, 200.0, 300.0, 400.0, 500.0, 600.0, 700.0, 800.0, 900.0, 2000.0, 3000.0, 4000.0, 5000.0, 6000.0, 7000.0, 8000.0, 9000.0, 20000.0, 30000.0, 40000.0, 50000.0, 60000.0, 70000.0, 80000.0, 90000.0, 200000.0, 300000.0, 400000.0, 500000.0, 600000.0, 700000.0, 800000.0, 900000.0, 2000000.0, 3000000.0, 4000000.0, 5000000.0, 6000000.0, 7000000.0, 8000000.0, 9000000.0]\n",
      "2018-12-20 20:49:15,276 - matplotlib.ticker - DEBUG - ticker - vmin 33.532488305316434 vmax 82060.50019627924\n",
      "2018-12-20 20:49:15,277 - matplotlib.ticker - DEBUG - ticker - ticklocs array([1.e+00, 1.e+01, 1.e+02, 1.e+03, 1.e+04, 1.e+05, 1.e+06])\n",
      "2018-12-20 20:49:15,279 - matplotlib.ticker - DEBUG - ticker - vmin 33.532488305316434 vmax 82060.50019627924\n",
      "2018-12-20 20:49:15,280 - matplotlib.ticker - DEBUG - ticker - ticklocs [2.0, 3.0, 4.0, 5.0, 6.0, 7.0, 8.0, 9.0, 20.0, 30.0, 40.0, 50.0, 60.0, 70.0, 80.0, 90.0, 200.0, 300.0, 400.0, 500.0, 600.0, 700.0, 800.0, 900.0, 2000.0, 3000.0, 4000.0, 5000.0, 6000.0, 7000.0, 8000.0, 9000.0, 20000.0, 30000.0, 40000.0, 50000.0, 60000.0, 70000.0, 80000.0, 90000.0, 200000.0, 300000.0, 400000.0, 500000.0, 600000.0, 700000.0, 800000.0, 900000.0, 2000000.0, 3000000.0, 4000000.0, 5000000.0, 6000000.0, 7000000.0, 8000000.0, 9000000.0]\n"
     ]
    },
    {
     "name": "stderr",
     "output_type": "stream",
     "text": [
      "2018-12-20 20:49:15,303 - matplotlib.ticker - DEBUG - ticker - vmin 33.532488305316434 vmax 82060.50019627924\n",
      "2018-12-20 20:49:15,303 - matplotlib.ticker - DEBUG - ticker - ticklocs array([1.e+00, 1.e+01, 1.e+02, 1.e+03, 1.e+04, 1.e+05, 1.e+06])\n",
      "2018-12-20 20:49:15,306 - matplotlib.ticker - DEBUG - ticker - vmin 33.532488305316434 vmax 82060.50019627924\n",
      "2018-12-20 20:49:15,307 - matplotlib.ticker - DEBUG - ticker - ticklocs [2.0, 3.0, 4.0, 5.0, 6.0, 7.0, 8.0, 9.0, 20.0, 30.0, 40.0, 50.0, 60.0, 70.0, 80.0, 90.0, 200.0, 300.0, 400.0, 500.0, 600.0, 700.0, 800.0, 900.0, 2000.0, 3000.0, 4000.0, 5000.0, 6000.0, 7000.0, 8000.0, 9000.0, 20000.0, 30000.0, 40000.0, 50000.0, 60000.0, 70000.0, 80000.0, 90000.0, 200000.0, 300000.0, 400000.0, 500000.0, 600000.0, 700000.0, 800000.0, 900000.0, 2000000.0, 3000000.0, 4000000.0, 5000000.0, 6000000.0, 7000000.0, 8000000.0, 9000000.0]\n",
      "2018-12-20 20:49:15,315 - matplotlib.ticker - DEBUG - ticker - vmin 33.532488305316434 vmax 82060.50019627924\n",
      "2018-12-20 20:49:15,315 - matplotlib.ticker - DEBUG - ticker - ticklocs array([1.e+00, 1.e+01, 1.e+02, 1.e+03, 1.e+04, 1.e+05, 1.e+06])\n",
      "2018-12-20 20:49:15,318 - matplotlib.ticker - DEBUG - ticker - vmin 33.532488305316434 vmax 82060.50019627924\n",
      "2018-12-20 20:49:15,320 - matplotlib.ticker - DEBUG - ticker - ticklocs [2.0, 3.0, 4.0, 5.0, 6.0, 7.0, 8.0, 9.0, 20.0, 30.0, 40.0, 50.0, 60.0, 70.0, 80.0, 90.0, 200.0, 300.0, 400.0, 500.0, 600.0, 700.0, 800.0, 900.0, 2000.0, 3000.0, 4000.0, 5000.0, 6000.0, 7000.0, 8000.0, 9000.0, 20000.0, 30000.0, 40000.0, 50000.0, 60000.0, 70000.0, 80000.0, 90000.0, 200000.0, 300000.0, 400000.0, 500000.0, 600000.0, 700000.0, 800000.0, 900000.0, 2000000.0, 3000000.0, 4000000.0, 5000000.0, 6000000.0, 7000000.0, 8000000.0, 9000000.0]\n",
      "2018-12-20 20:49:15,345 - matplotlib.ticker - DEBUG - ticker - vmin 33.532488305316434 vmax 82060.50019627924\n",
      "2018-12-20 20:49:15,346 - matplotlib.ticker - DEBUG - ticker - ticklocs array([1.e+00, 1.e+01, 1.e+02, 1.e+03, 1.e+04, 1.e+05, 1.e+06])\n",
      "2018-12-20 20:49:15,348 - matplotlib.ticker - DEBUG - ticker - vmin 33.532488305316434 vmax 82060.50019627924\n",
      "2018-12-20 20:49:15,350 - matplotlib.ticker - DEBUG - ticker - ticklocs [2.0, 3.0, 4.0, 5.0, 6.0, 7.0, 8.0, 9.0, 20.0, 30.0, 40.0, 50.0, 60.0, 70.0, 80.0, 90.0, 200.0, 300.0, 400.0, 500.0, 600.0, 700.0, 800.0, 900.0, 2000.0, 3000.0, 4000.0, 5000.0, 6000.0, 7000.0, 8000.0, 9000.0, 20000.0, 30000.0, 40000.0, 50000.0, 60000.0, 70000.0, 80000.0, 90000.0, 200000.0, 300000.0, 400000.0, 500000.0, 600000.0, 700000.0, 800000.0, 900000.0, 2000000.0, 3000000.0, 4000000.0, 5000000.0, 6000000.0, 7000000.0, 8000000.0, 9000000.0]\n",
      "2018-12-20 20:49:15,355 - matplotlib.ticker - DEBUG - ticker - vmin 33.532488305316434 vmax 82060.50019627924\n",
      "2018-12-20 20:49:15,356 - matplotlib.ticker - DEBUG - ticker - ticklocs array([1.e+00, 1.e+01, 1.e+02, 1.e+03, 1.e+04, 1.e+05, 1.e+06])\n",
      "2018-12-20 20:49:15,366 - matplotlib.ticker - DEBUG - ticker - vmin 33.532488305316434 vmax 82060.50019627924\n",
      "2018-12-20 20:49:15,367 - matplotlib.ticker - DEBUG - ticker - ticklocs [2.0, 3.0, 4.0, 5.0, 6.0, 7.0, 8.0, 9.0, 20.0, 30.0, 40.0, 50.0, 60.0, 70.0, 80.0, 90.0, 200.0, 300.0, 400.0, 500.0, 600.0, 700.0, 800.0, 900.0, 2000.0, 3000.0, 4000.0, 5000.0, 6000.0, 7000.0, 8000.0, 9000.0, 20000.0, 30000.0, 40000.0, 50000.0, 60000.0, 70000.0, 80000.0, 90000.0, 200000.0, 300000.0, 400000.0, 500000.0, 600000.0, 700000.0, 800000.0, 900000.0, 2000000.0, 3000000.0, 4000000.0, 5000000.0, 6000000.0, 7000000.0, 8000000.0, 9000000.0]\n",
      "2018-12-20 20:49:15,391 - matplotlib.axes._base - DEBUG - _base - update_title_pos\n",
      "2018-12-20 20:49:15,394 - matplotlib.ticker - DEBUG - ticker - vmin 33.532488305316434 vmax 82060.50019627924\n",
      "2018-12-20 20:49:15,395 - matplotlib.ticker - DEBUG - ticker - ticklocs array([1.e+00, 1.e+01, 1.e+02, 1.e+03, 1.e+04, 1.e+05, 1.e+06])\n",
      "2018-12-20 20:49:15,398 - matplotlib.ticker - DEBUG - ticker - vmin 33.532488305316434 vmax 82060.50019627924\n",
      "2018-12-20 20:49:15,398 - matplotlib.ticker - DEBUG - ticker - ticklocs [2.0, 3.0, 4.0, 5.0, 6.0, 7.0, 8.0, 9.0, 20.0, 30.0, 40.0, 50.0, 60.0, 70.0, 80.0, 90.0, 200.0, 300.0, 400.0, 500.0, 600.0, 700.0, 800.0, 900.0, 2000.0, 3000.0, 4000.0, 5000.0, 6000.0, 7000.0, 8000.0, 9000.0, 20000.0, 30000.0, 40000.0, 50000.0, 60000.0, 70000.0, 80000.0, 90000.0, 200000.0, 300000.0, 400000.0, 500000.0, 600000.0, 700000.0, 800000.0, 900000.0, 2000000.0, 3000000.0, 4000000.0, 5000000.0, 6000000.0, 7000000.0, 8000000.0, 9000000.0]\n",
      "2018-12-20 20:49:15,403 - matplotlib.ticker - DEBUG - ticker - vmin 33.532488305316434 vmax 82060.50019627924\n",
      "2018-12-20 20:49:15,404 - matplotlib.ticker - DEBUG - ticker - ticklocs array([1.e+00, 1.e+01, 1.e+02, 1.e+03, 1.e+04, 1.e+05, 1.e+06])\n",
      "2018-12-20 20:49:15,407 - matplotlib.ticker - DEBUG - ticker - vmin 33.532488305316434 vmax 82060.50019627924\n",
      "2018-12-20 20:49:15,410 - matplotlib.ticker - DEBUG - ticker - ticklocs [2.0, 3.0, 4.0, 5.0, 6.0, 7.0, 8.0, 9.0, 20.0, 30.0, 40.0, 50.0, 60.0, 70.0, 80.0, 90.0, 200.0, 300.0, 400.0, 500.0, 600.0, 700.0, 800.0, 900.0, 2000.0, 3000.0, 4000.0, 5000.0, 6000.0, 7000.0, 8000.0, 9000.0, 20000.0, 30000.0, 40000.0, 50000.0, 60000.0, 70000.0, 80000.0, 90000.0, 200000.0, 300000.0, 400000.0, 500000.0, 600000.0, 700000.0, 800000.0, 900000.0, 2000000.0, 3000000.0, 4000000.0, 5000000.0, 6000000.0, 7000000.0, 8000000.0, 9000000.0]\n",
      "2018-12-20 20:49:15,434 - matplotlib.ticker - DEBUG - ticker - vmin 33.532488305316434 vmax 82060.50019627924\n",
      "2018-12-20 20:49:15,435 - matplotlib.ticker - DEBUG - ticker - ticklocs array([1.e+00, 1.e+01, 1.e+02, 1.e+03, 1.e+04, 1.e+05, 1.e+06])\n",
      "2018-12-20 20:49:15,437 - matplotlib.ticker - DEBUG - ticker - vmin 33.532488305316434 vmax 82060.50019627924\n",
      "2018-12-20 20:49:15,438 - matplotlib.ticker - DEBUG - ticker - ticklocs [2.0, 3.0, 4.0, 5.0, 6.0, 7.0, 8.0, 9.0, 20.0, 30.0, 40.0, 50.0, 60.0, 70.0, 80.0, 90.0, 200.0, 300.0, 400.0, 500.0, 600.0, 700.0, 800.0, 900.0, 2000.0, 3000.0, 4000.0, 5000.0, 6000.0, 7000.0, 8000.0, 9000.0, 20000.0, 30000.0, 40000.0, 50000.0, 60000.0, 70000.0, 80000.0, 90000.0, 200000.0, 300000.0, 400000.0, 500000.0, 600000.0, 700000.0, 800000.0, 900000.0, 2000000.0, 3000000.0, 4000000.0, 5000000.0, 6000000.0, 7000000.0, 8000000.0, 9000000.0]\n",
      "2018-12-20 20:49:15,442 - matplotlib.ticker - DEBUG - ticker - vmin 33.532488305316434 vmax 82060.50019627924\n",
      "2018-12-20 20:49:15,444 - matplotlib.ticker - DEBUG - ticker - ticklocs array([1.e+00, 1.e+01, 1.e+02, 1.e+03, 1.e+04, 1.e+05, 1.e+06])\n",
      "2018-12-20 20:49:15,447 - matplotlib.ticker - DEBUG - ticker - vmin 33.532488305316434 vmax 82060.50019627924\n",
      "2018-12-20 20:49:15,448 - matplotlib.ticker - DEBUG - ticker - ticklocs [2.0, 3.0, 4.0, 5.0, 6.0, 7.0, 8.0, 9.0, 20.0, 30.0, 40.0, 50.0, 60.0, 70.0, 80.0, 90.0, 200.0, 300.0, 400.0, 500.0, 600.0, 700.0, 800.0, 900.0, 2000.0, 3000.0, 4000.0, 5000.0, 6000.0, 7000.0, 8000.0, 9000.0, 20000.0, 30000.0, 40000.0, 50000.0, 60000.0, 70000.0, 80000.0, 90000.0, 200000.0, 300000.0, 400000.0, 500000.0, 600000.0, 700000.0, 800000.0, 900000.0, 2000000.0, 3000000.0, 4000000.0, 5000000.0, 6000000.0, 7000000.0, 8000000.0, 9000000.0]\n",
      "2018-12-20 20:49:15,465 - matplotlib.axes._base - DEBUG - _base - update_title_pos\n",
      "2018-12-20 20:49:15,487 - matplotlib.ticker - DEBUG - ticker - vmin 33.532488305316434 vmax 82060.50019627924\n",
      "2018-12-20 20:49:15,488 - matplotlib.ticker - DEBUG - ticker - ticklocs array([1.e+00, 1.e+01, 1.e+02, 1.e+03, 1.e+04, 1.e+05, 1.e+06])\n",
      "2018-12-20 20:49:15,491 - matplotlib.ticker - DEBUG - ticker - vmin 33.532488305316434 vmax 82060.50019627924\n",
      "2018-12-20 20:49:15,492 - matplotlib.ticker - DEBUG - ticker - ticklocs [2.0, 3.0, 4.0, 5.0, 6.0, 7.0, 8.0, 9.0, 20.0, 30.0, 40.0, 50.0, 60.0, 70.0, 80.0, 90.0, 200.0, 300.0, 400.0, 500.0, 600.0, 700.0, 800.0, 900.0, 2000.0, 3000.0, 4000.0, 5000.0, 6000.0, 7000.0, 8000.0, 9000.0, 20000.0, 30000.0, 40000.0, 50000.0, 60000.0, 70000.0, 80000.0, 90000.0, 200000.0, 300000.0, 400000.0, 500000.0, 600000.0, 700000.0, 800000.0, 900000.0, 2000000.0, 3000000.0, 4000000.0, 5000000.0, 6000000.0, 7000000.0, 8000000.0, 9000000.0]\n",
      "2018-12-20 20:49:15,551 - matplotlib.ticker - DEBUG - ticker - vmin 33.532488305316434 vmax 82060.50019627924\n",
      "2018-12-20 20:49:15,552 - matplotlib.ticker - DEBUG - ticker - ticklocs array([1.e+00, 1.e+01, 1.e+02, 1.e+03, 1.e+04, 1.e+05, 1.e+06])\n"
     ]
    },
    {
     "name": "stderr",
     "output_type": "stream",
     "text": [
      "2018-12-20 20:49:15,554 - matplotlib.ticker - DEBUG - ticker - vmin 33.532488305316434 vmax 82060.50019627924\n",
      "2018-12-20 20:49:15,555 - matplotlib.ticker - DEBUG - ticker - ticklocs [2.0, 3.0, 4.0, 5.0, 6.0, 7.0, 8.0, 9.0, 20.0, 30.0, 40.0, 50.0, 60.0, 70.0, 80.0, 90.0, 200.0, 300.0, 400.0, 500.0, 600.0, 700.0, 800.0, 900.0, 2000.0, 3000.0, 4000.0, 5000.0, 6000.0, 7000.0, 8000.0, 9000.0, 20000.0, 30000.0, 40000.0, 50000.0, 60000.0, 70000.0, 80000.0, 90000.0, 200000.0, 300000.0, 400000.0, 500000.0, 600000.0, 700000.0, 800000.0, 900000.0, 2000000.0, 3000000.0, 4000000.0, 5000000.0, 6000000.0, 7000000.0, 8000000.0, 9000000.0]\n"
     ]
    },
    {
     "data": {
      "image/png": "[encoded data removed]",
      "text/plain": [
       "<Figure size 432x288 with 1 Axes>"
      ]
     },
     "metadata": {
      "needs_background": "light"
     },
     "output_type": "display_data"
    }
   ],
   "source": [
    "# Colors for plotting\n",
    "color_map = plt.get_cmap('cubehelix')\n",
    "colors = color_map(np.linspace(0.1, 1, 10))\n",
    "\n",
    "# Initilize figure\n",
    "comparison_K_fig = plt.figure()\n",
    "\n",
    "# Plot SGD\n",
    "i = 0\n",
    "for model in models[:]:  \n",
    "    n_epoch = np.arange(np.shape(model.losses)[0])\n",
    "    plt.semilogy(n_epoch, model.losses, color=colors[i], linewidth=1, linestyle=\"-\", marker=(i+2, 0, 0), markevery=100, label = '$K= {0} $'.format(model.nb_layers))\n",
    "    print(\"For K={0} final loss is {1}\".format(model.nb_layers, model.losses[-1]))\n",
    "    i += 1\n",
    "\n",
    "# Additional settings\n",
    "plt.legend(bbox_to_anchor=(1.05, 0.31), loc=3, borderaxespad=0.)\n",
    "plt.xlabel('n epochs', fontsize=14)\n",
    "plt.ylabel('Total loss [-]', fontsize=14)\n",
    "plt.xlim([0, 300])\n",
    "#plt.ylim([0, 800])\n",
    "plt.title('Loss evolution for different $K$ \\n $|\\mathcal{D}|=50$, $|\\mathcal{B}|=10$, Adadelta, max epochs=1000')\n",
    "plt.grid(True, which = \"both\", linewidth = 0.5,  linestyle = \"--\")\n",
    "\n",
    "#comparison_K_fig.savefig('../report/figs/comparison_K.eps', bbox_inches='tight')\n",
    "plt.draw()\n",
    "plt.show()"
   ]
  },
  {
   "cell_type": "markdown",
   "metadata": {
    "ein.tags": "worksheet-0",
    "heading_collapsed": true,
    "slideshow": {
     "slide_type": "-"
    }
   },
   "source": [
    "# Test on a bigger grid"
   ]
  },
  {
   "cell_type": "code",
   "execution_count": 20,
   "metadata": {
    "ExecuteTime": {
     "end_time": "2018-12-18T13:38:54.018812Z",
     "start_time": "2018-12-18T13:38:50.992107Z"
    },
    "autoscroll": false,
    "ein.hycell": false,
    "ein.tags": "worksheet-0",
    "hidden": true,
    "slideshow": {
     "slide_type": "-"
    }
   },
   "outputs": [
    {
     "name": "stdout",
     "output_type": "stream",
     "text": [
      "Error after 2000 iterations for Jacobi method: 33.64340591430664\n",
      "Error after 2000 iterations for H method with K=1: 7.877284957658048e-08\n",
      "Error after 2000 iterations for H method with K=2: 1.012134731581682e-07\n",
      "Error after 2000 iterations for H method with K=3: 1.0014544926661983e-07\n",
      "Error after 2000 iterations for H method with K=4: 1.0188784216325075e-07\n",
      "Error after 2000 iterations for H method with K=5: 1.0089386393019595e-07\n"
     ]
    }
   ],
   "source": [
    "# Grid size NxN\n",
    "N = 64\n",
    "\n",
    "# Use sufficiently high number of iterations to get ground truth solution\n",
    "k_ground_truth = 20000\n",
    "\n",
    "# Initialize Laplace problem on Square geometry\n",
    "problem = DirichletProblem(N=N, k_ground_truth=20000)\n",
    "B_idx = problem.B_idx\n",
    "B = problem.B\n",
    "f = problem.f\n",
    "\n",
    "# Obtain solutions\n",
    "ground_truth = problem.ground_truth\n",
    "\n",
    "# Set initial_u equal for Jacobi method and for H method\n",
    "initial_u = torch.ones(1,1,N,N)\n",
    "k = 2000\n",
    "\n",
    "# Obtain solution with Jacobi method\n",
    "u_jacobi = im.jacobi_method(B_idx, B, f, initial_u, k = 2000)\n",
    "print(f\"Error after {k} iterations for Jacobi method: {LSE(ground_truth, u_jacobi)}\")\n",
    "\n",
    "# For each K obtain \n",
    "for model in models:\n",
    "    u_H = im.H_method(model.net, B_idx, B, f, initial_u, k = 2000)\n",
    "    print(f\"Error after {k} iterations for H method with K={model.nb_layers}: {LSE(ground_truth, u_H)}\")"
   ]
  },
  {
   "cell_type": "markdown",
   "metadata": {},
   "source": [
    "# Plotting solutions for domain shapes "
   ]
  },
  {
   "cell_type": "markdown",
   "metadata": {
    "heading_collapsed": true
   },
   "source": [
    "## Plot Square Domain"
   ]
  },
  {
   "cell_type": "code",
   "execution_count": 42,
   "metadata": {
    "hidden": true
   },
   "outputs": [
    {
     "name": "stderr",
     "output_type": "stream",
     "text": [
      "2018-12-20 21:27:59,098 - matplotlib.colorbar - DEBUG - colorbar - locator: <matplotlib.colorbar._ColorbarAutoLocator object at 0x7fecf075c6d8>\n",
      "2018-12-20 21:27:59,099 - matplotlib.colorbar - DEBUG - colorbar - Using auto colorbar locator on colorbar\n",
      "2018-12-20 21:27:59,100 - matplotlib.colorbar - DEBUG - colorbar - locator: <matplotlib.colorbar._ColorbarAutoLocator object at 0x7fecf075c6d8>\n",
      "2018-12-20 21:27:59,100 - matplotlib.colorbar - DEBUG - colorbar - Setting pcolormesh\n",
      "2018-12-20 21:27:59,104 - matplotlib.axes._base - DEBUG - _base - update_title_pos\n",
      "2018-12-20 21:27:59,163 - matplotlib.axes._base - DEBUG - _base - update_title_pos\n",
      "2018-12-20 21:27:59,189 - matplotlib.axes._base - DEBUG - _base - update_title_pos\n",
      "2018-12-20 21:27:59,205 - matplotlib.axes._base - DEBUG - _base - update_title_pos\n",
      "2018-12-20 21:27:59,251 - matplotlib.axes._base - DEBUG - _base - update_title_pos\n",
      "2018-12-20 21:27:59,270 - matplotlib.axes._base - DEBUG - _base - update_title_pos\n",
      "2018-12-20 21:27:59,287 - matplotlib.axes._base - DEBUG - _base - update_title_pos\n",
      "2018-12-20 21:27:59,325 - matplotlib.axes._base - DEBUG - _base - update_title_pos\n",
      "2018-12-20 21:27:59,352 - matplotlib.axes._base - DEBUG - _base - update_title_pos\n",
      "2018-12-20 21:27:59,394 - matplotlib.axes._base - DEBUG - _base - update_title_pos\n",
      "2018-12-20 21:27:59,411 - matplotlib.axes._base - DEBUG - _base - update_title_pos\n",
      "2018-12-20 21:27:59,440 - matplotlib.axes._base - DEBUG - _base - update_title_pos\n",
      "2018-12-20 21:27:59,480 - matplotlib.axes._base - DEBUG - _base - update_title_pos\n",
      "2018-12-20 21:27:59,500 - matplotlib.axes._base - DEBUG - _base - update_title_pos\n",
      "2018-12-20 21:27:59,536 - matplotlib.axes._base - DEBUG - _base - update_title_pos\n",
      "2018-12-20 21:27:59,556 - matplotlib.axes._base - DEBUG - _base - update_title_pos\n",
      "2018-12-20 21:27:59,568 - matplotlib.axes._base - DEBUG - _base - update_title_pos\n",
      "2018-12-20 21:27:59,595 - matplotlib.axes._base - DEBUG - _base - update_title_pos\n"
     ]
    },
    {
     "data": {
      "image/png": "[encoded data removed]",
      "text/plain": [
       "<Figure size 432x288 with 2 Axes>"
      ]
     },
     "metadata": {
      "needs_background": "light"
     },
     "output_type": "display_data"
    }
   ],
   "source": [
    "problem_square = DirichletProblem(N=N, k_ground_truth=20000)\n",
    "ground_truth_square = problem_square.ground_truth.view(N, N).numpy()\n",
    "\n",
    "square_fig = plt.figure()\n",
    "im = plt.imshow(ground_truth_square)\n",
    "plt.title(\"Square domain.\")\n",
    "plt.colorbar(im)\n",
    "\n",
    "#square_fig.savefig('../report/figs/square.eps', bbox_inches='tight')\n",
    "plt.draw()\n",
    "plt.show()"
   ]
  },
  {
   "cell_type": "markdown",
   "metadata": {
    "heading_collapsed": true
   },
   "source": [
    "## Plot L shape"
   ]
  },
  {
   "cell_type": "code",
   "execution_count": 44,
   "metadata": {
    "hidden": true
   },
   "outputs": [
    {
     "name": "stderr",
     "output_type": "stream",
     "text": [
      "2018-12-20 21:28:41,364 - matplotlib.colorbar - DEBUG - colorbar - locator: <matplotlib.colorbar._ColorbarAutoLocator object at 0x7fecf0534080>\n",
      "2018-12-20 21:28:41,365 - matplotlib.colorbar - DEBUG - colorbar - Using auto colorbar locator on colorbar\n",
      "2018-12-20 21:28:41,365 - matplotlib.colorbar - DEBUG - colorbar - locator: <matplotlib.colorbar._ColorbarAutoLocator object at 0x7fecf0534080>\n",
      "2018-12-20 21:28:41,366 - matplotlib.colorbar - DEBUG - colorbar - Setting pcolormesh\n",
      "2018-12-20 21:28:41,370 - matplotlib.axes._base - DEBUG - _base - update_title_pos\n",
      "2018-12-20 21:28:41,416 - matplotlib.axes._base - DEBUG - _base - update_title_pos\n",
      "2018-12-20 21:28:41,445 - matplotlib.axes._base - DEBUG - _base - update_title_pos\n",
      "2018-12-20 21:28:41,468 - matplotlib.axes._base - DEBUG - _base - update_title_pos\n",
      "2018-12-20 21:28:41,515 - matplotlib.axes._base - DEBUG - _base - update_title_pos\n",
      "2018-12-20 21:28:41,539 - matplotlib.axes._base - DEBUG - _base - update_title_pos\n",
      "2018-12-20 21:28:41,554 - matplotlib.axes._base - DEBUG - _base - update_title_pos\n",
      "2018-12-20 21:28:41,599 - matplotlib.axes._base - DEBUG - _base - update_title_pos\n",
      "2018-12-20 21:28:41,621 - matplotlib.axes._base - DEBUG - _base - update_title_pos\n",
      "2018-12-20 21:28:41,660 - matplotlib.axes._base - DEBUG - _base - update_title_pos\n",
      "2018-12-20 21:28:41,687 - matplotlib.axes._base - DEBUG - _base - update_title_pos\n",
      "2018-12-20 21:28:41,715 - matplotlib.axes._base - DEBUG - _base - update_title_pos\n",
      "2018-12-20 21:28:41,761 - matplotlib.axes._base - DEBUG - _base - update_title_pos\n",
      "2018-12-20 21:28:41,779 - matplotlib.axes._base - DEBUG - _base - update_title_pos\n",
      "2018-12-20 21:28:41,809 - matplotlib.axes._base - DEBUG - _base - update_title_pos\n",
      "2018-12-20 21:28:41,826 - matplotlib.axes._base - DEBUG - _base - update_title_pos\n",
      "2018-12-20 21:28:41,841 - matplotlib.axes._base - DEBUG - _base - update_title_pos\n",
      "2018-12-20 21:28:41,871 - matplotlib.axes._base - DEBUG - _base - update_title_pos\n"
     ]
    },
    {
     "data": {
      "image/png": "[encoded data removed]",
      "text/plain": [
       "<Figure size 432x288 with 2 Axes>"
      ]
     },
     "metadata": {
      "needs_background": "light"
     },
     "output_type": "display_data"
    }
   ],
   "source": [
    "problem_l_shape = DirichletProblem(N=N, k_ground_truth=20000, domain_type = \"l_shape\")\n",
    "ground_truth_l_shape = problem_l_shape.ground_truth.view(N, N).numpy()\n",
    "\n",
    "square_fig = plt.figure()\n",
    "im = plt.imshow(ground_truth_l_shape)\n",
    "plt.title(\"L-shape domain.\")\n",
    "plt.colorbar(im)\n",
    "\n",
    "#square_fig.savefig('../report/figs/l_shape.eps', bbox_inches='tight')\n",
    "plt.draw()\n",
    "plt.show()"
   ]
  },
  {
   "cell_type": "markdown",
   "metadata": {
    "heading_collapsed": true
   },
   "source": [
    "# Error evolution with iterations"
   ]
  },
  {
   "cell_type": "code",
   "execution_count": 21,
   "metadata": {
    "ExecuteTime": {
     "end_time": "2018-12-18T13:39:04.858178Z",
     "start_time": "2018-12-18T13:39:04.850454Z"
    },
    "autoscroll": false,
    "ein.hycell": false,
    "ein.tags": "worksheet-0",
    "hidden": true,
    "slideshow": {
     "slide_type": "-"
    }
   },
   "outputs": [],
   "source": [
    "tol = 1e-6\n",
    "net = models[2].net"
   ]
  },
  {
   "cell_type": "code",
   "execution_count": 23,
   "metadata": {
    "ExecuteTime": {
     "end_time": "2018-12-18T13:39:51.821114Z",
     "start_time": "2018-12-18T13:39:50.664243Z"
    },
    "autoscroll": false,
    "ein.hycell": false,
    "ein.tags": "worksheet-0",
    "hidden": true,
    "slideshow": {
     "slide_type": "-"
    }
   },
   "outputs": [
    {
     "name": "stdout",
     "output_type": "stream",
     "text": [
      "H method, K = 1: error of 1e-06 achieved after 1863 iterations.\n",
      "H method, K = 2: error of 1e-06 achieved after 840 iterations.\n",
      "H method, K = 3: error of 1e-06 achieved after 486 iterations.\n",
      "H method, K = 4: error of 1e-06 achieved after 379 iterations.\n",
      "H method, K = 5: error of 1e-06 achieved after 312 iterations.\n"
     ]
    }
   ],
   "source": [
    "errors_H = []\n",
    "max_iters = 10000\n",
    "\n",
    "for model in models:\n",
    "    u_H = initial_u\n",
    "    err_H = LSE(ground_truth, u_H).item()\n",
    "    errs_H = [err_H] \n",
    "    k_H = 0\n",
    "\n",
    "    while err_H >= tol:\n",
    "        u_H = im.H_method(model.net, B_idx, B, f, u_H, k = 1)\n",
    "        err_H = LSE(ground_truth, u_H).item()\n",
    "        errs_H.append(err_H)\n",
    "        k_H += 1\n",
    "        if k_H > max_iters or err_H == np.inf:\n",
    "            print(f\"H method, K = {model.nb_layers}: convergence not reached after {max_iters}, final error is {err_H}.\")\n",
    "            break\n",
    "    \n",
    "    print(f\"H method, K = {model.nb_layers}: error of {tol} achieved after {k_H} iterations.\")\n",
    "    errors_H.append(errs_H)"
   ]
  },
  {
   "cell_type": "code",
   "execution_count": 29,
   "metadata": {
    "collapsed": true,
    "hidden": true
   },
   "outputs": [
    {
     "name": "stderr",
     "output_type": "stream",
     "text": [
      "2018-12-20 20:53:44,524 - matplotlib.axes._base - DEBUG - _base - update_title_pos\n",
      "2018-12-20 20:53:44,526 - matplotlib.ticker - DEBUG - ticker - vmin 0.6351622995324107 vmax 13785.452956584368\n",
      "2018-12-20 20:53:44,527 - matplotlib.ticker - DEBUG - ticker - ticklocs array([1.e-02, 1.e-01, 1.e+00, 1.e+01, 1.e+02, 1.e+03, 1.e+04, 1.e+05,\n",
      "       1.e+06])\n",
      "2018-12-20 20:53:44,537 - matplotlib.ticker - DEBUG - ticker - vmin 0.6351622995324107 vmax 13785.452956584368\n",
      "2018-12-20 20:53:44,538 - matplotlib.ticker - DEBUG - ticker - ticklocs [0.02, 0.03, 0.04, 0.05, 0.06, 0.07, 0.08, 0.09, 0.2, 0.30000000000000004, 0.4, 0.5, 0.6000000000000001, 0.7000000000000001, 0.8, 0.9, 2.0, 3.0, 4.0, 5.0, 6.0, 7.0, 8.0, 9.0, 20.0, 30.0, 40.0, 50.0, 60.0, 70.0, 80.0, 90.0, 200.0, 300.0, 400.0, 500.0, 600.0, 700.0, 800.0, 900.0, 2000.0, 3000.0, 4000.0, 5000.0, 6000.0, 7000.0, 8000.0, 9000.0, 20000.0, 30000.0, 40000.0, 50000.0, 60000.0, 70000.0, 80000.0, 90000.0, 200000.0, 300000.0, 400000.0, 500000.0, 600000.0, 700000.0, 800000.0, 900000.0, 2000000.0, 3000000.0, 4000000.0, 5000000.0, 6000000.0, 7000000.0, 8000000.0, 9000000.0]\n",
      "2018-12-20 20:53:44,674 - matplotlib.ticker - DEBUG - ticker - vmin 0.6351622995324107 vmax 13785.452956584368\n",
      "2018-12-20 20:53:44,675 - matplotlib.ticker - DEBUG - ticker - ticklocs array([1.e-02, 1.e-01, 1.e+00, 1.e+01, 1.e+02, 1.e+03, 1.e+04, 1.e+05,\n",
      "       1.e+06])\n",
      "2018-12-20 20:53:44,677 - matplotlib.ticker - DEBUG - ticker - vmin 0.6351622995324107 vmax 13785.452956584368\n",
      "2018-12-20 20:53:44,678 - matplotlib.ticker - DEBUG - ticker - ticklocs [0.02, 0.03, 0.04, 0.05, 0.06, 0.07, 0.08, 0.09, 0.2, 0.30000000000000004, 0.4, 0.5, 0.6000000000000001, 0.7000000000000001, 0.8, 0.9, 2.0, 3.0, 4.0, 5.0, 6.0, 7.0, 8.0, 9.0, 20.0, 30.0, 40.0, 50.0, 60.0, 70.0, 80.0, 90.0, 200.0, 300.0, 400.0, 500.0, 600.0, 700.0, 800.0, 900.0, 2000.0, 3000.0, 4000.0, 5000.0, 6000.0, 7000.0, 8000.0, 9000.0, 20000.0, 30000.0, 40000.0, 50000.0, 60000.0, 70000.0, 80000.0, 90000.0, 200000.0, 300000.0, 400000.0, 500000.0, 600000.0, 700000.0, 800000.0, 900000.0, 2000000.0, 3000000.0, 4000000.0, 5000000.0, 6000000.0, 7000000.0, 8000000.0, 9000000.0]\n",
      "2018-12-20 20:53:44,695 - matplotlib.ticker - DEBUG - ticker - vmin 1e-06 vmax 7846.3623046875\n",
      "2018-12-20 20:53:44,696 - matplotlib.ticker - DEBUG - ticker - ticklocs array([1.e-07, 1.e-06, 1.e-05, 1.e-04, 1.e-03, 1.e-02, 1.e-01, 1.e+00,\n",
      "       1.e+01, 1.e+02, 1.e+03, 1.e+04, 1.e+05])\n",
      "2018-12-20 20:53:44,715 - matplotlib.ticker - DEBUG - ticker - vmin 1e-06 vmax 7846.3623046875\n",
      "2018-12-20 20:53:44,716 - matplotlib.ticker - DEBUG - ticker - ticklocs [2e-07, 3e-07, 4e-07, 5e-07, 6e-07, 7e-07, 8e-07, 9e-07, 2e-06, 3e-06, 4e-06, 4.9999999999999996e-06, 6e-06, 7e-06, 8e-06, 9e-06, 2e-05, 3.0000000000000004e-05, 4e-05, 5e-05, 6.000000000000001e-05, 7.000000000000001e-05, 8e-05, 9e-05, 0.0002, 0.00030000000000000003, 0.0004, 0.0005, 0.0006000000000000001, 0.0007, 0.0008, 0.0009000000000000001, 0.002, 0.003, 0.004, 0.005, 0.006, 0.007, 0.008, 0.009000000000000001, 0.02, 0.03, 0.04, 0.05, 0.06, 0.07, 0.08, 0.09, 0.2, 0.30000000000000004, 0.4, 0.5, 0.6000000000000001, 0.7000000000000001, 0.8, 0.9, 2.0, 3.0, 4.0, 5.0, 6.0, 7.0, 8.0, 9.0, 20.0, 30.0, 40.0, 50.0, 60.0, 70.0, 80.0, 90.0, 200.0, 300.0, 400.0, 500.0, 600.0, 700.0, 800.0, 900.0, 2000.0, 3000.0, 4000.0, 5000.0, 6000.0, 7000.0, 8000.0, 9000.0, 20000.0, 30000.0, 40000.0, 50000.0, 60000.0, 70000.0, 80000.0, 90000.0, 200000.0, 300000.0, 400000.0, 500000.0, 600000.0, 700000.0, 800000.0, 900000.0]\n",
      "2018-12-20 20:53:44,939 - matplotlib.ticker - DEBUG - ticker - vmin 1e-06 vmax 7846.3623046875\n",
      "2018-12-20 20:53:44,939 - matplotlib.ticker - DEBUG - ticker - ticklocs array([1.e-07, 1.e-06, 1.e-05, 1.e-04, 1.e-03, 1.e-02, 1.e-01, 1.e+00,\n",
      "       1.e+01, 1.e+02, 1.e+03, 1.e+04, 1.e+05])\n",
      "2018-12-20 20:53:44,942 - matplotlib.ticker - DEBUG - ticker - vmin 1e-06 vmax 7846.3623046875\n",
      "2018-12-20 20:53:44,944 - matplotlib.ticker - DEBUG - ticker - ticklocs [2e-07, 3e-07, 4e-07, 5e-07, 6e-07, 7e-07, 8e-07, 9e-07, 2e-06, 3e-06, 4e-06, 4.9999999999999996e-06, 6e-06, 7e-06, 8e-06, 9e-06, 2e-05, 3.0000000000000004e-05, 4e-05, 5e-05, 6.000000000000001e-05, 7.000000000000001e-05, 8e-05, 9e-05, 0.0002, 0.00030000000000000003, 0.0004, 0.0005, 0.0006000000000000001, 0.0007, 0.0008, 0.0009000000000000001, 0.002, 0.003, 0.004, 0.005, 0.006, 0.007, 0.008, 0.009000000000000001, 0.02, 0.03, 0.04, 0.05, 0.06, 0.07, 0.08, 0.09, 0.2, 0.30000000000000004, 0.4, 0.5, 0.6000000000000001, 0.7000000000000001, 0.8, 0.9, 2.0, 3.0, 4.0, 5.0, 6.0, 7.0, 8.0, 9.0, 20.0, 30.0, 40.0, 50.0, 60.0, 70.0, 80.0, 90.0, 200.0, 300.0, 400.0, 500.0, 600.0, 700.0, 800.0, 900.0, 2000.0, 3000.0, 4000.0, 5000.0, 6000.0, 7000.0, 8000.0, 9000.0, 20000.0, 30000.0, 40000.0, 50000.0, 60000.0, 70000.0, 80000.0, 90000.0, 200000.0, 300000.0, 400000.0, 500000.0, 600000.0, 700000.0, 800000.0, 900000.0]\n",
      "2018-12-20 20:53:45,009 - matplotlib.ticker - DEBUG - ticker - vmin 0.6351622995324107 vmax 13785.452956584368\n",
      "2018-12-20 20:53:45,010 - matplotlib.ticker - DEBUG - ticker - ticklocs array([1.e-02, 1.e-01, 1.e+00, 1.e+01, 1.e+02, 1.e+03, 1.e+04, 1.e+05,\n",
      "       1.e+06])\n",
      "2018-12-20 20:53:45,013 - matplotlib.ticker - DEBUG - ticker - vmin 0.6351622995324107 vmax 13785.452956584368\n",
      "2018-12-20 20:53:45,014 - matplotlib.ticker - DEBUG - ticker - ticklocs [0.02, 0.03, 0.04, 0.05, 0.06, 0.07, 0.08, 0.09, 0.2, 0.30000000000000004, 0.4, 0.5, 0.6000000000000001, 0.7000000000000001, 0.8, 0.9, 2.0, 3.0, 4.0, 5.0, 6.0, 7.0, 8.0, 9.0, 20.0, 30.0, 40.0, 50.0, 60.0, 70.0, 80.0, 90.0, 200.0, 300.0, 400.0, 500.0, 600.0, 700.0, 800.0, 900.0, 2000.0, 3000.0, 4000.0, 5000.0, 6000.0, 7000.0, 8000.0, 9000.0, 20000.0, 30000.0, 40000.0, 50000.0, 60000.0, 70000.0, 80000.0, 90000.0, 200000.0, 300000.0, 400000.0, 500000.0, 600000.0, 700000.0, 800000.0, 900000.0, 2000000.0, 3000000.0, 4000000.0, 5000000.0, 6000000.0, 7000000.0, 8000000.0, 9000000.0]\n",
      "2018-12-20 20:53:45,020 - matplotlib.ticker - DEBUG - ticker - vmin 0.6351622995324107 vmax 13785.452956584368\n",
      "2018-12-20 20:53:45,021 - matplotlib.ticker - DEBUG - ticker - ticklocs array([1.e-02, 1.e-01, 1.e+00, 1.e+01, 1.e+02, 1.e+03, 1.e+04, 1.e+05,\n",
      "       1.e+06])\n",
      "2018-12-20 20:53:45,025 - matplotlib.ticker - DEBUG - ticker - vmin 0.6351622995324107 vmax 13785.452956584368\n",
      "2018-12-20 20:53:45,026 - matplotlib.ticker - DEBUG - ticker - ticklocs [0.02, 0.03, 0.04, 0.05, 0.06, 0.07, 0.08, 0.09, 0.2, 0.30000000000000004, 0.4, 0.5, 0.6000000000000001, 0.7000000000000001, 0.8, 0.9, 2.0, 3.0, 4.0, 5.0, 6.0, 7.0, 8.0, 9.0, 20.0, 30.0, 40.0, 50.0, 60.0, 70.0, 80.0, 90.0, 200.0, 300.0, 400.0, 500.0, 600.0, 700.0, 800.0, 900.0, 2000.0, 3000.0, 4000.0, 5000.0, 6000.0, 7000.0, 8000.0, 9000.0, 20000.0, 30000.0, 40000.0, 50000.0, 60000.0, 70000.0, 80000.0, 90000.0, 200000.0, 300000.0, 400000.0, 500000.0, 600000.0, 700000.0, 800000.0, 900000.0, 2000000.0, 3000000.0, 4000000.0, 5000000.0, 6000000.0, 7000000.0, 8000000.0, 9000000.0]\n",
      "2018-12-20 20:53:45,049 - matplotlib.axes._base - DEBUG - _base - update_title_pos\n",
      "2018-12-20 20:53:45,051 - matplotlib.ticker - DEBUG - ticker - vmin 1e-06 vmax 7846.3623046875\n",
      "2018-12-20 20:53:45,052 - matplotlib.ticker - DEBUG - ticker - ticklocs array([1.e-07, 1.e-06, 1.e-05, 1.e-04, 1.e-03, 1.e-02, 1.e-01, 1.e+00,\n",
      "       1.e+01, 1.e+02, 1.e+03, 1.e+04, 1.e+05])\n",
      "2018-12-20 20:53:45,065 - matplotlib.ticker - DEBUG - ticker - vmin 1e-06 vmax 7846.3623046875\n",
      "2018-12-20 20:53:45,066 - matplotlib.ticker - DEBUG - ticker - ticklocs [2e-07, 3e-07, 4e-07, 5e-07, 6e-07, 7e-07, 8e-07, 9e-07, 2e-06, 3e-06, 4e-06, 4.9999999999999996e-06, 6e-06, 7e-06, 8e-06, 9e-06, 2e-05, 3.0000000000000004e-05, 4e-05, 5e-05, 6.000000000000001e-05, 7.000000000000001e-05, 8e-05, 9e-05, 0.0002, 0.00030000000000000003, 0.0004, 0.0005, 0.0006000000000000001, 0.0007, 0.0008, 0.0009000000000000001, 0.002, 0.003, 0.004, 0.005, 0.006, 0.007, 0.008, 0.009000000000000001, 0.02, 0.03, 0.04, 0.05, 0.06, 0.07, 0.08, 0.09, 0.2, 0.30000000000000004, 0.4, 0.5, 0.6000000000000001, 0.7000000000000001, 0.8, 0.9, 2.0, 3.0, 4.0, 5.0, 6.0, 7.0, 8.0, 9.0, 20.0, 30.0, 40.0, 50.0, 60.0, 70.0, 80.0, 90.0, 200.0, 300.0, 400.0, 500.0, 600.0, 700.0, 800.0, 900.0, 2000.0, 3000.0, 4000.0, 5000.0, 6000.0, 7000.0, 8000.0, 9000.0, 20000.0, 30000.0, 40000.0, 50000.0, 60000.0, 70000.0, 80000.0, 90000.0, 200000.0, 300000.0, 400000.0, 500000.0, 600000.0, 700000.0, 800000.0, 900000.0]\n"
     ]
    },
    {
     "name": "stderr",
     "output_type": "stream",
     "text": [
      "2018-12-20 20:53:45,080 - matplotlib.ticker - DEBUG - ticker - vmin 1e-06 vmax 7846.3623046875\n",
      "2018-12-20 20:53:45,081 - matplotlib.ticker - DEBUG - ticker - ticklocs array([1.e-07, 1.e-06, 1.e-05, 1.e-04, 1.e-03, 1.e-02, 1.e-01, 1.e+00,\n",
      "       1.e+01, 1.e+02, 1.e+03, 1.e+04, 1.e+05])\n",
      "2018-12-20 20:53:45,087 - matplotlib.ticker - DEBUG - ticker - vmin 1e-06 vmax 7846.3623046875\n",
      "2018-12-20 20:53:45,088 - matplotlib.ticker - DEBUG - ticker - ticklocs [2e-07, 3e-07, 4e-07, 5e-07, 6e-07, 7e-07, 8e-07, 9e-07, 2e-06, 3e-06, 4e-06, 4.9999999999999996e-06, 6e-06, 7e-06, 8e-06, 9e-06, 2e-05, 3.0000000000000004e-05, 4e-05, 5e-05, 6.000000000000001e-05, 7.000000000000001e-05, 8e-05, 9e-05, 0.0002, 0.00030000000000000003, 0.0004, 0.0005, 0.0006000000000000001, 0.0007, 0.0008, 0.0009000000000000001, 0.002, 0.003, 0.004, 0.005, 0.006, 0.007, 0.008, 0.009000000000000001, 0.02, 0.03, 0.04, 0.05, 0.06, 0.07, 0.08, 0.09, 0.2, 0.30000000000000004, 0.4, 0.5, 0.6000000000000001, 0.7000000000000001, 0.8, 0.9, 2.0, 3.0, 4.0, 5.0, 6.0, 7.0, 8.0, 9.0, 20.0, 30.0, 40.0, 50.0, 60.0, 70.0, 80.0, 90.0, 200.0, 300.0, 400.0, 500.0, 600.0, 700.0, 800.0, 900.0, 2000.0, 3000.0, 4000.0, 5000.0, 6000.0, 7000.0, 8000.0, 9000.0, 20000.0, 30000.0, 40000.0, 50000.0, 60000.0, 70000.0, 80000.0, 90000.0, 200000.0, 300000.0, 400000.0, 500000.0, 600000.0, 700000.0, 800000.0, 900000.0]\n",
      "2018-12-20 20:53:45,135 - matplotlib.ticker - DEBUG - ticker - vmin 0.6351622995324107 vmax 13785.452956584368\n",
      "2018-12-20 20:53:45,136 - matplotlib.ticker - DEBUG - ticker - ticklocs array([1.e-02, 1.e-01, 1.e+00, 1.e+01, 1.e+02, 1.e+03, 1.e+04, 1.e+05,\n",
      "       1.e+06])\n",
      "2018-12-20 20:53:45,138 - matplotlib.ticker - DEBUG - ticker - vmin 0.6351622995324107 vmax 13785.452956584368\n",
      "2018-12-20 20:53:45,141 - matplotlib.ticker - DEBUG - ticker - ticklocs [0.02, 0.03, 0.04, 0.05, 0.06, 0.07, 0.08, 0.09, 0.2, 0.30000000000000004, 0.4, 0.5, 0.6000000000000001, 0.7000000000000001, 0.8, 0.9, 2.0, 3.0, 4.0, 5.0, 6.0, 7.0, 8.0, 9.0, 20.0, 30.0, 40.0, 50.0, 60.0, 70.0, 80.0, 90.0, 200.0, 300.0, 400.0, 500.0, 600.0, 700.0, 800.0, 900.0, 2000.0, 3000.0, 4000.0, 5000.0, 6000.0, 7000.0, 8000.0, 9000.0, 20000.0, 30000.0, 40000.0, 50000.0, 60000.0, 70000.0, 80000.0, 90000.0, 200000.0, 300000.0, 400000.0, 500000.0, 600000.0, 700000.0, 800000.0, 900000.0, 2000000.0, 3000000.0, 4000000.0, 5000000.0, 6000000.0, 7000000.0, 8000000.0, 9000000.0]\n",
      "2018-12-20 20:53:45,149 - matplotlib.ticker - DEBUG - ticker - vmin 0.6351622995324107 vmax 13785.452956584368\n",
      "2018-12-20 20:53:45,149 - matplotlib.ticker - DEBUG - ticker - ticklocs array([1.e-02, 1.e-01, 1.e+00, 1.e+01, 1.e+02, 1.e+03, 1.e+04, 1.e+05,\n",
      "       1.e+06])\n",
      "2018-12-20 20:53:45,151 - matplotlib.ticker - DEBUG - ticker - vmin 0.6351622995324107 vmax 13785.452956584368\n",
      "2018-12-20 20:53:45,155 - matplotlib.ticker - DEBUG - ticker - ticklocs [0.02, 0.03, 0.04, 0.05, 0.06, 0.07, 0.08, 0.09, 0.2, 0.30000000000000004, 0.4, 0.5, 0.6000000000000001, 0.7000000000000001, 0.8, 0.9, 2.0, 3.0, 4.0, 5.0, 6.0, 7.0, 8.0, 9.0, 20.0, 30.0, 40.0, 50.0, 60.0, 70.0, 80.0, 90.0, 200.0, 300.0, 400.0, 500.0, 600.0, 700.0, 800.0, 900.0, 2000.0, 3000.0, 4000.0, 5000.0, 6000.0, 7000.0, 8000.0, 9000.0, 20000.0, 30000.0, 40000.0, 50000.0, 60000.0, 70000.0, 80000.0, 90000.0, 200000.0, 300000.0, 400000.0, 500000.0, 600000.0, 700000.0, 800000.0, 900000.0, 2000000.0, 3000000.0, 4000000.0, 5000000.0, 6000000.0, 7000000.0, 8000000.0, 9000000.0]\n",
      "2018-12-20 20:53:45,174 - matplotlib.ticker - DEBUG - ticker - vmin 1e-06 vmax 7846.3623046875\n",
      "2018-12-20 20:53:45,175 - matplotlib.ticker - DEBUG - ticker - ticklocs array([1.e-07, 1.e-06, 1.e-05, 1.e-04, 1.e-03, 1.e-02, 1.e-01, 1.e+00,\n",
      "       1.e+01, 1.e+02, 1.e+03, 1.e+04, 1.e+05])\n",
      "2018-12-20 20:53:45,179 - matplotlib.ticker - DEBUG - ticker - vmin 1e-06 vmax 7846.3623046875\n",
      "2018-12-20 20:53:45,179 - matplotlib.ticker - DEBUG - ticker - ticklocs [2e-07, 3e-07, 4e-07, 5e-07, 6e-07, 7e-07, 8e-07, 9e-07, 2e-06, 3e-06, 4e-06, 4.9999999999999996e-06, 6e-06, 7e-06, 8e-06, 9e-06, 2e-05, 3.0000000000000004e-05, 4e-05, 5e-05, 6.000000000000001e-05, 7.000000000000001e-05, 8e-05, 9e-05, 0.0002, 0.00030000000000000003, 0.0004, 0.0005, 0.0006000000000000001, 0.0007, 0.0008, 0.0009000000000000001, 0.002, 0.003, 0.004, 0.005, 0.006, 0.007, 0.008, 0.009000000000000001, 0.02, 0.03, 0.04, 0.05, 0.06, 0.07, 0.08, 0.09, 0.2, 0.30000000000000004, 0.4, 0.5, 0.6000000000000001, 0.7000000000000001, 0.8, 0.9, 2.0, 3.0, 4.0, 5.0, 6.0, 7.0, 8.0, 9.0, 20.0, 30.0, 40.0, 50.0, 60.0, 70.0, 80.0, 90.0, 200.0, 300.0, 400.0, 500.0, 600.0, 700.0, 800.0, 900.0, 2000.0, 3000.0, 4000.0, 5000.0, 6000.0, 7000.0, 8000.0, 9000.0, 20000.0, 30000.0, 40000.0, 50000.0, 60000.0, 70000.0, 80000.0, 90000.0, 200000.0, 300000.0, 400000.0, 500000.0, 600000.0, 700000.0, 800000.0, 900000.0]\n",
      "2018-12-20 20:53:45,189 - matplotlib.ticker - DEBUG - ticker - vmin 1e-06 vmax 7846.3623046875\n",
      "2018-12-20 20:53:45,191 - matplotlib.ticker - DEBUG - ticker - ticklocs array([1.e-07, 1.e-06, 1.e-05, 1.e-04, 1.e-03, 1.e-02, 1.e-01, 1.e+00,\n",
      "       1.e+01, 1.e+02, 1.e+03, 1.e+04, 1.e+05])\n",
      "2018-12-20 20:53:45,196 - matplotlib.ticker - DEBUG - ticker - vmin 1e-06 vmax 7846.3623046875\n",
      "2018-12-20 20:53:45,197 - matplotlib.ticker - DEBUG - ticker - ticklocs [2e-07, 3e-07, 4e-07, 5e-07, 6e-07, 7e-07, 8e-07, 9e-07, 2e-06, 3e-06, 4e-06, 4.9999999999999996e-06, 6e-06, 7e-06, 8e-06, 9e-06, 2e-05, 3.0000000000000004e-05, 4e-05, 5e-05, 6.000000000000001e-05, 7.000000000000001e-05, 8e-05, 9e-05, 0.0002, 0.00030000000000000003, 0.0004, 0.0005, 0.0006000000000000001, 0.0007, 0.0008, 0.0009000000000000001, 0.002, 0.003, 0.004, 0.005, 0.006, 0.007, 0.008, 0.009000000000000001, 0.02, 0.03, 0.04, 0.05, 0.06, 0.07, 0.08, 0.09, 0.2, 0.30000000000000004, 0.4, 0.5, 0.6000000000000001, 0.7000000000000001, 0.8, 0.9, 2.0, 3.0, 4.0, 5.0, 6.0, 7.0, 8.0, 9.0, 20.0, 30.0, 40.0, 50.0, 60.0, 70.0, 80.0, 90.0, 200.0, 300.0, 400.0, 500.0, 600.0, 700.0, 800.0, 900.0, 2000.0, 3000.0, 4000.0, 5000.0, 6000.0, 7000.0, 8000.0, 9000.0, 20000.0, 30000.0, 40000.0, 50000.0, 60000.0, 70000.0, 80000.0, 90000.0, 200000.0, 300000.0, 400000.0, 500000.0, 600000.0, 700000.0, 800000.0, 900000.0]\n",
      "2018-12-20 20:53:45,250 - matplotlib.ticker - DEBUG - ticker - vmin 0.6351622995324107 vmax 13785.452956584368\n",
      "2018-12-20 20:53:45,251 - matplotlib.ticker - DEBUG - ticker - ticklocs array([1.e-02, 1.e-01, 1.e+00, 1.e+01, 1.e+02, 1.e+03, 1.e+04, 1.e+05,\n",
      "       1.e+06])\n",
      "2018-12-20 20:53:45,257 - matplotlib.ticker - DEBUG - ticker - vmin 0.6351622995324107 vmax 13785.452956584368\n",
      "2018-12-20 20:53:45,259 - matplotlib.ticker - DEBUG - ticker - ticklocs [0.02, 0.03, 0.04, 0.05, 0.06, 0.07, 0.08, 0.09, 0.2, 0.30000000000000004, 0.4, 0.5, 0.6000000000000001, 0.7000000000000001, 0.8, 0.9, 2.0, 3.0, 4.0, 5.0, 6.0, 7.0, 8.0, 9.0, 20.0, 30.0, 40.0, 50.0, 60.0, 70.0, 80.0, 90.0, 200.0, 300.0, 400.0, 500.0, 600.0, 700.0, 800.0, 900.0, 2000.0, 3000.0, 4000.0, 5000.0, 6000.0, 7000.0, 8000.0, 9000.0, 20000.0, 30000.0, 40000.0, 50000.0, 60000.0, 70000.0, 80000.0, 90000.0, 200000.0, 300000.0, 400000.0, 500000.0, 600000.0, 700000.0, 800000.0, 900000.0, 2000000.0, 3000000.0, 4000000.0, 5000000.0, 6000000.0, 7000000.0, 8000000.0, 9000000.0]\n",
      "2018-12-20 20:53:45,266 - matplotlib.ticker - DEBUG - ticker - vmin 0.6351622995324107 vmax 13785.452956584368\n",
      "2018-12-20 20:53:45,271 - matplotlib.ticker - DEBUG - ticker - ticklocs array([1.e-02, 1.e-01, 1.e+00, 1.e+01, 1.e+02, 1.e+03, 1.e+04, 1.e+05,\n",
      "       1.e+06])\n",
      "2018-12-20 20:53:45,278 - matplotlib.ticker - DEBUG - ticker - vmin 0.6351622995324107 vmax 13785.452956584368\n",
      "2018-12-20 20:53:45,284 - matplotlib.ticker - DEBUG - ticker - ticklocs [0.02, 0.03, 0.04, 0.05, 0.06, 0.07, 0.08, 0.09, 0.2, 0.30000000000000004, 0.4, 0.5, 0.6000000000000001, 0.7000000000000001, 0.8, 0.9, 2.0, 3.0, 4.0, 5.0, 6.0, 7.0, 8.0, 9.0, 20.0, 30.0, 40.0, 50.0, 60.0, 70.0, 80.0, 90.0, 200.0, 300.0, 400.0, 500.0, 600.0, 700.0, 800.0, 900.0, 2000.0, 3000.0, 4000.0, 5000.0, 6000.0, 7000.0, 8000.0, 9000.0, 20000.0, 30000.0, 40000.0, 50000.0, 60000.0, 70000.0, 80000.0, 90000.0, 200000.0, 300000.0, 400000.0, 500000.0, 600000.0, 700000.0, 800000.0, 900000.0, 2000000.0, 3000000.0, 4000000.0, 5000000.0, 6000000.0, 7000000.0, 8000000.0, 9000000.0]\n"
     ]
    },
    {
     "name": "stderr",
     "output_type": "stream",
     "text": [
      "2018-12-20 20:53:45,302 - matplotlib.ticker - DEBUG - ticker - vmin 1e-06 vmax 7846.3623046875\n",
      "2018-12-20 20:53:45,302 - matplotlib.ticker - DEBUG - ticker - ticklocs array([1.e-07, 1.e-06, 1.e-05, 1.e-04, 1.e-03, 1.e-02, 1.e-01, 1.e+00,\n",
      "       1.e+01, 1.e+02, 1.e+03, 1.e+04, 1.e+05])\n",
      "2018-12-20 20:53:45,305 - matplotlib.ticker - DEBUG - ticker - vmin 1e-06 vmax 7846.3623046875\n",
      "2018-12-20 20:53:45,314 - matplotlib.ticker - DEBUG - ticker - ticklocs [2e-07, 3e-07, 4e-07, 5e-07, 6e-07, 7e-07, 8e-07, 9e-07, 2e-06, 3e-06, 4e-06, 4.9999999999999996e-06, 6e-06, 7e-06, 8e-06, 9e-06, 2e-05, 3.0000000000000004e-05, 4e-05, 5e-05, 6.000000000000001e-05, 7.000000000000001e-05, 8e-05, 9e-05, 0.0002, 0.00030000000000000003, 0.0004, 0.0005, 0.0006000000000000001, 0.0007, 0.0008, 0.0009000000000000001, 0.002, 0.003, 0.004, 0.005, 0.006, 0.007, 0.008, 0.009000000000000001, 0.02, 0.03, 0.04, 0.05, 0.06, 0.07, 0.08, 0.09, 0.2, 0.30000000000000004, 0.4, 0.5, 0.6000000000000001, 0.7000000000000001, 0.8, 0.9, 2.0, 3.0, 4.0, 5.0, 6.0, 7.0, 8.0, 9.0, 20.0, 30.0, 40.0, 50.0, 60.0, 70.0, 80.0, 90.0, 200.0, 300.0, 400.0, 500.0, 600.0, 700.0, 800.0, 900.0, 2000.0, 3000.0, 4000.0, 5000.0, 6000.0, 7000.0, 8000.0, 9000.0, 20000.0, 30000.0, 40000.0, 50000.0, 60000.0, 70000.0, 80000.0, 90000.0, 200000.0, 300000.0, 400000.0, 500000.0, 600000.0, 700000.0, 800000.0, 900000.0]\n",
      "2018-12-20 20:53:45,321 - matplotlib.ticker - DEBUG - ticker - vmin 1e-06 vmax 7846.3623046875\n",
      "2018-12-20 20:53:45,322 - matplotlib.ticker - DEBUG - ticker - ticklocs array([1.e-07, 1.e-06, 1.e-05, 1.e-04, 1.e-03, 1.e-02, 1.e-01, 1.e+00,\n",
      "       1.e+01, 1.e+02, 1.e+03, 1.e+04, 1.e+05])\n",
      "2018-12-20 20:53:45,325 - matplotlib.ticker - DEBUG - ticker - vmin 1e-06 vmax 7846.3623046875\n",
      "2018-12-20 20:53:45,328 - matplotlib.ticker - DEBUG - ticker - ticklocs [2e-07, 3e-07, 4e-07, 5e-07, 6e-07, 7e-07, 8e-07, 9e-07, 2e-06, 3e-06, 4e-06, 4.9999999999999996e-06, 6e-06, 7e-06, 8e-06, 9e-06, 2e-05, 3.0000000000000004e-05, 4e-05, 5e-05, 6.000000000000001e-05, 7.000000000000001e-05, 8e-05, 9e-05, 0.0002, 0.00030000000000000003, 0.0004, 0.0005, 0.0006000000000000001, 0.0007, 0.0008, 0.0009000000000000001, 0.002, 0.003, 0.004, 0.005, 0.006, 0.007, 0.008, 0.009000000000000001, 0.02, 0.03, 0.04, 0.05, 0.06, 0.07, 0.08, 0.09, 0.2, 0.30000000000000004, 0.4, 0.5, 0.6000000000000001, 0.7000000000000001, 0.8, 0.9, 2.0, 3.0, 4.0, 5.0, 6.0, 7.0, 8.0, 9.0, 20.0, 30.0, 40.0, 50.0, 60.0, 70.0, 80.0, 90.0, 200.0, 300.0, 400.0, 500.0, 600.0, 700.0, 800.0, 900.0, 2000.0, 3000.0, 4000.0, 5000.0, 6000.0, 7000.0, 8000.0, 9000.0, 20000.0, 30000.0, 40000.0, 50000.0, 60000.0, 70000.0, 80000.0, 90000.0, 200000.0, 300000.0, 400000.0, 500000.0, 600000.0, 700000.0, 800000.0, 900000.0]\n",
      "2018-12-20 20:53:45,366 - matplotlib.ticker - DEBUG - ticker - vmin 0.6351622995324107 vmax 13785.452956584368\n",
      "2018-12-20 20:53:45,367 - matplotlib.ticker - DEBUG - ticker - ticklocs array([1.e-02, 1.e-01, 1.e+00, 1.e+01, 1.e+02, 1.e+03, 1.e+04, 1.e+05,\n",
      "       1.e+06])\n",
      "2018-12-20 20:53:45,369 - matplotlib.ticker - DEBUG - ticker - vmin 0.6351622995324107 vmax 13785.452956584368\n",
      "2018-12-20 20:53:45,370 - matplotlib.ticker - DEBUG - ticker - ticklocs [0.02, 0.03, 0.04, 0.05, 0.06, 0.07, 0.08, 0.09, 0.2, 0.30000000000000004, 0.4, 0.5, 0.6000000000000001, 0.7000000000000001, 0.8, 0.9, 2.0, 3.0, 4.0, 5.0, 6.0, 7.0, 8.0, 9.0, 20.0, 30.0, 40.0, 50.0, 60.0, 70.0, 80.0, 90.0, 200.0, 300.0, 400.0, 500.0, 600.0, 700.0, 800.0, 900.0, 2000.0, 3000.0, 4000.0, 5000.0, 6000.0, 7000.0, 8000.0, 9000.0, 20000.0, 30000.0, 40000.0, 50000.0, 60000.0, 70000.0, 80000.0, 90000.0, 200000.0, 300000.0, 400000.0, 500000.0, 600000.0, 700000.0, 800000.0, 900000.0, 2000000.0, 3000000.0, 4000000.0, 5000000.0, 6000000.0, 7000000.0, 8000000.0, 9000000.0]\n",
      "2018-12-20 20:53:45,375 - matplotlib.ticker - DEBUG - ticker - vmin 0.6351622995324107 vmax 13785.452956584368\n",
      "2018-12-20 20:53:45,376 - matplotlib.ticker - DEBUG - ticker - ticklocs array([1.e-02, 1.e-01, 1.e+00, 1.e+01, 1.e+02, 1.e+03, 1.e+04, 1.e+05,\n",
      "       1.e+06])\n",
      "2018-12-20 20:53:45,379 - matplotlib.ticker - DEBUG - ticker - vmin 0.6351622995324107 vmax 13785.452956584368\n",
      "2018-12-20 20:53:45,382 - matplotlib.ticker - DEBUG - ticker - ticklocs [0.02, 0.03, 0.04, 0.05, 0.06, 0.07, 0.08, 0.09, 0.2, 0.30000000000000004, 0.4, 0.5, 0.6000000000000001, 0.7000000000000001, 0.8, 0.9, 2.0, 3.0, 4.0, 5.0, 6.0, 7.0, 8.0, 9.0, 20.0, 30.0, 40.0, 50.0, 60.0, 70.0, 80.0, 90.0, 200.0, 300.0, 400.0, 500.0, 600.0, 700.0, 800.0, 900.0, 2000.0, 3000.0, 4000.0, 5000.0, 6000.0, 7000.0, 8000.0, 9000.0, 20000.0, 30000.0, 40000.0, 50000.0, 60000.0, 70000.0, 80000.0, 90000.0, 200000.0, 300000.0, 400000.0, 500000.0, 600000.0, 700000.0, 800000.0, 900000.0, 2000000.0, 3000000.0, 4000000.0, 5000000.0, 6000000.0, 7000000.0, 8000000.0, 9000000.0]\n",
      "2018-12-20 20:53:45,401 - matplotlib.axes._base - DEBUG - _base - update_title_pos\n",
      "2018-12-20 20:53:45,403 - matplotlib.ticker - DEBUG - ticker - vmin 1e-06 vmax 7846.3623046875\n",
      "2018-12-20 20:53:45,403 - matplotlib.ticker - DEBUG - ticker - ticklocs array([1.e-07, 1.e-06, 1.e-05, 1.e-04, 1.e-03, 1.e-02, 1.e-01, 1.e+00,\n",
      "       1.e+01, 1.e+02, 1.e+03, 1.e+04, 1.e+05])\n",
      "2018-12-20 20:53:45,406 - matplotlib.ticker - DEBUG - ticker - vmin 1e-06 vmax 7846.3623046875\n",
      "2018-12-20 20:53:45,407 - matplotlib.ticker - DEBUG - ticker - ticklocs [2e-07, 3e-07, 4e-07, 5e-07, 6e-07, 7e-07, 8e-07, 9e-07, 2e-06, 3e-06, 4e-06, 4.9999999999999996e-06, 6e-06, 7e-06, 8e-06, 9e-06, 2e-05, 3.0000000000000004e-05, 4e-05, 5e-05, 6.000000000000001e-05, 7.000000000000001e-05, 8e-05, 9e-05, 0.0002, 0.00030000000000000003, 0.0004, 0.0005, 0.0006000000000000001, 0.0007, 0.0008, 0.0009000000000000001, 0.002, 0.003, 0.004, 0.005, 0.006, 0.007, 0.008, 0.009000000000000001, 0.02, 0.03, 0.04, 0.05, 0.06, 0.07, 0.08, 0.09, 0.2, 0.30000000000000004, 0.4, 0.5, 0.6000000000000001, 0.7000000000000001, 0.8, 0.9, 2.0, 3.0, 4.0, 5.0, 6.0, 7.0, 8.0, 9.0, 20.0, 30.0, 40.0, 50.0, 60.0, 70.0, 80.0, 90.0, 200.0, 300.0, 400.0, 500.0, 600.0, 700.0, 800.0, 900.0, 2000.0, 3000.0, 4000.0, 5000.0, 6000.0, 7000.0, 8000.0, 9000.0, 20000.0, 30000.0, 40000.0, 50000.0, 60000.0, 70000.0, 80000.0, 90000.0, 200000.0, 300000.0, 400000.0, 500000.0, 600000.0, 700000.0, 800000.0, 900000.0]\n",
      "2018-12-20 20:53:45,416 - matplotlib.ticker - DEBUG - ticker - vmin 1e-06 vmax 7846.3623046875\n",
      "2018-12-20 20:53:45,417 - matplotlib.ticker - DEBUG - ticker - ticklocs array([1.e-07, 1.e-06, 1.e-05, 1.e-04, 1.e-03, 1.e-02, 1.e-01, 1.e+00,\n",
      "       1.e+01, 1.e+02, 1.e+03, 1.e+04, 1.e+05])\n",
      "2018-12-20 20:53:45,421 - matplotlib.ticker - DEBUG - ticker - vmin 1e-06 vmax 7846.3623046875\n",
      "2018-12-20 20:53:45,421 - matplotlib.ticker - DEBUG - ticker - ticklocs [2e-07, 3e-07, 4e-07, 5e-07, 6e-07, 7e-07, 8e-07, 9e-07, 2e-06, 3e-06, 4e-06, 4.9999999999999996e-06, 6e-06, 7e-06, 8e-06, 9e-06, 2e-05, 3.0000000000000004e-05, 4e-05, 5e-05, 6.000000000000001e-05, 7.000000000000001e-05, 8e-05, 9e-05, 0.0002, 0.00030000000000000003, 0.0004, 0.0005, 0.0006000000000000001, 0.0007, 0.0008, 0.0009000000000000001, 0.002, 0.003, 0.004, 0.005, 0.006, 0.007, 0.008, 0.009000000000000001, 0.02, 0.03, 0.04, 0.05, 0.06, 0.07, 0.08, 0.09, 0.2, 0.30000000000000004, 0.4, 0.5, 0.6000000000000001, 0.7000000000000001, 0.8, 0.9, 2.0, 3.0, 4.0, 5.0, 6.0, 7.0, 8.0, 9.0, 20.0, 30.0, 40.0, 50.0, 60.0, 70.0, 80.0, 90.0, 200.0, 300.0, 400.0, 500.0, 600.0, 700.0, 800.0, 900.0, 2000.0, 3000.0, 4000.0, 5000.0, 6000.0, 7000.0, 8000.0, 9000.0, 20000.0, 30000.0, 40000.0, 50000.0, 60000.0, 70000.0, 80000.0, 90000.0, 200000.0, 300000.0, 400000.0, 500000.0, 600000.0, 700000.0, 800000.0, 900000.0]\n",
      "2018-12-20 20:53:45,463 - matplotlib.ticker - DEBUG - ticker - vmin 0.6351622995324107 vmax 13785.452956584368\n",
      "2018-12-20 20:53:45,464 - matplotlib.ticker - DEBUG - ticker - ticklocs array([1.e-02, 1.e-01, 1.e+00, 1.e+01, 1.e+02, 1.e+03, 1.e+04, 1.e+05,\n",
      "       1.e+06])\n",
      "2018-12-20 20:53:45,466 - matplotlib.ticker - DEBUG - ticker - vmin 0.6351622995324107 vmax 13785.452956584368\n",
      "2018-12-20 20:53:45,467 - matplotlib.ticker - DEBUG - ticker - ticklocs [0.02, 0.03, 0.04, 0.05, 0.06, 0.07, 0.08, 0.09, 0.2, 0.30000000000000004, 0.4, 0.5, 0.6000000000000001, 0.7000000000000001, 0.8, 0.9, 2.0, 3.0, 4.0, 5.0, 6.0, 7.0, 8.0, 9.0, 20.0, 30.0, 40.0, 50.0, 60.0, 70.0, 80.0, 90.0, 200.0, 300.0, 400.0, 500.0, 600.0, 700.0, 800.0, 900.0, 2000.0, 3000.0, 4000.0, 5000.0, 6000.0, 7000.0, 8000.0, 9000.0, 20000.0, 30000.0, 40000.0, 50000.0, 60000.0, 70000.0, 80000.0, 90000.0, 200000.0, 300000.0, 400000.0, 500000.0, 600000.0, 700000.0, 800000.0, 900000.0, 2000000.0, 3000000.0, 4000000.0, 5000000.0, 6000000.0, 7000000.0, 8000000.0, 9000000.0]\n"
     ]
    },
    {
     "name": "stderr",
     "output_type": "stream",
     "text": [
      "2018-12-20 20:53:45,473 - matplotlib.ticker - DEBUG - ticker - vmin 0.6351622995324107 vmax 13785.452956584368\n",
      "2018-12-20 20:53:45,474 - matplotlib.ticker - DEBUG - ticker - ticklocs array([1.e-02, 1.e-01, 1.e+00, 1.e+01, 1.e+02, 1.e+03, 1.e+04, 1.e+05,\n",
      "       1.e+06])\n",
      "2018-12-20 20:53:45,477 - matplotlib.ticker - DEBUG - ticker - vmin 0.6351622995324107 vmax 13785.452956584368\n",
      "2018-12-20 20:53:45,478 - matplotlib.ticker - DEBUG - ticker - ticklocs [0.02, 0.03, 0.04, 0.05, 0.06, 0.07, 0.08, 0.09, 0.2, 0.30000000000000004, 0.4, 0.5, 0.6000000000000001, 0.7000000000000001, 0.8, 0.9, 2.0, 3.0, 4.0, 5.0, 6.0, 7.0, 8.0, 9.0, 20.0, 30.0, 40.0, 50.0, 60.0, 70.0, 80.0, 90.0, 200.0, 300.0, 400.0, 500.0, 600.0, 700.0, 800.0, 900.0, 2000.0, 3000.0, 4000.0, 5000.0, 6000.0, 7000.0, 8000.0, 9000.0, 20000.0, 30000.0, 40000.0, 50000.0, 60000.0, 70000.0, 80000.0, 90000.0, 200000.0, 300000.0, 400000.0, 500000.0, 600000.0, 700000.0, 800000.0, 900000.0, 2000000.0, 3000000.0, 4000000.0, 5000000.0, 6000000.0, 7000000.0, 8000000.0, 9000000.0]\n",
      "2018-12-20 20:53:45,500 - matplotlib.ticker - DEBUG - ticker - vmin 1e-06 vmax 7846.3623046875\n",
      "2018-12-20 20:53:45,501 - matplotlib.ticker - DEBUG - ticker - ticklocs array([1.e-07, 1.e-06, 1.e-05, 1.e-04, 1.e-03, 1.e-02, 1.e-01, 1.e+00,\n",
      "       1.e+01, 1.e+02, 1.e+03, 1.e+04, 1.e+05])\n",
      "2018-12-20 20:53:45,503 - matplotlib.ticker - DEBUG - ticker - vmin 1e-06 vmax 7846.3623046875\n",
      "2018-12-20 20:53:45,504 - matplotlib.ticker - DEBUG - ticker - ticklocs [2e-07, 3e-07, 4e-07, 5e-07, 6e-07, 7e-07, 8e-07, 9e-07, 2e-06, 3e-06, 4e-06, 4.9999999999999996e-06, 6e-06, 7e-06, 8e-06, 9e-06, 2e-05, 3.0000000000000004e-05, 4e-05, 5e-05, 6.000000000000001e-05, 7.000000000000001e-05, 8e-05, 9e-05, 0.0002, 0.00030000000000000003, 0.0004, 0.0005, 0.0006000000000000001, 0.0007, 0.0008, 0.0009000000000000001, 0.002, 0.003, 0.004, 0.005, 0.006, 0.007, 0.008, 0.009000000000000001, 0.02, 0.03, 0.04, 0.05, 0.06, 0.07, 0.08, 0.09, 0.2, 0.30000000000000004, 0.4, 0.5, 0.6000000000000001, 0.7000000000000001, 0.8, 0.9, 2.0, 3.0, 4.0, 5.0, 6.0, 7.0, 8.0, 9.0, 20.0, 30.0, 40.0, 50.0, 60.0, 70.0, 80.0, 90.0, 200.0, 300.0, 400.0, 500.0, 600.0, 700.0, 800.0, 900.0, 2000.0, 3000.0, 4000.0, 5000.0, 6000.0, 7000.0, 8000.0, 9000.0, 20000.0, 30000.0, 40000.0, 50000.0, 60000.0, 70000.0, 80000.0, 90000.0, 200000.0, 300000.0, 400000.0, 500000.0, 600000.0, 700000.0, 800000.0, 900000.0]\n",
      "2018-12-20 20:53:45,511 - matplotlib.ticker - DEBUG - ticker - vmin 1e-06 vmax 7846.3623046875\n",
      "2018-12-20 20:53:45,512 - matplotlib.ticker - DEBUG - ticker - ticklocs array([1.e-07, 1.e-06, 1.e-05, 1.e-04, 1.e-03, 1.e-02, 1.e-01, 1.e+00,\n",
      "       1.e+01, 1.e+02, 1.e+03, 1.e+04, 1.e+05])\n",
      "2018-12-20 20:53:45,515 - matplotlib.ticker - DEBUG - ticker - vmin 1e-06 vmax 7846.3623046875\n",
      "2018-12-20 20:53:45,516 - matplotlib.ticker - DEBUG - ticker - ticklocs [2e-07, 3e-07, 4e-07, 5e-07, 6e-07, 7e-07, 8e-07, 9e-07, 2e-06, 3e-06, 4e-06, 4.9999999999999996e-06, 6e-06, 7e-06, 8e-06, 9e-06, 2e-05, 3.0000000000000004e-05, 4e-05, 5e-05, 6.000000000000001e-05, 7.000000000000001e-05, 8e-05, 9e-05, 0.0002, 0.00030000000000000003, 0.0004, 0.0005, 0.0006000000000000001, 0.0007, 0.0008, 0.0009000000000000001, 0.002, 0.003, 0.004, 0.005, 0.006, 0.007, 0.008, 0.009000000000000001, 0.02, 0.03, 0.04, 0.05, 0.06, 0.07, 0.08, 0.09, 0.2, 0.30000000000000004, 0.4, 0.5, 0.6000000000000001, 0.7000000000000001, 0.8, 0.9, 2.0, 3.0, 4.0, 5.0, 6.0, 7.0, 8.0, 9.0, 20.0, 30.0, 40.0, 50.0, 60.0, 70.0, 80.0, 90.0, 200.0, 300.0, 400.0, 500.0, 600.0, 700.0, 800.0, 900.0, 2000.0, 3000.0, 4000.0, 5000.0, 6000.0, 7000.0, 8000.0, 9000.0, 20000.0, 30000.0, 40000.0, 50000.0, 60000.0, 70000.0, 80000.0, 90000.0, 200000.0, 300000.0, 400000.0, 500000.0, 600000.0, 700000.0, 800000.0, 900000.0]\n",
      "2018-12-20 20:53:45,552 - matplotlib.axes._base - DEBUG - _base - update_title_pos\n",
      "2018-12-20 20:53:45,554 - matplotlib.ticker - DEBUG - ticker - vmin 0.6351622995324107 vmax 13785.452956584368\n",
      "2018-12-20 20:53:45,554 - matplotlib.ticker - DEBUG - ticker - ticklocs array([1.e-02, 1.e-01, 1.e+00, 1.e+01, 1.e+02, 1.e+03, 1.e+04, 1.e+05,\n",
      "       1.e+06])\n",
      "2018-12-20 20:53:45,558 - matplotlib.ticker - DEBUG - ticker - vmin 0.6351622995324107 vmax 13785.452956584368\n",
      "2018-12-20 20:53:45,560 - matplotlib.ticker - DEBUG - ticker - ticklocs [0.02, 0.03, 0.04, 0.05, 0.06, 0.07, 0.08, 0.09, 0.2, 0.30000000000000004, 0.4, 0.5, 0.6000000000000001, 0.7000000000000001, 0.8, 0.9, 2.0, 3.0, 4.0, 5.0, 6.0, 7.0, 8.0, 9.0, 20.0, 30.0, 40.0, 50.0, 60.0, 70.0, 80.0, 90.0, 200.0, 300.0, 400.0, 500.0, 600.0, 700.0, 800.0, 900.0, 2000.0, 3000.0, 4000.0, 5000.0, 6000.0, 7000.0, 8000.0, 9000.0, 20000.0, 30000.0, 40000.0, 50000.0, 60000.0, 70000.0, 80000.0, 90000.0, 200000.0, 300000.0, 400000.0, 500000.0, 600000.0, 700000.0, 800000.0, 900000.0, 2000000.0, 3000000.0, 4000000.0, 5000000.0, 6000000.0, 7000000.0, 8000000.0, 9000000.0]\n",
      "2018-12-20 20:53:45,640 - matplotlib.ticker - DEBUG - ticker - vmin 0.6351622995324107 vmax 13785.452956584368\n",
      "2018-12-20 20:53:45,642 - matplotlib.ticker - DEBUG - ticker - ticklocs array([1.e-02, 1.e-01, 1.e+00, 1.e+01, 1.e+02, 1.e+03, 1.e+04, 1.e+05,\n",
      "       1.e+06])\n",
      "2018-12-20 20:53:45,646 - matplotlib.ticker - DEBUG - ticker - vmin 0.6351622995324107 vmax 13785.452956584368\n",
      "2018-12-20 20:53:45,647 - matplotlib.ticker - DEBUG - ticker - ticklocs [0.02, 0.03, 0.04, 0.05, 0.06, 0.07, 0.08, 0.09, 0.2, 0.30000000000000004, 0.4, 0.5, 0.6000000000000001, 0.7000000000000001, 0.8, 0.9, 2.0, 3.0, 4.0, 5.0, 6.0, 7.0, 8.0, 9.0, 20.0, 30.0, 40.0, 50.0, 60.0, 70.0, 80.0, 90.0, 200.0, 300.0, 400.0, 500.0, 600.0, 700.0, 800.0, 900.0, 2000.0, 3000.0, 4000.0, 5000.0, 6000.0, 7000.0, 8000.0, 9000.0, 20000.0, 30000.0, 40000.0, 50000.0, 60000.0, 70000.0, 80000.0, 90000.0, 200000.0, 300000.0, 400000.0, 500000.0, 600000.0, 700000.0, 800000.0, 900000.0, 2000000.0, 3000000.0, 4000000.0, 5000000.0, 6000000.0, 7000000.0, 8000000.0, 9000000.0]\n",
      "2018-12-20 20:53:45,665 - matplotlib.ticker - DEBUG - ticker - vmin 1e-06 vmax 7846.3623046875\n",
      "2018-12-20 20:53:45,666 - matplotlib.ticker - DEBUG - ticker - ticklocs array([1.e-07, 1.e-06, 1.e-05, 1.e-04, 1.e-03, 1.e-02, 1.e-01, 1.e+00,\n",
      "       1.e+01, 1.e+02, 1.e+03, 1.e+04, 1.e+05])\n",
      "2018-12-20 20:53:45,670 - matplotlib.ticker - DEBUG - ticker - vmin 1e-06 vmax 7846.3623046875\n",
      "2018-12-20 20:53:45,671 - matplotlib.ticker - DEBUG - ticker - ticklocs [2e-07, 3e-07, 4e-07, 5e-07, 6e-07, 7e-07, 8e-07, 9e-07, 2e-06, 3e-06, 4e-06, 4.9999999999999996e-06, 6e-06, 7e-06, 8e-06, 9e-06, 2e-05, 3.0000000000000004e-05, 4e-05, 5e-05, 6.000000000000001e-05, 7.000000000000001e-05, 8e-05, 9e-05, 0.0002, 0.00030000000000000003, 0.0004, 0.0005, 0.0006000000000000001, 0.0007, 0.0008, 0.0009000000000000001, 0.002, 0.003, 0.004, 0.005, 0.006, 0.007, 0.008, 0.009000000000000001, 0.02, 0.03, 0.04, 0.05, 0.06, 0.07, 0.08, 0.09, 0.2, 0.30000000000000004, 0.4, 0.5, 0.6000000000000001, 0.7000000000000001, 0.8, 0.9, 2.0, 3.0, 4.0, 5.0, 6.0, 7.0, 8.0, 9.0, 20.0, 30.0, 40.0, 50.0, 60.0, 70.0, 80.0, 90.0, 200.0, 300.0, 400.0, 500.0, 600.0, 700.0, 800.0, 900.0, 2000.0, 3000.0, 4000.0, 5000.0, 6000.0, 7000.0, 8000.0, 9000.0, 20000.0, 30000.0, 40000.0, 50000.0, 60000.0, 70000.0, 80000.0, 90000.0, 200000.0, 300000.0, 400000.0, 500000.0, 600000.0, 700000.0, 800000.0, 900000.0]\n",
      "2018-12-20 20:53:45,885 - matplotlib.ticker - DEBUG - ticker - vmin 1e-06 vmax 7846.3623046875\n",
      "2018-12-20 20:53:45,885 - matplotlib.ticker - DEBUG - ticker - ticklocs array([1.e-07, 1.e-06, 1.e-05, 1.e-04, 1.e-03, 1.e-02, 1.e-01, 1.e+00,\n",
      "       1.e+01, 1.e+02, 1.e+03, 1.e+04, 1.e+05])\n",
      "2018-12-20 20:53:45,888 - matplotlib.ticker - DEBUG - ticker - vmin 1e-06 vmax 7846.3623046875\n",
      "2018-12-20 20:53:45,889 - matplotlib.ticker - DEBUG - ticker - ticklocs [2e-07, 3e-07, 4e-07, 5e-07, 6e-07, 7e-07, 8e-07, 9e-07, 2e-06, 3e-06, 4e-06, 4.9999999999999996e-06, 6e-06, 7e-06, 8e-06, 9e-06, 2e-05, 3.0000000000000004e-05, 4e-05, 5e-05, 6.000000000000001e-05, 7.000000000000001e-05, 8e-05, 9e-05, 0.0002, 0.00030000000000000003, 0.0004, 0.0005, 0.0006000000000000001, 0.0007, 0.0008, 0.0009000000000000001, 0.002, 0.003, 0.004, 0.005, 0.006, 0.007, 0.008, 0.009000000000000001, 0.02, 0.03, 0.04, 0.05, 0.06, 0.07, 0.08, 0.09, 0.2, 0.30000000000000004, 0.4, 0.5, 0.6000000000000001, 0.7000000000000001, 0.8, 0.9, 2.0, 3.0, 4.0, 5.0, 6.0, 7.0, 8.0, 9.0, 20.0, 30.0, 40.0, 50.0, 60.0, 70.0, 80.0, 90.0, 200.0, 300.0, 400.0, 500.0, 600.0, 700.0, 800.0, 900.0, 2000.0, 3000.0, 4000.0, 5000.0, 6000.0, 7000.0, 8000.0, 9000.0, 20000.0, 30000.0, 40000.0, 50000.0, 60000.0, 70000.0, 80000.0, 90000.0, 200000.0, 300000.0, 400000.0, 500000.0, 600000.0, 700000.0, 800000.0, 900000.0]\n"
     ]
    },
    {
     "name": "stderr",
     "output_type": "stream",
     "text": [
      "2018-12-20 20:53:45,985 - matplotlib.axes._base - DEBUG - _base - update_title_pos\n",
      "2018-12-20 20:53:45,987 - matplotlib.ticker - DEBUG - ticker - vmin 0.6351622995324107 vmax 13785.452956584368\n",
      "2018-12-20 20:53:45,988 - matplotlib.ticker - DEBUG - ticker - ticklocs array([1.e-02, 1.e-01, 1.e+00, 1.e+01, 1.e+02, 1.e+03, 1.e+04, 1.e+05,\n",
      "       1.e+06])\n",
      "2018-12-20 20:53:45,992 - matplotlib.ticker - DEBUG - ticker - vmin 0.6351622995324107 vmax 13785.452956584368\n",
      "2018-12-20 20:53:45,993 - matplotlib.ticker - DEBUG - ticker - ticklocs [0.02, 0.03, 0.04, 0.05, 0.06, 0.07, 0.08, 0.09, 0.2, 0.30000000000000004, 0.4, 0.5, 0.6000000000000001, 0.7000000000000001, 0.8, 0.9, 2.0, 3.0, 4.0, 5.0, 6.0, 7.0, 8.0, 9.0, 20.0, 30.0, 40.0, 50.0, 60.0, 70.0, 80.0, 90.0, 200.0, 300.0, 400.0, 500.0, 600.0, 700.0, 800.0, 900.0, 2000.0, 3000.0, 4000.0, 5000.0, 6000.0, 7000.0, 8000.0, 9000.0, 20000.0, 30000.0, 40000.0, 50000.0, 60000.0, 70000.0, 80000.0, 90000.0, 200000.0, 300000.0, 400000.0, 500000.0, 600000.0, 700000.0, 800000.0, 900000.0, 2000000.0, 3000000.0, 4000000.0, 5000000.0, 6000000.0, 7000000.0, 8000000.0, 9000000.0]\n",
      "2018-12-20 20:53:46,077 - matplotlib.ticker - DEBUG - ticker - vmin 0.6351622995324107 vmax 13785.452956584368\n",
      "2018-12-20 20:53:46,078 - matplotlib.ticker - DEBUG - ticker - ticklocs array([1.e-02, 1.e-01, 1.e+00, 1.e+01, 1.e+02, 1.e+03, 1.e+04, 1.e+05,\n",
      "       1.e+06])\n",
      "2018-12-20 20:53:46,080 - matplotlib.ticker - DEBUG - ticker - vmin 0.6351622995324107 vmax 13785.452956584368\n",
      "2018-12-20 20:53:46,081 - matplotlib.ticker - DEBUG - ticker - ticklocs [0.02, 0.03, 0.04, 0.05, 0.06, 0.07, 0.08, 0.09, 0.2, 0.30000000000000004, 0.4, 0.5, 0.6000000000000001, 0.7000000000000001, 0.8, 0.9, 2.0, 3.0, 4.0, 5.0, 6.0, 7.0, 8.0, 9.0, 20.0, 30.0, 40.0, 50.0, 60.0, 70.0, 80.0, 90.0, 200.0, 300.0, 400.0, 500.0, 600.0, 700.0, 800.0, 900.0, 2000.0, 3000.0, 4000.0, 5000.0, 6000.0, 7000.0, 8000.0, 9000.0, 20000.0, 30000.0, 40000.0, 50000.0, 60000.0, 70000.0, 80000.0, 90000.0, 200000.0, 300000.0, 400000.0, 500000.0, 600000.0, 700000.0, 800000.0, 900000.0, 2000000.0, 3000000.0, 4000000.0, 5000000.0, 6000000.0, 7000000.0, 8000000.0, 9000000.0]\n",
      "2018-12-20 20:53:46,096 - matplotlib.ticker - DEBUG - ticker - vmin 1e-06 vmax 7846.3623046875\n",
      "2018-12-20 20:53:46,096 - matplotlib.ticker - DEBUG - ticker - ticklocs array([1.e-07, 1.e-06, 1.e-05, 1.e-04, 1.e-03, 1.e-02, 1.e-01, 1.e+00,\n",
      "       1.e+01, 1.e+02, 1.e+03, 1.e+04, 1.e+05])\n",
      "2018-12-20 20:53:46,098 - matplotlib.ticker - DEBUG - ticker - vmin 1e-06 vmax 7846.3623046875\n",
      "2018-12-20 20:53:46,099 - matplotlib.ticker - DEBUG - ticker - ticklocs [2e-07, 3e-07, 4e-07, 5e-07, 6e-07, 7e-07, 8e-07, 9e-07, 2e-06, 3e-06, 4e-06, 4.9999999999999996e-06, 6e-06, 7e-06, 8e-06, 9e-06, 2e-05, 3.0000000000000004e-05, 4e-05, 5e-05, 6.000000000000001e-05, 7.000000000000001e-05, 8e-05, 9e-05, 0.0002, 0.00030000000000000003, 0.0004, 0.0005, 0.0006000000000000001, 0.0007, 0.0008, 0.0009000000000000001, 0.002, 0.003, 0.004, 0.005, 0.006, 0.007, 0.008, 0.009000000000000001, 0.02, 0.03, 0.04, 0.05, 0.06, 0.07, 0.08, 0.09, 0.2, 0.30000000000000004, 0.4, 0.5, 0.6000000000000001, 0.7000000000000001, 0.8, 0.9, 2.0, 3.0, 4.0, 5.0, 6.0, 7.0, 8.0, 9.0, 20.0, 30.0, 40.0, 50.0, 60.0, 70.0, 80.0, 90.0, 200.0, 300.0, 400.0, 500.0, 600.0, 700.0, 800.0, 900.0, 2000.0, 3000.0, 4000.0, 5000.0, 6000.0, 7000.0, 8000.0, 9000.0, 20000.0, 30000.0, 40000.0, 50000.0, 60000.0, 70000.0, 80000.0, 90000.0, 200000.0, 300000.0, 400000.0, 500000.0, 600000.0, 700000.0, 800000.0, 900000.0]\n",
      "2018-12-20 20:53:46,257 - matplotlib.ticker - DEBUG - ticker - vmin 1e-06 vmax 7846.3623046875\n",
      "2018-12-20 20:53:46,260 - matplotlib.ticker - DEBUG - ticker - ticklocs array([1.e-07, 1.e-06, 1.e-05, 1.e-04, 1.e-03, 1.e-02, 1.e-01, 1.e+00,\n",
      "       1.e+01, 1.e+02, 1.e+03, 1.e+04, 1.e+05])\n",
      "2018-12-20 20:53:46,269 - matplotlib.ticker - DEBUG - ticker - vmin 1e-06 vmax 7846.3623046875\n",
      "2018-12-20 20:53:46,269 - matplotlib.ticker - DEBUG - ticker - ticklocs [2e-07, 3e-07, 4e-07, 5e-07, 6e-07, 7e-07, 8e-07, 9e-07, 2e-06, 3e-06, 4e-06, 4.9999999999999996e-06, 6e-06, 7e-06, 8e-06, 9e-06, 2e-05, 3.0000000000000004e-05, 4e-05, 5e-05, 6.000000000000001e-05, 7.000000000000001e-05, 8e-05, 9e-05, 0.0002, 0.00030000000000000003, 0.0004, 0.0005, 0.0006000000000000001, 0.0007, 0.0008, 0.0009000000000000001, 0.002, 0.003, 0.004, 0.005, 0.006, 0.007, 0.008, 0.009000000000000001, 0.02, 0.03, 0.04, 0.05, 0.06, 0.07, 0.08, 0.09, 0.2, 0.30000000000000004, 0.4, 0.5, 0.6000000000000001, 0.7000000000000001, 0.8, 0.9, 2.0, 3.0, 4.0, 5.0, 6.0, 7.0, 8.0, 9.0, 20.0, 30.0, 40.0, 50.0, 60.0, 70.0, 80.0, 90.0, 200.0, 300.0, 400.0, 500.0, 600.0, 700.0, 800.0, 900.0, 2000.0, 3000.0, 4000.0, 5000.0, 6000.0, 7000.0, 8000.0, 9000.0, 20000.0, 30000.0, 40000.0, 50000.0, 60000.0, 70000.0, 80000.0, 90000.0, 200000.0, 300000.0, 400000.0, 500000.0, 600000.0, 700000.0, 800000.0, 900000.0]\n",
      "2018-12-20 20:53:46,353 - matplotlib.ticker - DEBUG - ticker - vmin 0.6351622995324107 vmax 13785.452956584368\n",
      "2018-12-20 20:53:46,354 - matplotlib.ticker - DEBUG - ticker - ticklocs array([1.e-02, 1.e-01, 1.e+00, 1.e+01, 1.e+02, 1.e+03, 1.e+04, 1.e+05,\n",
      "       1.e+06])\n",
      "2018-12-20 20:53:46,358 - matplotlib.ticker - DEBUG - ticker - vmin 1e-06 vmax 7846.3623046875\n",
      "2018-12-20 20:53:46,359 - matplotlib.ticker - DEBUG - ticker - ticklocs array([1.e-07, 1.e-06, 1.e-05, 1.e-04, 1.e-03, 1.e-02, 1.e-01, 1.e+00,\n",
      "       1.e+01, 1.e+02, 1.e+03, 1.e+04, 1.e+05])\n",
      "2018-12-20 20:53:46,367 - matplotlib.axes._base - DEBUG - _base - update_title_pos\n",
      "2018-12-20 20:53:46,371 - matplotlib.ticker - DEBUG - ticker - vmin 0.6351622995324107 vmax 13785.452956584368\n",
      "2018-12-20 20:53:46,372 - matplotlib.ticker - DEBUG - ticker - ticklocs array([1.e-02, 1.e-01, 1.e+00, 1.e+01, 1.e+02, 1.e+03, 1.e+04, 1.e+05,\n",
      "       1.e+06])\n",
      "2018-12-20 20:53:46,381 - matplotlib.ticker - DEBUG - ticker - vmin 0.6351622995324107 vmax 13785.452956584368\n",
      "2018-12-20 20:53:46,382 - matplotlib.ticker - DEBUG - ticker - ticklocs [0.02, 0.03, 0.04, 0.05, 0.06, 0.07, 0.08, 0.09, 0.2, 0.30000000000000004, 0.4, 0.5, 0.6000000000000001, 0.7000000000000001, 0.8, 0.9, 2.0, 3.0, 4.0, 5.0, 6.0, 7.0, 8.0, 9.0, 20.0, 30.0, 40.0, 50.0, 60.0, 70.0, 80.0, 90.0, 200.0, 300.0, 400.0, 500.0, 600.0, 700.0, 800.0, 900.0, 2000.0, 3000.0, 4000.0, 5000.0, 6000.0, 7000.0, 8000.0, 9000.0, 20000.0, 30000.0, 40000.0, 50000.0, 60000.0, 70000.0, 80000.0, 90000.0, 200000.0, 300000.0, 400000.0, 500000.0, 600000.0, 700000.0, 800000.0, 900000.0, 2000000.0, 3000000.0, 4000000.0, 5000000.0, 6000000.0, 7000000.0, 8000000.0, 9000000.0]\n",
      "2018-12-20 20:53:46,440 - matplotlib.ticker - DEBUG - ticker - vmin 0.6351622995324107 vmax 13785.452956584368\n",
      "2018-12-20 20:53:46,441 - matplotlib.ticker - DEBUG - ticker - ticklocs array([1.e-02, 1.e-01, 1.e+00, 1.e+01, 1.e+02, 1.e+03, 1.e+04, 1.e+05,\n",
      "       1.e+06])\n",
      "2018-12-20 20:53:46,444 - matplotlib.ticker - DEBUG - ticker - vmin 0.6351622995324107 vmax 13785.452956584368\n",
      "2018-12-20 20:53:46,449 - matplotlib.ticker - DEBUG - ticker - ticklocs [0.02, 0.03, 0.04, 0.05, 0.06, 0.07, 0.08, 0.09, 0.2, 0.30000000000000004, 0.4, 0.5, 0.6000000000000001, 0.7000000000000001, 0.8, 0.9, 2.0, 3.0, 4.0, 5.0, 6.0, 7.0, 8.0, 9.0, 20.0, 30.0, 40.0, 50.0, 60.0, 70.0, 80.0, 90.0, 200.0, 300.0, 400.0, 500.0, 600.0, 700.0, 800.0, 900.0, 2000.0, 3000.0, 4000.0, 5000.0, 6000.0, 7000.0, 8000.0, 9000.0, 20000.0, 30000.0, 40000.0, 50000.0, 60000.0, 70000.0, 80000.0, 90000.0, 200000.0, 300000.0, 400000.0, 500000.0, 600000.0, 700000.0, 800000.0, 900000.0, 2000000.0, 3000000.0, 4000000.0, 5000000.0, 6000000.0, 7000000.0, 8000000.0, 9000000.0]\n",
      "2018-12-20 20:53:46,469 - matplotlib.ticker - DEBUG - ticker - vmin 1e-06 vmax 7846.3623046875\n",
      "2018-12-20 20:53:46,470 - matplotlib.ticker - DEBUG - ticker - ticklocs array([1.e-07, 1.e-06, 1.e-05, 1.e-04, 1.e-03, 1.e-02, 1.e-01, 1.e+00,\n",
      "       1.e+01, 1.e+02, 1.e+03, 1.e+04, 1.e+05])\n",
      "2018-12-20 20:53:46,474 - matplotlib.ticker - DEBUG - ticker - vmin 1e-06 vmax 7846.3623046875\n",
      "2018-12-20 20:53:46,475 - matplotlib.ticker - DEBUG - ticker - ticklocs [2e-07, 3e-07, 4e-07, 5e-07, 6e-07, 7e-07, 8e-07, 9e-07, 2e-06, 3e-06, 4e-06, 4.9999999999999996e-06, 6e-06, 7e-06, 8e-06, 9e-06, 2e-05, 3.0000000000000004e-05, 4e-05, 5e-05, 6.000000000000001e-05, 7.000000000000001e-05, 8e-05, 9e-05, 0.0002, 0.00030000000000000003, 0.0004, 0.0005, 0.0006000000000000001, 0.0007, 0.0008, 0.0009000000000000001, 0.002, 0.003, 0.004, 0.005, 0.006, 0.007, 0.008, 0.009000000000000001, 0.02, 0.03, 0.04, 0.05, 0.06, 0.07, 0.08, 0.09, 0.2, 0.30000000000000004, 0.4, 0.5, 0.6000000000000001, 0.7000000000000001, 0.8, 0.9, 2.0, 3.0, 4.0, 5.0, 6.0, 7.0, 8.0, 9.0, 20.0, 30.0, 40.0, 50.0, 60.0, 70.0, 80.0, 90.0, 200.0, 300.0, 400.0, 500.0, 600.0, 700.0, 800.0, 900.0, 2000.0, 3000.0, 4000.0, 5000.0, 6000.0, 7000.0, 8000.0, 9000.0, 20000.0, 30000.0, 40000.0, 50000.0, 60000.0, 70000.0, 80000.0, 90000.0, 200000.0, 300000.0, 400000.0, 500000.0, 600000.0, 700000.0, 800000.0, 900000.0]\n"
     ]
    },
    {
     "name": "stderr",
     "output_type": "stream",
     "text": [
      "2018-12-20 20:53:46,558 - matplotlib.ticker - DEBUG - ticker - vmin 1e-06 vmax 7846.3623046875\n",
      "2018-12-20 20:53:46,559 - matplotlib.ticker - DEBUG - ticker - ticklocs array([1.e-07, 1.e-06, 1.e-05, 1.e-04, 1.e-03, 1.e-02, 1.e-01, 1.e+00,\n",
      "       1.e+01, 1.e+02, 1.e+03, 1.e+04, 1.e+05])\n",
      "2018-12-20 20:53:46,561 - matplotlib.ticker - DEBUG - ticker - vmin 1e-06 vmax 7846.3623046875\n",
      "2018-12-20 20:53:46,562 - matplotlib.ticker - DEBUG - ticker - ticklocs [2e-07, 3e-07, 4e-07, 5e-07, 6e-07, 7e-07, 8e-07, 9e-07, 2e-06, 3e-06, 4e-06, 4.9999999999999996e-06, 6e-06, 7e-06, 8e-06, 9e-06, 2e-05, 3.0000000000000004e-05, 4e-05, 5e-05, 6.000000000000001e-05, 7.000000000000001e-05, 8e-05, 9e-05, 0.0002, 0.00030000000000000003, 0.0004, 0.0005, 0.0006000000000000001, 0.0007, 0.0008, 0.0009000000000000001, 0.002, 0.003, 0.004, 0.005, 0.006, 0.007, 0.008, 0.009000000000000001, 0.02, 0.03, 0.04, 0.05, 0.06, 0.07, 0.08, 0.09, 0.2, 0.30000000000000004, 0.4, 0.5, 0.6000000000000001, 0.7000000000000001, 0.8, 0.9, 2.0, 3.0, 4.0, 5.0, 6.0, 7.0, 8.0, 9.0, 20.0, 30.0, 40.0, 50.0, 60.0, 70.0, 80.0, 90.0, 200.0, 300.0, 400.0, 500.0, 600.0, 700.0, 800.0, 900.0, 2000.0, 3000.0, 4000.0, 5000.0, 6000.0, 7000.0, 8000.0, 9000.0, 20000.0, 30000.0, 40000.0, 50000.0, 60000.0, 70000.0, 80000.0, 90000.0, 200000.0, 300000.0, 400000.0, 500000.0, 600000.0, 700000.0, 800000.0, 900000.0]\n",
      "2018-12-20 20:53:46,620 - matplotlib.ticker - DEBUG - ticker - vmin 0.6351622995324107 vmax 13785.452956584368\n",
      "2018-12-20 20:53:46,621 - matplotlib.ticker - DEBUG - ticker - ticklocs array([1.e-02, 1.e-01, 1.e+00, 1.e+01, 1.e+02, 1.e+03, 1.e+04, 1.e+05,\n",
      "       1.e+06])\n",
      "2018-12-20 20:53:46,624 - matplotlib.ticker - DEBUG - ticker - vmin 0.6351622995324107 vmax 13785.452956584368\n",
      "2018-12-20 20:53:46,625 - matplotlib.ticker - DEBUG - ticker - ticklocs [0.02, 0.03, 0.04, 0.05, 0.06, 0.07, 0.08, 0.09, 0.2, 0.30000000000000004, 0.4, 0.5, 0.6000000000000001, 0.7000000000000001, 0.8, 0.9, 2.0, 3.0, 4.0, 5.0, 6.0, 7.0, 8.0, 9.0, 20.0, 30.0, 40.0, 50.0, 60.0, 70.0, 80.0, 90.0, 200.0, 300.0, 400.0, 500.0, 600.0, 700.0, 800.0, 900.0, 2000.0, 3000.0, 4000.0, 5000.0, 6000.0, 7000.0, 8000.0, 9000.0, 20000.0, 30000.0, 40000.0, 50000.0, 60000.0, 70000.0, 80000.0, 90000.0, 200000.0, 300000.0, 400000.0, 500000.0, 600000.0, 700000.0, 800000.0, 900000.0, 2000000.0, 3000000.0, 4000000.0, 5000000.0, 6000000.0, 7000000.0, 8000000.0, 9000000.0]\n",
      "2018-12-20 20:53:46,632 - matplotlib.ticker - DEBUG - ticker - vmin 0.6351622995324107 vmax 13785.452956584368\n",
      "2018-12-20 20:53:46,633 - matplotlib.ticker - DEBUG - ticker - ticklocs array([1.e-02, 1.e-01, 1.e+00, 1.e+01, 1.e+02, 1.e+03, 1.e+04, 1.e+05,\n",
      "       1.e+06])\n",
      "2018-12-20 20:53:46,634 - matplotlib.ticker - DEBUG - ticker - vmin 0.6351622995324107 vmax 13785.452956584368\n",
      "2018-12-20 20:53:46,635 - matplotlib.ticker - DEBUG - ticker - ticklocs [0.02, 0.03, 0.04, 0.05, 0.06, 0.07, 0.08, 0.09, 0.2, 0.30000000000000004, 0.4, 0.5, 0.6000000000000001, 0.7000000000000001, 0.8, 0.9, 2.0, 3.0, 4.0, 5.0, 6.0, 7.0, 8.0, 9.0, 20.0, 30.0, 40.0, 50.0, 60.0, 70.0, 80.0, 90.0, 200.0, 300.0, 400.0, 500.0, 600.0, 700.0, 800.0, 900.0, 2000.0, 3000.0, 4000.0, 5000.0, 6000.0, 7000.0, 8000.0, 9000.0, 20000.0, 30000.0, 40000.0, 50000.0, 60000.0, 70000.0, 80000.0, 90000.0, 200000.0, 300000.0, 400000.0, 500000.0, 600000.0, 700000.0, 800000.0, 900000.0, 2000000.0, 3000000.0, 4000000.0, 5000000.0, 6000000.0, 7000000.0, 8000000.0, 9000000.0]\n",
      "2018-12-20 20:53:46,654 - matplotlib.axes._base - DEBUG - _base - update_title_pos\n",
      "2018-12-20 20:53:46,657 - matplotlib.ticker - DEBUG - ticker - vmin 1e-06 vmax 7846.3623046875\n",
      "2018-12-20 20:53:46,658 - matplotlib.ticker - DEBUG - ticker - ticklocs array([1.e-07, 1.e-06, 1.e-05, 1.e-04, 1.e-03, 1.e-02, 1.e-01, 1.e+00,\n",
      "       1.e+01, 1.e+02, 1.e+03, 1.e+04, 1.e+05])\n",
      "2018-12-20 20:53:46,666 - matplotlib.ticker - DEBUG - ticker - vmin 1e-06 vmax 7846.3623046875\n",
      "2018-12-20 20:53:46,667 - matplotlib.ticker - DEBUG - ticker - ticklocs [2e-07, 3e-07, 4e-07, 5e-07, 6e-07, 7e-07, 8e-07, 9e-07, 2e-06, 3e-06, 4e-06, 4.9999999999999996e-06, 6e-06, 7e-06, 8e-06, 9e-06, 2e-05, 3.0000000000000004e-05, 4e-05, 5e-05, 6.000000000000001e-05, 7.000000000000001e-05, 8e-05, 9e-05, 0.0002, 0.00030000000000000003, 0.0004, 0.0005, 0.0006000000000000001, 0.0007, 0.0008, 0.0009000000000000001, 0.002, 0.003, 0.004, 0.005, 0.006, 0.007, 0.008, 0.009000000000000001, 0.02, 0.03, 0.04, 0.05, 0.06, 0.07, 0.08, 0.09, 0.2, 0.30000000000000004, 0.4, 0.5, 0.6000000000000001, 0.7000000000000001, 0.8, 0.9, 2.0, 3.0, 4.0, 5.0, 6.0, 7.0, 8.0, 9.0, 20.0, 30.0, 40.0, 50.0, 60.0, 70.0, 80.0, 90.0, 200.0, 300.0, 400.0, 500.0, 600.0, 700.0, 800.0, 900.0, 2000.0, 3000.0, 4000.0, 5000.0, 6000.0, 7000.0, 8000.0, 9000.0, 20000.0, 30000.0, 40000.0, 50000.0, 60000.0, 70000.0, 80000.0, 90000.0, 200000.0, 300000.0, 400000.0, 500000.0, 600000.0, 700000.0, 800000.0, 900000.0]\n",
      "2018-12-20 20:53:46,674 - matplotlib.ticker - DEBUG - ticker - vmin 1e-06 vmax 7846.3623046875\n",
      "2018-12-20 20:53:46,676 - matplotlib.ticker - DEBUG - ticker - ticklocs array([1.e-07, 1.e-06, 1.e-05, 1.e-04, 1.e-03, 1.e-02, 1.e-01, 1.e+00,\n",
      "       1.e+01, 1.e+02, 1.e+03, 1.e+04, 1.e+05])\n",
      "2018-12-20 20:53:46,683 - matplotlib.ticker - DEBUG - ticker - vmin 1e-06 vmax 7846.3623046875\n",
      "2018-12-20 20:53:46,684 - matplotlib.ticker - DEBUG - ticker - ticklocs [2e-07, 3e-07, 4e-07, 5e-07, 6e-07, 7e-07, 8e-07, 9e-07, 2e-06, 3e-06, 4e-06, 4.9999999999999996e-06, 6e-06, 7e-06, 8e-06, 9e-06, 2e-05, 3.0000000000000004e-05, 4e-05, 5e-05, 6.000000000000001e-05, 7.000000000000001e-05, 8e-05, 9e-05, 0.0002, 0.00030000000000000003, 0.0004, 0.0005, 0.0006000000000000001, 0.0007, 0.0008, 0.0009000000000000001, 0.002, 0.003, 0.004, 0.005, 0.006, 0.007, 0.008, 0.009000000000000001, 0.02, 0.03, 0.04, 0.05, 0.06, 0.07, 0.08, 0.09, 0.2, 0.30000000000000004, 0.4, 0.5, 0.6000000000000001, 0.7000000000000001, 0.8, 0.9, 2.0, 3.0, 4.0, 5.0, 6.0, 7.0, 8.0, 9.0, 20.0, 30.0, 40.0, 50.0, 60.0, 70.0, 80.0, 90.0, 200.0, 300.0, 400.0, 500.0, 600.0, 700.0, 800.0, 900.0, 2000.0, 3000.0, 4000.0, 5000.0, 6000.0, 7000.0, 8000.0, 9000.0, 20000.0, 30000.0, 40000.0, 50000.0, 60000.0, 70000.0, 80000.0, 90000.0, 200000.0, 300000.0, 400000.0, 500000.0, 600000.0, 700000.0, 800000.0, 900000.0]\n",
      "2018-12-20 20:53:46,726 - matplotlib.ticker - DEBUG - ticker - vmin 0.6351622995324107 vmax 13785.452956584368\n",
      "2018-12-20 20:53:46,727 - matplotlib.ticker - DEBUG - ticker - ticklocs array([1.e-02, 1.e-01, 1.e+00, 1.e+01, 1.e+02, 1.e+03, 1.e+04, 1.e+05,\n",
      "       1.e+06])\n",
      "2018-12-20 20:53:46,731 - matplotlib.ticker - DEBUG - ticker - vmin 0.6351622995324107 vmax 13785.452956584368\n",
      "2018-12-20 20:53:46,732 - matplotlib.ticker - DEBUG - ticker - ticklocs [0.02, 0.03, 0.04, 0.05, 0.06, 0.07, 0.08, 0.09, 0.2, 0.30000000000000004, 0.4, 0.5, 0.6000000000000001, 0.7000000000000001, 0.8, 0.9, 2.0, 3.0, 4.0, 5.0, 6.0, 7.0, 8.0, 9.0, 20.0, 30.0, 40.0, 50.0, 60.0, 70.0, 80.0, 90.0, 200.0, 300.0, 400.0, 500.0, 600.0, 700.0, 800.0, 900.0, 2000.0, 3000.0, 4000.0, 5000.0, 6000.0, 7000.0, 8000.0, 9000.0, 20000.0, 30000.0, 40000.0, 50000.0, 60000.0, 70000.0, 80000.0, 90000.0, 200000.0, 300000.0, 400000.0, 500000.0, 600000.0, 700000.0, 800000.0, 900000.0, 2000000.0, 3000000.0, 4000000.0, 5000000.0, 6000000.0, 7000000.0, 8000000.0, 9000000.0]\n",
      "2018-12-20 20:53:46,742 - matplotlib.ticker - DEBUG - ticker - vmin 0.6351622995324107 vmax 13785.452956584368\n",
      "2018-12-20 20:53:46,744 - matplotlib.ticker - DEBUG - ticker - ticklocs array([1.e-02, 1.e-01, 1.e+00, 1.e+01, 1.e+02, 1.e+03, 1.e+04, 1.e+05,\n",
      "       1.e+06])\n",
      "2018-12-20 20:53:46,750 - matplotlib.ticker - DEBUG - ticker - vmin 0.6351622995324107 vmax 13785.452956584368\n",
      "2018-12-20 20:53:46,751 - matplotlib.ticker - DEBUG - ticker - ticklocs [0.02, 0.03, 0.04, 0.05, 0.06, 0.07, 0.08, 0.09, 0.2, 0.30000000000000004, 0.4, 0.5, 0.6000000000000001, 0.7000000000000001, 0.8, 0.9, 2.0, 3.0, 4.0, 5.0, 6.0, 7.0, 8.0, 9.0, 20.0, 30.0, 40.0, 50.0, 60.0, 70.0, 80.0, 90.0, 200.0, 300.0, 400.0, 500.0, 600.0, 700.0, 800.0, 900.0, 2000.0, 3000.0, 4000.0, 5000.0, 6000.0, 7000.0, 8000.0, 9000.0, 20000.0, 30000.0, 40000.0, 50000.0, 60000.0, 70000.0, 80000.0, 90000.0, 200000.0, 300000.0, 400000.0, 500000.0, 600000.0, 700000.0, 800000.0, 900000.0, 2000000.0, 3000000.0, 4000000.0, 5000000.0, 6000000.0, 7000000.0, 8000000.0, 9000000.0]\n"
     ]
    },
    {
     "name": "stderr",
     "output_type": "stream",
     "text": [
      "2018-12-20 20:53:46,779 - matplotlib.ticker - DEBUG - ticker - vmin 1e-06 vmax 7846.3623046875\n",
      "2018-12-20 20:53:46,779 - matplotlib.ticker - DEBUG - ticker - ticklocs array([1.e-07, 1.e-06, 1.e-05, 1.e-04, 1.e-03, 1.e-02, 1.e-01, 1.e+00,\n",
      "       1.e+01, 1.e+02, 1.e+03, 1.e+04, 1.e+05])\n",
      "2018-12-20 20:53:46,782 - matplotlib.ticker - DEBUG - ticker - vmin 1e-06 vmax 7846.3623046875\n",
      "2018-12-20 20:53:46,783 - matplotlib.ticker - DEBUG - ticker - ticklocs [2e-07, 3e-07, 4e-07, 5e-07, 6e-07, 7e-07, 8e-07, 9e-07, 2e-06, 3e-06, 4e-06, 4.9999999999999996e-06, 6e-06, 7e-06, 8e-06, 9e-06, 2e-05, 3.0000000000000004e-05, 4e-05, 5e-05, 6.000000000000001e-05, 7.000000000000001e-05, 8e-05, 9e-05, 0.0002, 0.00030000000000000003, 0.0004, 0.0005, 0.0006000000000000001, 0.0007, 0.0008, 0.0009000000000000001, 0.002, 0.003, 0.004, 0.005, 0.006, 0.007, 0.008, 0.009000000000000001, 0.02, 0.03, 0.04, 0.05, 0.06, 0.07, 0.08, 0.09, 0.2, 0.30000000000000004, 0.4, 0.5, 0.6000000000000001, 0.7000000000000001, 0.8, 0.9, 2.0, 3.0, 4.0, 5.0, 6.0, 7.0, 8.0, 9.0, 20.0, 30.0, 40.0, 50.0, 60.0, 70.0, 80.0, 90.0, 200.0, 300.0, 400.0, 500.0, 600.0, 700.0, 800.0, 900.0, 2000.0, 3000.0, 4000.0, 5000.0, 6000.0, 7000.0, 8000.0, 9000.0, 20000.0, 30000.0, 40000.0, 50000.0, 60000.0, 70000.0, 80000.0, 90000.0, 200000.0, 300000.0, 400000.0, 500000.0, 600000.0, 700000.0, 800000.0, 900000.0]\n",
      "2018-12-20 20:53:46,795 - matplotlib.ticker - DEBUG - ticker - vmin 1e-06 vmax 7846.3623046875\n",
      "2018-12-20 20:53:46,796 - matplotlib.ticker - DEBUG - ticker - ticklocs array([1.e-07, 1.e-06, 1.e-05, 1.e-04, 1.e-03, 1.e-02, 1.e-01, 1.e+00,\n",
      "       1.e+01, 1.e+02, 1.e+03, 1.e+04, 1.e+05])\n",
      "2018-12-20 20:53:46,802 - matplotlib.ticker - DEBUG - ticker - vmin 1e-06 vmax 7846.3623046875\n",
      "2018-12-20 20:53:46,803 - matplotlib.ticker - DEBUG - ticker - ticklocs [2e-07, 3e-07, 4e-07, 5e-07, 6e-07, 7e-07, 8e-07, 9e-07, 2e-06, 3e-06, 4e-06, 4.9999999999999996e-06, 6e-06, 7e-06, 8e-06, 9e-06, 2e-05, 3.0000000000000004e-05, 4e-05, 5e-05, 6.000000000000001e-05, 7.000000000000001e-05, 8e-05, 9e-05, 0.0002, 0.00030000000000000003, 0.0004, 0.0005, 0.0006000000000000001, 0.0007, 0.0008, 0.0009000000000000001, 0.002, 0.003, 0.004, 0.005, 0.006, 0.007, 0.008, 0.009000000000000001, 0.02, 0.03, 0.04, 0.05, 0.06, 0.07, 0.08, 0.09, 0.2, 0.30000000000000004, 0.4, 0.5, 0.6000000000000001, 0.7000000000000001, 0.8, 0.9, 2.0, 3.0, 4.0, 5.0, 6.0, 7.0, 8.0, 9.0, 20.0, 30.0, 40.0, 50.0, 60.0, 70.0, 80.0, 90.0, 200.0, 300.0, 400.0, 500.0, 600.0, 700.0, 800.0, 900.0, 2000.0, 3000.0, 4000.0, 5000.0, 6000.0, 7000.0, 8000.0, 9000.0, 20000.0, 30000.0, 40000.0, 50000.0, 60000.0, 70000.0, 80000.0, 90000.0, 200000.0, 300000.0, 400000.0, 500000.0, 600000.0, 700000.0, 800000.0, 900000.0]\n",
      "2018-12-20 20:53:46,854 - matplotlib.ticker - DEBUG - ticker - vmin 0.6351622995324107 vmax 13785.452956584368\n",
      "2018-12-20 20:53:46,854 - matplotlib.ticker - DEBUG - ticker - ticklocs array([1.e-02, 1.e-01, 1.e+00, 1.e+01, 1.e+02, 1.e+03, 1.e+04, 1.e+05,\n",
      "       1.e+06])\n",
      "2018-12-20 20:53:46,864 - matplotlib.ticker - DEBUG - ticker - vmin 0.6351622995324107 vmax 13785.452956584368\n",
      "2018-12-20 20:53:46,866 - matplotlib.ticker - DEBUG - ticker - ticklocs [0.02, 0.03, 0.04, 0.05, 0.06, 0.07, 0.08, 0.09, 0.2, 0.30000000000000004, 0.4, 0.5, 0.6000000000000001, 0.7000000000000001, 0.8, 0.9, 2.0, 3.0, 4.0, 5.0, 6.0, 7.0, 8.0, 9.0, 20.0, 30.0, 40.0, 50.0, 60.0, 70.0, 80.0, 90.0, 200.0, 300.0, 400.0, 500.0, 600.0, 700.0, 800.0, 900.0, 2000.0, 3000.0, 4000.0, 5000.0, 6000.0, 7000.0, 8000.0, 9000.0, 20000.0, 30000.0, 40000.0, 50000.0, 60000.0, 70000.0, 80000.0, 90000.0, 200000.0, 300000.0, 400000.0, 500000.0, 600000.0, 700000.0, 800000.0, 900000.0, 2000000.0, 3000000.0, 4000000.0, 5000000.0, 6000000.0, 7000000.0, 8000000.0, 9000000.0]\n",
      "2018-12-20 20:53:46,871 - matplotlib.ticker - DEBUG - ticker - vmin 0.6351622995324107 vmax 13785.452956584368\n",
      "2018-12-20 20:53:46,872 - matplotlib.ticker - DEBUG - ticker - ticklocs array([1.e-02, 1.e-01, 1.e+00, 1.e+01, 1.e+02, 1.e+03, 1.e+04, 1.e+05,\n",
      "       1.e+06])\n",
      "2018-12-20 20:53:46,876 - matplotlib.ticker - DEBUG - ticker - vmin 0.6351622995324107 vmax 13785.452956584368\n",
      "2018-12-20 20:53:46,878 - matplotlib.ticker - DEBUG - ticker - ticklocs [0.02, 0.03, 0.04, 0.05, 0.06, 0.07, 0.08, 0.09, 0.2, 0.30000000000000004, 0.4, 0.5, 0.6000000000000001, 0.7000000000000001, 0.8, 0.9, 2.0, 3.0, 4.0, 5.0, 6.0, 7.0, 8.0, 9.0, 20.0, 30.0, 40.0, 50.0, 60.0, 70.0, 80.0, 90.0, 200.0, 300.0, 400.0, 500.0, 600.0, 700.0, 800.0, 900.0, 2000.0, 3000.0, 4000.0, 5000.0, 6000.0, 7000.0, 8000.0, 9000.0, 20000.0, 30000.0, 40000.0, 50000.0, 60000.0, 70000.0, 80000.0, 90000.0, 200000.0, 300000.0, 400000.0, 500000.0, 600000.0, 700000.0, 800000.0, 900000.0, 2000000.0, 3000000.0, 4000000.0, 5000000.0, 6000000.0, 7000000.0, 8000000.0, 9000000.0]\n",
      "2018-12-20 20:53:46,911 - matplotlib.ticker - DEBUG - ticker - vmin 1e-06 vmax 7846.3623046875\n",
      "2018-12-20 20:53:46,912 - matplotlib.ticker - DEBUG - ticker - ticklocs array([1.e-07, 1.e-06, 1.e-05, 1.e-04, 1.e-03, 1.e-02, 1.e-01, 1.e+00,\n",
      "       1.e+01, 1.e+02, 1.e+03, 1.e+04, 1.e+05])\n",
      "2018-12-20 20:53:46,916 - matplotlib.ticker - DEBUG - ticker - vmin 1e-06 vmax 7846.3623046875\n",
      "2018-12-20 20:53:46,917 - matplotlib.ticker - DEBUG - ticker - ticklocs [2e-07, 3e-07, 4e-07, 5e-07, 6e-07, 7e-07, 8e-07, 9e-07, 2e-06, 3e-06, 4e-06, 4.9999999999999996e-06, 6e-06, 7e-06, 8e-06, 9e-06, 2e-05, 3.0000000000000004e-05, 4e-05, 5e-05, 6.000000000000001e-05, 7.000000000000001e-05, 8e-05, 9e-05, 0.0002, 0.00030000000000000003, 0.0004, 0.0005, 0.0006000000000000001, 0.0007, 0.0008, 0.0009000000000000001, 0.002, 0.003, 0.004, 0.005, 0.006, 0.007, 0.008, 0.009000000000000001, 0.02, 0.03, 0.04, 0.05, 0.06, 0.07, 0.08, 0.09, 0.2, 0.30000000000000004, 0.4, 0.5, 0.6000000000000001, 0.7000000000000001, 0.8, 0.9, 2.0, 3.0, 4.0, 5.0, 6.0, 7.0, 8.0, 9.0, 20.0, 30.0, 40.0, 50.0, 60.0, 70.0, 80.0, 90.0, 200.0, 300.0, 400.0, 500.0, 600.0, 700.0, 800.0, 900.0, 2000.0, 3000.0, 4000.0, 5000.0, 6000.0, 7000.0, 8000.0, 9000.0, 20000.0, 30000.0, 40000.0, 50000.0, 60000.0, 70000.0, 80000.0, 90000.0, 200000.0, 300000.0, 400000.0, 500000.0, 600000.0, 700000.0, 800000.0, 900000.0]\n",
      "2018-12-20 20:53:46,928 - matplotlib.ticker - DEBUG - ticker - vmin 1e-06 vmax 7846.3623046875\n",
      "2018-12-20 20:53:46,929 - matplotlib.ticker - DEBUG - ticker - ticklocs array([1.e-07, 1.e-06, 1.e-05, 1.e-04, 1.e-03, 1.e-02, 1.e-01, 1.e+00,\n",
      "       1.e+01, 1.e+02, 1.e+03, 1.e+04, 1.e+05])\n",
      "2018-12-20 20:53:46,933 - matplotlib.ticker - DEBUG - ticker - vmin 1e-06 vmax 7846.3623046875\n",
      "2018-12-20 20:53:46,935 - matplotlib.ticker - DEBUG - ticker - ticklocs [2e-07, 3e-07, 4e-07, 5e-07, 6e-07, 7e-07, 8e-07, 9e-07, 2e-06, 3e-06, 4e-06, 4.9999999999999996e-06, 6e-06, 7e-06, 8e-06, 9e-06, 2e-05, 3.0000000000000004e-05, 4e-05, 5e-05, 6.000000000000001e-05, 7.000000000000001e-05, 8e-05, 9e-05, 0.0002, 0.00030000000000000003, 0.0004, 0.0005, 0.0006000000000000001, 0.0007, 0.0008, 0.0009000000000000001, 0.002, 0.003, 0.004, 0.005, 0.006, 0.007, 0.008, 0.009000000000000001, 0.02, 0.03, 0.04, 0.05, 0.06, 0.07, 0.08, 0.09, 0.2, 0.30000000000000004, 0.4, 0.5, 0.6000000000000001, 0.7000000000000001, 0.8, 0.9, 2.0, 3.0, 4.0, 5.0, 6.0, 7.0, 8.0, 9.0, 20.0, 30.0, 40.0, 50.0, 60.0, 70.0, 80.0, 90.0, 200.0, 300.0, 400.0, 500.0, 600.0, 700.0, 800.0, 900.0, 2000.0, 3000.0, 4000.0, 5000.0, 6000.0, 7000.0, 8000.0, 9000.0, 20000.0, 30000.0, 40000.0, 50000.0, 60000.0, 70000.0, 80000.0, 90000.0, 200000.0, 300000.0, 400000.0, 500000.0, 600000.0, 700000.0, 800000.0, 900000.0]\n",
      "2018-12-20 20:53:46,982 - matplotlib.ticker - DEBUG - ticker - vmin 0.6351622995324107 vmax 13785.452956584368\n",
      "2018-12-20 20:53:46,983 - matplotlib.ticker - DEBUG - ticker - ticklocs array([1.e-02, 1.e-01, 1.e+00, 1.e+01, 1.e+02, 1.e+03, 1.e+04, 1.e+05,\n",
      "       1.e+06])\n",
      "2018-12-20 20:53:46,985 - matplotlib.ticker - DEBUG - ticker - vmin 0.6351622995324107 vmax 13785.452956584368\n",
      "2018-12-20 20:53:46,986 - matplotlib.ticker - DEBUG - ticker - ticklocs [0.02, 0.03, 0.04, 0.05, 0.06, 0.07, 0.08, 0.09, 0.2, 0.30000000000000004, 0.4, 0.5, 0.6000000000000001, 0.7000000000000001, 0.8, 0.9, 2.0, 3.0, 4.0, 5.0, 6.0, 7.0, 8.0, 9.0, 20.0, 30.0, 40.0, 50.0, 60.0, 70.0, 80.0, 90.0, 200.0, 300.0, 400.0, 500.0, 600.0, 700.0, 800.0, 900.0, 2000.0, 3000.0, 4000.0, 5000.0, 6000.0, 7000.0, 8000.0, 9000.0, 20000.0, 30000.0, 40000.0, 50000.0, 60000.0, 70000.0, 80000.0, 90000.0, 200000.0, 300000.0, 400000.0, 500000.0, 600000.0, 700000.0, 800000.0, 900000.0, 2000000.0, 3000000.0, 4000000.0, 5000000.0, 6000000.0, 7000000.0, 8000000.0, 9000000.0]\n"
     ]
    },
    {
     "name": "stderr",
     "output_type": "stream",
     "text": [
      "2018-12-20 20:53:46,992 - matplotlib.ticker - DEBUG - ticker - vmin 0.6351622995324107 vmax 13785.452956584368\n",
      "2018-12-20 20:53:46,994 - matplotlib.ticker - DEBUG - ticker - ticklocs array([1.e-02, 1.e-01, 1.e+00, 1.e+01, 1.e+02, 1.e+03, 1.e+04, 1.e+05,\n",
      "       1.e+06])\n",
      "2018-12-20 20:53:46,997 - matplotlib.ticker - DEBUG - ticker - vmin 0.6351622995324107 vmax 13785.452956584368\n",
      "2018-12-20 20:53:46,998 - matplotlib.ticker - DEBUG - ticker - ticklocs [0.02, 0.03, 0.04, 0.05, 0.06, 0.07, 0.08, 0.09, 0.2, 0.30000000000000004, 0.4, 0.5, 0.6000000000000001, 0.7000000000000001, 0.8, 0.9, 2.0, 3.0, 4.0, 5.0, 6.0, 7.0, 8.0, 9.0, 20.0, 30.0, 40.0, 50.0, 60.0, 70.0, 80.0, 90.0, 200.0, 300.0, 400.0, 500.0, 600.0, 700.0, 800.0, 900.0, 2000.0, 3000.0, 4000.0, 5000.0, 6000.0, 7000.0, 8000.0, 9000.0, 20000.0, 30000.0, 40000.0, 50000.0, 60000.0, 70000.0, 80000.0, 90000.0, 200000.0, 300000.0, 400000.0, 500000.0, 600000.0, 700000.0, 800000.0, 900000.0, 2000000.0, 3000000.0, 4000000.0, 5000000.0, 6000000.0, 7000000.0, 8000000.0, 9000000.0]\n",
      "2018-12-20 20:53:47,021 - matplotlib.axes._base - DEBUG - _base - update_title_pos\n",
      "2018-12-20 20:53:47,024 - matplotlib.ticker - DEBUG - ticker - vmin 1e-06 vmax 7846.3623046875\n",
      "2018-12-20 20:53:47,025 - matplotlib.ticker - DEBUG - ticker - ticklocs array([1.e-07, 1.e-06, 1.e-05, 1.e-04, 1.e-03, 1.e-02, 1.e-01, 1.e+00,\n",
      "       1.e+01, 1.e+02, 1.e+03, 1.e+04, 1.e+05])\n",
      "2018-12-20 20:53:47,030 - matplotlib.ticker - DEBUG - ticker - vmin 1e-06 vmax 7846.3623046875\n",
      "2018-12-20 20:53:47,030 - matplotlib.ticker - DEBUG - ticker - ticklocs [2e-07, 3e-07, 4e-07, 5e-07, 6e-07, 7e-07, 8e-07, 9e-07, 2e-06, 3e-06, 4e-06, 4.9999999999999996e-06, 6e-06, 7e-06, 8e-06, 9e-06, 2e-05, 3.0000000000000004e-05, 4e-05, 5e-05, 6.000000000000001e-05, 7.000000000000001e-05, 8e-05, 9e-05, 0.0002, 0.00030000000000000003, 0.0004, 0.0005, 0.0006000000000000001, 0.0007, 0.0008, 0.0009000000000000001, 0.002, 0.003, 0.004, 0.005, 0.006, 0.007, 0.008, 0.009000000000000001, 0.02, 0.03, 0.04, 0.05, 0.06, 0.07, 0.08, 0.09, 0.2, 0.30000000000000004, 0.4, 0.5, 0.6000000000000001, 0.7000000000000001, 0.8, 0.9, 2.0, 3.0, 4.0, 5.0, 6.0, 7.0, 8.0, 9.0, 20.0, 30.0, 40.0, 50.0, 60.0, 70.0, 80.0, 90.0, 200.0, 300.0, 400.0, 500.0, 600.0, 700.0, 800.0, 900.0, 2000.0, 3000.0, 4000.0, 5000.0, 6000.0, 7000.0, 8000.0, 9000.0, 20000.0, 30000.0, 40000.0, 50000.0, 60000.0, 70000.0, 80000.0, 90000.0, 200000.0, 300000.0, 400000.0, 500000.0, 600000.0, 700000.0, 800000.0, 900000.0]\n",
      "2018-12-20 20:53:47,036 - matplotlib.ticker - DEBUG - ticker - vmin 1e-06 vmax 7846.3623046875\n",
      "2018-12-20 20:53:47,037 - matplotlib.ticker - DEBUG - ticker - ticklocs array([1.e-07, 1.e-06, 1.e-05, 1.e-04, 1.e-03, 1.e-02, 1.e-01, 1.e+00,\n",
      "       1.e+01, 1.e+02, 1.e+03, 1.e+04, 1.e+05])\n",
      "2018-12-20 20:53:47,039 - matplotlib.ticker - DEBUG - ticker - vmin 1e-06 vmax 7846.3623046875\n",
      "2018-12-20 20:53:47,040 - matplotlib.ticker - DEBUG - ticker - ticklocs [2e-07, 3e-07, 4e-07, 5e-07, 6e-07, 7e-07, 8e-07, 9e-07, 2e-06, 3e-06, 4e-06, 4.9999999999999996e-06, 6e-06, 7e-06, 8e-06, 9e-06, 2e-05, 3.0000000000000004e-05, 4e-05, 5e-05, 6.000000000000001e-05, 7.000000000000001e-05, 8e-05, 9e-05, 0.0002, 0.00030000000000000003, 0.0004, 0.0005, 0.0006000000000000001, 0.0007, 0.0008, 0.0009000000000000001, 0.002, 0.003, 0.004, 0.005, 0.006, 0.007, 0.008, 0.009000000000000001, 0.02, 0.03, 0.04, 0.05, 0.06, 0.07, 0.08, 0.09, 0.2, 0.30000000000000004, 0.4, 0.5, 0.6000000000000001, 0.7000000000000001, 0.8, 0.9, 2.0, 3.0, 4.0, 5.0, 6.0, 7.0, 8.0, 9.0, 20.0, 30.0, 40.0, 50.0, 60.0, 70.0, 80.0, 90.0, 200.0, 300.0, 400.0, 500.0, 600.0, 700.0, 800.0, 900.0, 2000.0, 3000.0, 4000.0, 5000.0, 6000.0, 7000.0, 8000.0, 9000.0, 20000.0, 30000.0, 40000.0, 50000.0, 60000.0, 70000.0, 80000.0, 90000.0, 200000.0, 300000.0, 400000.0, 500000.0, 600000.0, 700000.0, 800000.0, 900000.0]\n",
      "2018-12-20 20:53:47,072 - matplotlib.ticker - DEBUG - ticker - vmin 0.6351622995324107 vmax 13785.452956584368\n",
      "2018-12-20 20:53:47,073 - matplotlib.ticker - DEBUG - ticker - ticklocs array([1.e-02, 1.e-01, 1.e+00, 1.e+01, 1.e+02, 1.e+03, 1.e+04, 1.e+05,\n",
      "       1.e+06])\n",
      "2018-12-20 20:53:47,075 - matplotlib.ticker - DEBUG - ticker - vmin 0.6351622995324107 vmax 13785.452956584368\n",
      "2018-12-20 20:53:47,079 - matplotlib.ticker - DEBUG - ticker - ticklocs [0.02, 0.03, 0.04, 0.05, 0.06, 0.07, 0.08, 0.09, 0.2, 0.30000000000000004, 0.4, 0.5, 0.6000000000000001, 0.7000000000000001, 0.8, 0.9, 2.0, 3.0, 4.0, 5.0, 6.0, 7.0, 8.0, 9.0, 20.0, 30.0, 40.0, 50.0, 60.0, 70.0, 80.0, 90.0, 200.0, 300.0, 400.0, 500.0, 600.0, 700.0, 800.0, 900.0, 2000.0, 3000.0, 4000.0, 5000.0, 6000.0, 7000.0, 8000.0, 9000.0, 20000.0, 30000.0, 40000.0, 50000.0, 60000.0, 70000.0, 80000.0, 90000.0, 200000.0, 300000.0, 400000.0, 500000.0, 600000.0, 700000.0, 800000.0, 900000.0, 2000000.0, 3000000.0, 4000000.0, 5000000.0, 6000000.0, 7000000.0, 8000000.0, 9000000.0]\n",
      "2018-12-20 20:53:47,087 - matplotlib.ticker - DEBUG - ticker - vmin 0.6351622995324107 vmax 13785.452956584368\n",
      "2018-12-20 20:53:47,087 - matplotlib.ticker - DEBUG - ticker - ticklocs array([1.e-02, 1.e-01, 1.e+00, 1.e+01, 1.e+02, 1.e+03, 1.e+04, 1.e+05,\n",
      "       1.e+06])\n",
      "2018-12-20 20:53:47,090 - matplotlib.ticker - DEBUG - ticker - vmin 0.6351622995324107 vmax 13785.452956584368\n",
      "2018-12-20 20:53:47,091 - matplotlib.ticker - DEBUG - ticker - ticklocs [0.02, 0.03, 0.04, 0.05, 0.06, 0.07, 0.08, 0.09, 0.2, 0.30000000000000004, 0.4, 0.5, 0.6000000000000001, 0.7000000000000001, 0.8, 0.9, 2.0, 3.0, 4.0, 5.0, 6.0, 7.0, 8.0, 9.0, 20.0, 30.0, 40.0, 50.0, 60.0, 70.0, 80.0, 90.0, 200.0, 300.0, 400.0, 500.0, 600.0, 700.0, 800.0, 900.0, 2000.0, 3000.0, 4000.0, 5000.0, 6000.0, 7000.0, 8000.0, 9000.0, 20000.0, 30000.0, 40000.0, 50000.0, 60000.0, 70000.0, 80000.0, 90000.0, 200000.0, 300000.0, 400000.0, 500000.0, 600000.0, 700000.0, 800000.0, 900000.0, 2000000.0, 3000000.0, 4000000.0, 5000000.0, 6000000.0, 7000000.0, 8000000.0, 9000000.0]\n",
      "2018-12-20 20:53:47,108 - matplotlib.ticker - DEBUG - ticker - vmin 1e-06 vmax 7846.3623046875\n",
      "2018-12-20 20:53:47,111 - matplotlib.ticker - DEBUG - ticker - ticklocs array([1.e-07, 1.e-06, 1.e-05, 1.e-04, 1.e-03, 1.e-02, 1.e-01, 1.e+00,\n",
      "       1.e+01, 1.e+02, 1.e+03, 1.e+04, 1.e+05])\n",
      "2018-12-20 20:53:47,114 - matplotlib.ticker - DEBUG - ticker - vmin 1e-06 vmax 7846.3623046875\n",
      "2018-12-20 20:53:47,115 - matplotlib.ticker - DEBUG - ticker - ticklocs [2e-07, 3e-07, 4e-07, 5e-07, 6e-07, 7e-07, 8e-07, 9e-07, 2e-06, 3e-06, 4e-06, 4.9999999999999996e-06, 6e-06, 7e-06, 8e-06, 9e-06, 2e-05, 3.0000000000000004e-05, 4e-05, 5e-05, 6.000000000000001e-05, 7.000000000000001e-05, 8e-05, 9e-05, 0.0002, 0.00030000000000000003, 0.0004, 0.0005, 0.0006000000000000001, 0.0007, 0.0008, 0.0009000000000000001, 0.002, 0.003, 0.004, 0.005, 0.006, 0.007, 0.008, 0.009000000000000001, 0.02, 0.03, 0.04, 0.05, 0.06, 0.07, 0.08, 0.09, 0.2, 0.30000000000000004, 0.4, 0.5, 0.6000000000000001, 0.7000000000000001, 0.8, 0.9, 2.0, 3.0, 4.0, 5.0, 6.0, 7.0, 8.0, 9.0, 20.0, 30.0, 40.0, 50.0, 60.0, 70.0, 80.0, 90.0, 200.0, 300.0, 400.0, 500.0, 600.0, 700.0, 800.0, 900.0, 2000.0, 3000.0, 4000.0, 5000.0, 6000.0, 7000.0, 8000.0, 9000.0, 20000.0, 30000.0, 40000.0, 50000.0, 60000.0, 70000.0, 80000.0, 90000.0, 200000.0, 300000.0, 400000.0, 500000.0, 600000.0, 700000.0, 800000.0, 900000.0]\n",
      "2018-12-20 20:53:47,122 - matplotlib.ticker - DEBUG - ticker - vmin 1e-06 vmax 7846.3623046875\n",
      "2018-12-20 20:53:47,124 - matplotlib.ticker - DEBUG - ticker - ticklocs array([1.e-07, 1.e-06, 1.e-05, 1.e-04, 1.e-03, 1.e-02, 1.e-01, 1.e+00,\n",
      "       1.e+01, 1.e+02, 1.e+03, 1.e+04, 1.e+05])\n",
      "2018-12-20 20:53:47,131 - matplotlib.ticker - DEBUG - ticker - vmin 1e-06 vmax 7846.3623046875\n",
      "2018-12-20 20:53:47,134 - matplotlib.ticker - DEBUG - ticker - ticklocs [2e-07, 3e-07, 4e-07, 5e-07, 6e-07, 7e-07, 8e-07, 9e-07, 2e-06, 3e-06, 4e-06, 4.9999999999999996e-06, 6e-06, 7e-06, 8e-06, 9e-06, 2e-05, 3.0000000000000004e-05, 4e-05, 5e-05, 6.000000000000001e-05, 7.000000000000001e-05, 8e-05, 9e-05, 0.0002, 0.00030000000000000003, 0.0004, 0.0005, 0.0006000000000000001, 0.0007, 0.0008, 0.0009000000000000001, 0.002, 0.003, 0.004, 0.005, 0.006, 0.007, 0.008, 0.009000000000000001, 0.02, 0.03, 0.04, 0.05, 0.06, 0.07, 0.08, 0.09, 0.2, 0.30000000000000004, 0.4, 0.5, 0.6000000000000001, 0.7000000000000001, 0.8, 0.9, 2.0, 3.0, 4.0, 5.0, 6.0, 7.0, 8.0, 9.0, 20.0, 30.0, 40.0, 50.0, 60.0, 70.0, 80.0, 90.0, 200.0, 300.0, 400.0, 500.0, 600.0, 700.0, 800.0, 900.0, 2000.0, 3000.0, 4000.0, 5000.0, 6000.0, 7000.0, 8000.0, 9000.0, 20000.0, 30000.0, 40000.0, 50000.0, 60000.0, 70000.0, 80000.0, 90000.0, 200000.0, 300000.0, 400000.0, 500000.0, 600000.0, 700000.0, 800000.0, 900000.0]\n",
      "2018-12-20 20:53:47,180 - matplotlib.axes._base - DEBUG - _base - update_title_pos\n",
      "2018-12-20 20:53:47,182 - matplotlib.ticker - DEBUG - ticker - vmin 0.6351622995324107 vmax 13785.452956584368\n",
      "2018-12-20 20:53:47,183 - matplotlib.ticker - DEBUG - ticker - ticklocs array([1.e-02, 1.e-01, 1.e+00, 1.e+01, 1.e+02, 1.e+03, 1.e+04, 1.e+05,\n",
      "       1.e+06])\n",
      "2018-12-20 20:53:47,186 - matplotlib.ticker - DEBUG - ticker - vmin 0.6351622995324107 vmax 13785.452956584368\n",
      "2018-12-20 20:53:47,187 - matplotlib.ticker - DEBUG - ticker - ticklocs [0.02, 0.03, 0.04, 0.05, 0.06, 0.07, 0.08, 0.09, 0.2, 0.30000000000000004, 0.4, 0.5, 0.6000000000000001, 0.7000000000000001, 0.8, 0.9, 2.0, 3.0, 4.0, 5.0, 6.0, 7.0, 8.0, 9.0, 20.0, 30.0, 40.0, 50.0, 60.0, 70.0, 80.0, 90.0, 200.0, 300.0, 400.0, 500.0, 600.0, 700.0, 800.0, 900.0, 2000.0, 3000.0, 4000.0, 5000.0, 6000.0, 7000.0, 8000.0, 9000.0, 20000.0, 30000.0, 40000.0, 50000.0, 60000.0, 70000.0, 80000.0, 90000.0, 200000.0, 300000.0, 400000.0, 500000.0, 600000.0, 700000.0, 800000.0, 900000.0, 2000000.0, 3000000.0, 4000000.0, 5000000.0, 6000000.0, 7000000.0, 8000000.0, 9000000.0]\n",
      "2018-12-20 20:53:47,320 - matplotlib.ticker - DEBUG - ticker - vmin 0.6351622995324107 vmax 13785.452956584368\n",
      "2018-12-20 20:53:47,321 - matplotlib.ticker - DEBUG - ticker - ticklocs array([1.e-02, 1.e-01, 1.e+00, 1.e+01, 1.e+02, 1.e+03, 1.e+04, 1.e+05,\n",
      "       1.e+06])\n",
      "2018-12-20 20:53:47,323 - matplotlib.ticker - DEBUG - ticker - vmin 0.6351622995324107 vmax 13785.452956584368\n",
      "2018-12-20 20:53:47,327 - matplotlib.ticker - DEBUG - ticker - ticklocs [0.02, 0.03, 0.04, 0.05, 0.06, 0.07, 0.08, 0.09, 0.2, 0.30000000000000004, 0.4, 0.5, 0.6000000000000001, 0.7000000000000001, 0.8, 0.9, 2.0, 3.0, 4.0, 5.0, 6.0, 7.0, 8.0, 9.0, 20.0, 30.0, 40.0, 50.0, 60.0, 70.0, 80.0, 90.0, 200.0, 300.0, 400.0, 500.0, 600.0, 700.0, 800.0, 900.0, 2000.0, 3000.0, 4000.0, 5000.0, 6000.0, 7000.0, 8000.0, 9000.0, 20000.0, 30000.0, 40000.0, 50000.0, 60000.0, 70000.0, 80000.0, 90000.0, 200000.0, 300000.0, 400000.0, 500000.0, 600000.0, 700000.0, 800000.0, 900000.0, 2000000.0, 3000000.0, 4000000.0, 5000000.0, 6000000.0, 7000000.0, 8000000.0, 9000000.0]\n",
      "2018-12-20 20:53:47,349 - matplotlib.ticker - DEBUG - ticker - vmin 1e-06 vmax 7846.3623046875\n",
      "2018-12-20 20:53:47,350 - matplotlib.ticker - DEBUG - ticker - ticklocs array([1.e-07, 1.e-06, 1.e-05, 1.e-04, 1.e-03, 1.e-02, 1.e-01, 1.e+00,\n",
      "       1.e+01, 1.e+02, 1.e+03, 1.e+04, 1.e+05])\n",
      "2018-12-20 20:53:47,353 - matplotlib.ticker - DEBUG - ticker - vmin 1e-06 vmax 7846.3623046875\n",
      "2018-12-20 20:53:47,354 - matplotlib.ticker - DEBUG - ticker - ticklocs [2e-07, 3e-07, 4e-07, 5e-07, 6e-07, 7e-07, 8e-07, 9e-07, 2e-06, 3e-06, 4e-06, 4.9999999999999996e-06, 6e-06, 7e-06, 8e-06, 9e-06, 2e-05, 3.0000000000000004e-05, 4e-05, 5e-05, 6.000000000000001e-05, 7.000000000000001e-05, 8e-05, 9e-05, 0.0002, 0.00030000000000000003, 0.0004, 0.0005, 0.0006000000000000001, 0.0007, 0.0008, 0.0009000000000000001, 0.002, 0.003, 0.004, 0.005, 0.006, 0.007, 0.008, 0.009000000000000001, 0.02, 0.03, 0.04, 0.05, 0.06, 0.07, 0.08, 0.09, 0.2, 0.30000000000000004, 0.4, 0.5, 0.6000000000000001, 0.7000000000000001, 0.8, 0.9, 2.0, 3.0, 4.0, 5.0, 6.0, 7.0, 8.0, 9.0, 20.0, 30.0, 40.0, 50.0, 60.0, 70.0, 80.0, 90.0, 200.0, 300.0, 400.0, 500.0, 600.0, 700.0, 800.0, 900.0, 2000.0, 3000.0, 4000.0, 5000.0, 6000.0, 7000.0, 8000.0, 9000.0, 20000.0, 30000.0, 40000.0, 50000.0, 60000.0, 70000.0, 80000.0, 90000.0, 200000.0, 300000.0, 400000.0, 500000.0, 600000.0, 700000.0, 800000.0, 900000.0]\n",
      "2018-12-20 20:53:47,574 - matplotlib.ticker - DEBUG - ticker - vmin 1e-06 vmax 7846.3623046875\n",
      "2018-12-20 20:53:47,574 - matplotlib.ticker - DEBUG - ticker - ticklocs array([1.e-07, 1.e-06, 1.e-05, 1.e-04, 1.e-03, 1.e-02, 1.e-01, 1.e+00,\n",
      "       1.e+01, 1.e+02, 1.e+03, 1.e+04, 1.e+05])\n",
      "2018-12-20 20:53:47,578 - matplotlib.ticker - DEBUG - ticker - vmin 1e-06 vmax 7846.3623046875\n",
      "2018-12-20 20:53:47,583 - matplotlib.ticker - DEBUG - ticker - ticklocs [2e-07, 3e-07, 4e-07, 5e-07, 6e-07, 7e-07, 8e-07, 9e-07, 2e-06, 3e-06, 4e-06, 4.9999999999999996e-06, 6e-06, 7e-06, 8e-06, 9e-06, 2e-05, 3.0000000000000004e-05, 4e-05, 5e-05, 6.000000000000001e-05, 7.000000000000001e-05, 8e-05, 9e-05, 0.0002, 0.00030000000000000003, 0.0004, 0.0005, 0.0006000000000000001, 0.0007, 0.0008, 0.0009000000000000001, 0.002, 0.003, 0.004, 0.005, 0.006, 0.007, 0.008, 0.009000000000000001, 0.02, 0.03, 0.04, 0.05, 0.06, 0.07, 0.08, 0.09, 0.2, 0.30000000000000004, 0.4, 0.5, 0.6000000000000001, 0.7000000000000001, 0.8, 0.9, 2.0, 3.0, 4.0, 5.0, 6.0, 7.0, 8.0, 9.0, 20.0, 30.0, 40.0, 50.0, 60.0, 70.0, 80.0, 90.0, 200.0, 300.0, 400.0, 500.0, 600.0, 700.0, 800.0, 900.0, 2000.0, 3000.0, 4000.0, 5000.0, 6000.0, 7000.0, 8000.0, 9000.0, 20000.0, 30000.0, 40000.0, 50000.0, 60000.0, 70000.0, 80000.0, 90000.0, 200000.0, 300000.0, 400000.0, 500000.0, 600000.0, 700000.0, 800000.0, 900000.0]\n"
     ]
    },
    {
     "data": {
      "image/png": "[encoded data removed]",
      "text/plain": [
       "<Figure size 432x288 with 1 Axes>"
      ]
     },
     "metadata": {
      "needs_background": "light"
     },
     "output_type": "display_data"
    }
   ],
   "source": [
    "# Colors for plotting\n",
    "color_map = plt.get_cmap('cubehelix')\n",
    "colors = color_map(np.linspace(0.1, 1, 10))\n",
    "\n",
    "# Initilize figure\n",
    "error_k_fig = plt.figure()\n",
    "\n",
    "i = 0\n",
    "for error in errors_H:  \n",
    "    n_iter = np.arange(np.shape(error)[0])\n",
    "    plt.loglog(n_iter, error, color=colors[i], linewidth=1, linestyle=\"-\", marker=(i+2, 0, 0), markevery=100, label = '$K= {0} $'.format(models[i].nb_layers))\n",
    "    i += 1\n",
    "\n",
    "# Plot error evolution for Jacobi \n",
    "n_iter = np.arange(np.shape(errs_jacobi)[0])\n",
    "plt.loglog(n_iter, errs_jacobi, color=colors[i], linewidth=1, linestyle=\"-\", marker=(i+2, 0, 0), markevery=1000, label = 'Jacobi')\n",
    "\n",
    "# Additional settings\n",
    "plt.legend(bbox_to_anchor=(1.05, 0.31), loc=3, borderaxespad=0.)\n",
    "plt.xlabel('n iterations', fontsize=14)\n",
    "plt.ylabel('Error [-]', fontsize=14)\n",
    "#plt.xlim([0, max_epochs])\n",
    "plt.ylim([tol, errors_H[0][0]])\n",
    "plt.title('Error evolution for different $K$\\n Grid size ${0}x{0}$'.format(N))\n",
    "plt.grid(True, which = \"both\", linewidth = 0.5,  linestyle = \"--\")\n",
    "\n",
    "#error_k_fig.savefig('../report/figs/error_k.eps', bbox_inches='tight')\n",
    "plt.draw()\n",
    "plt.show()"
   ]
  },
  {
   "cell_type": "markdown",
   "metadata": {
    "ExecuteTime": {
     "end_time": "2018-12-20T00:05:07.263696Z",
     "start_time": "2018-12-20T00:05:07.261703Z"
    }
   },
   "source": [
    "# Model testing"
   ]
  },
  {
   "cell_type": "code",
   "execution_count": 5,
   "metadata": {
    "ExecuteTime": {
     "end_time": "2018-12-30T11:11:16.791237Z",
     "start_time": "2018-12-30T11:11:16.760118Z"
    }
   },
   "outputs": [],
   "source": [
    "tol = 1e-6\n",
    "if base_parameters is None:\n",
    "    raise ValueError(\"Execute cell with base parameters\")\n",
    "\n",
    "_base_data_path_ = '../report/data/'\n",
    "_base_fig_path_ = '../report/figs/'\n",
    "\n",
    "if not os.path.exists(_base_data_path_):\n",
    "    os.makedirs(_base_data_path_)\n",
    "    \n",
    "\n",
    "def obtain_test_results(mdl, grid_size, nb_tests=50, domain_shape='square', nb_layers=4, force=False, plot=False):\n",
    "    data_path = f'{_base_data_path_}nb_layers_{nb_layers}_grid_{grid_size}_domain_{domain_shape}.pkl'\n",
    "    \n",
    "    if force or not os.path.exists(data_path):\n",
    "        test_results = MT.test_results_pd(mdl, nb_tests, grid_size, tol=tol, convergence_tol=1e-12)\n",
    "        test_results['grid_size'] = grid_size\n",
    "        test_results['shape'] = domain_shape\n",
    "        test_results.to_pickle(data_path)\n",
    "    else:\n",
    "        test_results = pd.read_pickle(data_path)\n",
    "\n",
    "\n",
    "    if plot:\n",
    "        test_results['iters_ratio'] = test_results['nb_iters_convjac'] / test_results['nb_iters_jac'] \n",
    "        ax = sns.boxplot(data=test_results[['flops_ratio', 'cpu_time_ratio', 'iters_ratio']]\\\n",
    "                         .rename(columns={'flops_ratio': 'Ratio of FLOPS', 'cpu_time_ratio': 'Ratio of CPU time', 'iters_ratio': 'Ratio of #iterations'}), orient=\"h\", palette=\"Set2\")\n",
    "        ax.set_title(f'Test results for grid size: {grid_size}')\n",
    "        plt.savefig(f'{_base_fig_path_}grid_{grid_size}_domain_{domain_shape}.eps')\n",
    "        display(ax)\n",
    "    return test_results\n",
    "\n",
    "\n",
    "def agg_for_layer(base_parameters, nb_layers, problem_instances, grid_sizes, nb_tests=20):\n",
    "    mdl = M.JacobyWithConv(**{**base_parameters, **{'max_epochs': 1000, 'optimizer': 'Adadelta', 'nb_layers': nb_layers}})\\\n",
    "           .fit(problem_instances)\n",
    "    \n",
    "    test_results = [obtain_test_results(mdl, grid_size=grid_size, domain_shape=shape, nb_tests=nb_tests, nb_layers=nb_layers, plot=True, force=True) \n",
    "         for grid_size, shape in product(grid_sizes, ['l_shape', 'square'])]\n",
    "\n",
    "    d = {'flops_ratio': 'FLOPS ratio', 'cpu_time_ratio': 'CPU time ratio', 'nb_iters_jac': 'nb iters existent solver', 'nb_iters_convjac': 'nb iters trained solver'}\n",
    "    ts_concat = pd.concat(test_results).rename(columns=d)\n",
    "    ta = ts_concat.groupby(['grid_size', 'shape'])[list(d.values())].mean().reset_index().rename(columns={'grid': 'grid size'})\n",
    "    ta['nb_layers'] = nb_layers\n",
    "    ts_concat['nb_layers'] = nb_layers\n",
    "    return ta, ts_concat"
   ]
  },
  {
   "cell_type": "code",
   "execution_count": 6,
   "metadata": {
    "ExecuteTime": {
     "end_time": "2018-12-30T13:05:13.603552Z",
     "start_time": "2018-12-30T11:11:22.379302Z"
    }
   },
   "outputs": [
    {
     "name": "stderr",
     "output_type": "stream",
     "text": [
      "2018-12-30 12:11:22,390 - root - INFO - model - Using optimizer Adadelta\n",
      "2018-12-30 12:11:22,635 - root - INFO - model - Training with max_epochs: 1000, tol: 1e-06. Initial loss is 16156.76171875\n",
      "2018-12-30 12:11:22,900 - root - INFO - model - iter 0 with total loss 4020.325927734375\n",
      "2018-12-30 12:11:53,918 - root - INFO - model - iter 100 with total loss 330.5577392578125\n",
      "2018-12-30 12:12:27,959 - root - INFO - model - iter 200 with total loss 330.51593017578125\n",
      "2018-12-30 12:12:59,013 - root - INFO - model - iter 300 with total loss 330.52191162109375\n",
      "2018-12-30 12:13:29,859 - root - INFO - model - iter 400 with total loss 330.525146484375\n",
      "2018-12-30 12:13:59,377 - root - INFO - model - iter 500 with total loss 330.5161437988281\n",
      "2018-12-30 12:14:27,941 - root - INFO - model - iter 600 with total loss 330.5220642089844\n",
      "2018-12-30 12:14:57,593 - root - INFO - model - iter 700 with total loss 330.5196228027344\n",
      "2018-12-30 12:15:29,529 - root - INFO - model - iter 800 with total loss 330.5245361328125\n",
      "2018-12-30 12:16:02,257 - root - INFO - model - iter 900 with total loss 330.51641845703125\n",
      "2018-12-30 12:16:34,944 - root - INFO - model - Convergence reached in 999 epochs with total loss 330.52545166015625\n"
     ]
    },
    {
     "data": {
      "text/plain": [
       "<matplotlib.axes._subplots.AxesSubplot at 0x7fc7867bfc18>"
      ]
     },
     "metadata": {},
     "output_type": "display_data"
    },
    {
     "data": {
      "text/plain": [
       "<matplotlib.axes._subplots.AxesSubplot at 0x7fc7867bfc18>"
      ]
     },
     "metadata": {},
     "output_type": "display_data"
    },
    {
     "data": {
      "text/plain": [
       "<matplotlib.axes._subplots.AxesSubplot at 0x7fc7867bfc18>"
      ]
     },
     "metadata": {},
     "output_type": "display_data"
    },
    {
     "name": "stderr",
     "output_type": "stream",
     "text": [
      "2018-12-30 12:28:24,678 - root - INFO - model_testing - Jacobi method  converged but did not reach required tol\n"
     ]
    },
    {
     "data": {
      "text/plain": [
       "<matplotlib.axes._subplots.AxesSubplot at 0x7fc7867bfc18>"
      ]
     },
     "metadata": {},
     "output_type": "display_data"
    },
    {
     "name": "stderr",
     "output_type": "stream",
     "text": [
      "2018-12-30 12:30:20,434 - root - INFO - model - Using optimizer Adadelta\n",
      "2018-12-30 12:30:20,561 - root - INFO - model - Training with max_epochs: 1000, tol: 1e-06. Initial loss is 1111510.625\n",
      "2018-12-30 12:30:20,919 - root - INFO - model - iter 0 with total loss 57557.74609375\n",
      "2018-12-30 12:30:58,496 - root - INFO - model - iter 100 with total loss 160.8571319580078\n",
      "2018-12-30 12:31:34,744 - root - INFO - model - iter 200 with total loss 146.26608276367188\n",
      "2018-12-30 12:32:09,306 - root - INFO - model - iter 300 with total loss 145.5672607421875\n",
      "2018-12-30 12:32:43,366 - root - INFO - model - iter 400 with total loss 136.31167602539062\n",
      "2018-12-30 12:33:18,496 - root - INFO - model - iter 500 with total loss 134.05670166015625\n",
      "2018-12-30 12:33:54,237 - root - INFO - model - iter 600 with total loss 134.09120178222656\n",
      "2018-12-30 12:34:28,789 - root - INFO - model - iter 700 with total loss 134.06448364257812\n",
      "2018-12-30 12:35:05,854 - root - INFO - model - iter 800 with total loss 134.1005859375\n",
      "2018-12-30 12:35:52,276 - root - INFO - model - iter 900 with total loss 134.06732177734375\n",
      "2018-12-30 12:36:36,319 - root - INFO - model - Convergence reached in 999 epochs with total loss 134.12060546875\n"
     ]
    },
    {
     "data": {
      "text/plain": [
       "<matplotlib.axes._subplots.AxesSubplot at 0x7fc7867bfc18>"
      ]
     },
     "metadata": {},
     "output_type": "display_data"
    },
    {
     "data": {
      "text/plain": [
       "<matplotlib.axes._subplots.AxesSubplot at 0x7fc7867bfc18>"
      ]
     },
     "metadata": {},
     "output_type": "display_data"
    },
    {
     "data": {
      "text/plain": [
       "<matplotlib.axes._subplots.AxesSubplot at 0x7fc7867bfc18>"
      ]
     },
     "metadata": {},
     "output_type": "display_data"
    },
    {
     "name": "stderr",
     "output_type": "stream",
     "text": [
      "2018-12-30 12:47:49,175 - root - INFO - model_testing - Jacobi method  converged but did not reach required tol\n"
     ]
    },
    {
     "data": {
      "text/plain": [
       "<matplotlib.axes._subplots.AxesSubplot at 0x7fc7867bfc18>"
      ]
     },
     "metadata": {},
     "output_type": "display_data"
    },
    {
     "name": "stderr",
     "output_type": "stream",
     "text": [
      "2018-12-30 12:49:51,133 - root - INFO - model - Using optimizer Adadelta\n",
      "2018-12-30 12:49:51,287 - root - INFO - model - Training with max_epochs: 1000, tol: 1e-06. Initial loss is 2754.449462890625\n",
      "2018-12-30 12:49:51,650 - root - INFO - model - iter 0 with total loss 1539.9169921875\n",
      "2018-12-30 12:50:38,511 - root - INFO - model - iter 100 with total loss 81.43997192382812\n",
      "2018-12-30 12:51:20,304 - root - INFO - model - iter 200 with total loss 74.87944030761719\n",
      "2018-12-30 12:52:24,303 - root - INFO - model - iter 300 with total loss 73.74588775634766\n",
      "2018-12-30 12:53:35,481 - root - INFO - model - iter 400 with total loss 73.66825103759766\n",
      "2018-12-30 12:54:33,431 - root - INFO - model - iter 500 with total loss 73.65039825439453\n",
      "2018-12-30 12:55:32,501 - root - INFO - model - iter 600 with total loss 73.71232604980469\n",
      "2018-12-30 12:56:20,673 - root - INFO - model - iter 700 with total loss 73.72443389892578\n",
      "2018-12-30 12:57:01,643 - root - INFO - model - iter 800 with total loss 73.6710205078125\n",
      "2018-12-30 12:57:42,511 - root - INFO - model - iter 900 with total loss 73.68595123291016\n",
      "2018-12-30 12:58:22,846 - root - INFO - model - Convergence reached in 999 epochs with total loss 73.80838012695312\n"
     ]
    },
    {
     "data": {
      "text/plain": [
       "<matplotlib.axes._subplots.AxesSubplot at 0x7fc7867bfc18>"
      ]
     },
     "metadata": {},
     "output_type": "display_data"
    },
    {
     "data": {
      "text/plain": [
       "<matplotlib.axes._subplots.AxesSubplot at 0x7fc7867bfc18>"
      ]
     },
     "metadata": {},
     "output_type": "display_data"
    },
    {
     "data": {
      "text/plain": [
       "<matplotlib.axes._subplots.AxesSubplot at 0x7fc7867bfc18>"
      ]
     },
     "metadata": {},
     "output_type": "display_data"
    },
    {
     "name": "stderr",
     "output_type": "stream",
     "text": [
      "2018-12-30 13:09:11,380 - root - INFO - model_testing - Jacobi method  converged but did not reach required tol\n"
     ]
    },
    {
     "data": {
      "text/plain": [
       "<matplotlib.axes._subplots.AxesSubplot at 0x7fc7867bfc18>"
      ]
     },
     "metadata": {},
     "output_type": "display_data"
    },
    {
     "name": "stderr",
     "output_type": "stream",
     "text": [
      "2018-12-30 13:11:09,740 - root - INFO - model - Using optimizer Adadelta\n",
      "2018-12-30 13:11:09,967 - root - INFO - model - Training with max_epochs: 1000, tol: 1e-06. Initial loss is 1346.889404296875\n",
      "2018-12-30 13:11:10,591 - root - INFO - model - iter 0 with total loss 1251.7584228515625\n",
      "2018-12-30 13:12:20,624 - root - INFO - model - iter 100 with total loss 60.05453109741211\n",
      "2018-12-30 13:13:27,075 - root - INFO - model - iter 200 with total loss 57.559566497802734\n",
      "2018-12-30 13:14:33,172 - root - INFO - model - iter 300 with total loss 56.826072692871094\n",
      "2018-12-30 13:15:39,478 - root - INFO - model - iter 400 with total loss 56.52799606323242\n",
      "2018-12-30 13:16:45,750 - root - INFO - model - iter 500 with total loss 56.39349365234375\n",
      "2018-12-30 13:17:52,612 - root - INFO - model - iter 600 with total loss 56.54300308227539\n",
      "2018-12-30 13:18:59,540 - root - INFO - model - iter 700 with total loss 56.00718307495117\n",
      "2018-12-30 13:20:11,298 - root - INFO - model - iter 800 with total loss 54.211708068847656\n",
      "2018-12-30 13:21:22,924 - root - INFO - model - iter 900 with total loss 54.24567794799805\n",
      "2018-12-30 13:22:33,547 - root - INFO - model - Convergence reached in 999 epochs with total loss 54.38222885131836\n"
     ]
    },
    {
     "data": {
      "text/plain": [
       "<matplotlib.axes._subplots.AxesSubplot at 0x7fc7867bfc18>"
      ]
     },
     "metadata": {},
     "output_type": "display_data"
    },
    {
     "data": {
      "text/plain": [
       "<matplotlib.axes._subplots.AxesSubplot at 0x7fc7867bfc18>"
      ]
     },
     "metadata": {},
     "output_type": "display_data"
    },
    {
     "data": {
      "text/plain": [
       "<matplotlib.axes._subplots.AxesSubplot at 0x7fc7867bfc18>"
      ]
     },
     "metadata": {},
     "output_type": "display_data"
    },
    {
     "name": "stderr",
     "output_type": "stream",
     "text": [
      "2018-12-30 13:36:41,295 - root - INFO - model_testing - Jacobi method  converged but did not reach required tol\n"
     ]
    },
    {
     "data": {
      "text/plain": [
       "<matplotlib.axes._subplots.AxesSubplot at 0x7fc7867bfc18>"
      ]
     },
     "metadata": {},
     "output_type": "display_data"
    },
    {
     "name": "stderr",
     "output_type": "stream",
     "text": [
      "2018-12-30 13:39:36,977 - root - INFO - model - Using optimizer Adadelta\n",
      "2018-12-30 13:39:37,393 - root - INFO - model - Training with max_epochs: 1000, tol: 1e-06. Initial loss is 1254.5662841796875\n",
      "2018-12-30 13:39:38,186 - root - INFO - model - iter 0 with total loss 1213.55517578125\n",
      "2018-12-30 13:41:15,092 - root - INFO - model - iter 100 with total loss 54.51945877075195\n",
      "2018-12-30 13:42:54,044 - root - INFO - model - iter 200 with total loss 51.37683868408203\n",
      "2018-12-30 13:44:33,837 - root - INFO - model - iter 300 with total loss 49.83615493774414\n",
      "2018-12-30 13:46:08,817 - root - INFO - model - iter 400 with total loss 48.633155822753906\n",
      "2018-12-30 13:47:35,524 - root - INFO - model - iter 500 with total loss 47.73637390136719\n",
      "2018-12-30 13:48:45,463 - root - INFO - model - iter 600 with total loss 48.50999450683594\n",
      "2018-12-30 13:49:39,876 - root - INFO - model - iter 700 with total loss 47.72964096069336\n",
      "2018-12-30 13:50:33,307 - root - INFO - model - iter 800 with total loss 45.32712936401367\n",
      "2018-12-30 13:51:26,258 - root - INFO - model - iter 900 with total loss 45.41176986694336\n",
      "2018-12-30 13:52:17,685 - root - INFO - model - Convergence reached in 999 epochs with total loss 45.51611328125\n"
     ]
    },
    {
     "data": {
      "text/plain": [
       "<matplotlib.axes._subplots.AxesSubplot at 0x7fc7867bfc18>"
      ]
     },
     "metadata": {},
     "output_type": "display_data"
    },
    {
     "data": {
      "text/plain": [
       "<matplotlib.axes._subplots.AxesSubplot at 0x7fc7867bfc18>"
      ]
     },
     "metadata": {},
     "output_type": "display_data"
    },
    {
     "data": {
      "text/plain": [
       "<matplotlib.axes._subplots.AxesSubplot at 0x7fc7867bfc18>"
      ]
     },
     "metadata": {},
     "output_type": "display_data"
    },
    {
     "name": "stderr",
     "output_type": "stream",
     "text": [
      "2018-12-30 14:03:18,404 - root - INFO - model_testing - Jacobi method  converged but did not reach required tol\n"
     ]
    },
    {
     "data": {
      "text/plain": [
       "<matplotlib.axes._subplots.AxesSubplot at 0x7fc7867bfc18>"
      ]
     },
     "metadata": {},
     "output_type": "display_data"
    },
    {
     "data": {
      "image/png": "[encoded data removed]",
      "text/plain": [
       "<Figure size 432x288 with 1 Axes>"
      ]
     },
     "metadata": {
      "needs_background": "light"
     },
     "output_type": "display_data"
    }
   ],
   "source": [
    "cols = [\n",
    " 'nb_layers',\n",
    " 'grid size',\n",
    " 'shape',\n",
    " 'FLOPS ratio',\n",
    " 'CPU time ratio',\n",
    " 'nb iters existent solver',\n",
    " 'nb iters trained solver'\n",
    "]\n",
    "\n",
    "#nb_problem_instances = 100\n",
    "#problem_instances_n16 = [DirichletProblem(k=k, N=16) for k in np.random.randint(1, 20, nb_problem_instances)]\n",
    "#problem_instances_n16 = [DirichletProblem(k=k, N=16) for k in np.random.randint(1, 20, nb_problem_instances)]\n",
    "\n",
    "ts = [agg_for_layer(base_parameters, grid_sizes=[32, 64], nb_layers=l, problem_instances=problem_instances) for l in range(1, 6)]\n",
    "#final_results = pd.concat([agg_for_layer(l, problem_instances=problem_instances)[0] for l in range(1, 5)])[cols]\n",
    "\n",
    "#final_results.to_pickle('./data/final_test_results.pkl')"
   ]
  },
  {
   "cell_type": "code",
   "execution_count": 7,
   "metadata": {
    "ExecuteTime": {
     "end_time": "2018-12-30T13:05:13.795244Z",
     "start_time": "2018-12-30T13:05:13.792302Z"
    }
   },
   "outputs": [
    {
     "data": {
      "text/html": [
       "<div>\n",
       "<style scoped>\n",
       "    .dataframe tbody tr th:only-of-type {\n",
       "        vertical-align: middle;\n",
       "    }\n",
       "\n",
       "    .dataframe tbody tr th {\n",
       "        vertical-align: top;\n",
       "    }\n",
       "\n",
       "    .dataframe thead th {\n",
       "        text-align: right;\n",
       "    }\n",
       "</style>\n",
       "<table border=\"1\" class=\"dataframe\">\n",
       "  <thead>\n",
       "    <tr style=\"text-align: right;\">\n",
       "      <th></th>\n",
       "      <th>grid_size</th>\n",
       "      <th>shape</th>\n",
       "      <th>FLOPS ratio</th>\n",
       "      <th>CPU time ratio</th>\n",
       "      <th>nb iters existent solver</th>\n",
       "      <th>nb iters trained solver</th>\n",
       "      <th>nb_layers</th>\n",
       "    </tr>\n",
       "  </thead>\n",
       "  <tbody>\n",
       "    <tr>\n",
       "      <th>0</th>\n",
       "      <td>32</td>\n",
       "      <td>l_shape</td>\n",
       "      <td>0.688194</td>\n",
       "      <td>0.307704</td>\n",
       "      <td>1963.15</td>\n",
       "      <td>415.70</td>\n",
       "      <td>1</td>\n",
       "    </tr>\n",
       "    <tr>\n",
       "      <th>1</th>\n",
       "      <td>32</td>\n",
       "      <td>square</td>\n",
       "      <td>0.688230</td>\n",
       "      <td>0.331942</td>\n",
       "      <td>1938.25</td>\n",
       "      <td>410.45</td>\n",
       "      <td>1</td>\n",
       "    </tr>\n",
       "    <tr>\n",
       "      <th>2</th>\n",
       "      <td>64</td>\n",
       "      <td>l_shape</td>\n",
       "      <td>0.688738</td>\n",
       "      <td>0.351334</td>\n",
       "      <td>8721.20</td>\n",
       "      <td>1848.20</td>\n",
       "      <td>1</td>\n",
       "    </tr>\n",
       "    <tr>\n",
       "      <th>3</th>\n",
       "      <td>64</td>\n",
       "      <td>square</td>\n",
       "      <td>0.685782</td>\n",
       "      <td>0.327067</td>\n",
       "      <td>8756.55</td>\n",
       "      <td>1847.45</td>\n",
       "      <td>1</td>\n",
       "    </tr>\n",
       "    <tr>\n",
       "      <th>0</th>\n",
       "      <td>32</td>\n",
       "      <td>l_shape</td>\n",
       "      <td>0.518435</td>\n",
       "      <td>0.161434</td>\n",
       "      <td>1963.15</td>\n",
       "      <td>185.05</td>\n",
       "      <td>2</td>\n",
       "    </tr>\n",
       "    <tr>\n",
       "      <th>1</th>\n",
       "      <td>32</td>\n",
       "      <td>square</td>\n",
       "      <td>0.518144</td>\n",
       "      <td>0.170808</td>\n",
       "      <td>1938.25</td>\n",
       "      <td>182.60</td>\n",
       "      <td>2</td>\n",
       "    </tr>\n",
       "    <tr>\n",
       "      <th>2</th>\n",
       "      <td>64</td>\n",
       "      <td>l_shape</td>\n",
       "      <td>0.521290</td>\n",
       "      <td>0.164615</td>\n",
       "      <td>8721.20</td>\n",
       "      <td>826.60</td>\n",
       "      <td>2</td>\n",
       "    </tr>\n",
       "    <tr>\n",
       "      <th>3</th>\n",
       "      <td>64</td>\n",
       "      <td>square</td>\n",
       "      <td>0.519136</td>\n",
       "      <td>0.182762</td>\n",
       "      <td>8756.55</td>\n",
       "      <td>826.40</td>\n",
       "      <td>2</td>\n",
       "    </tr>\n",
       "    <tr>\n",
       "      <th>0</th>\n",
       "      <td>32</td>\n",
       "      <td>l_shape</td>\n",
       "      <td>0.421221</td>\n",
       "      <td>0.106157</td>\n",
       "      <td>1963.15</td>\n",
       "      <td>106.70</td>\n",
       "      <td>3</td>\n",
       "    </tr>\n",
       "    <tr>\n",
       "      <th>1</th>\n",
       "      <td>32</td>\n",
       "      <td>square</td>\n",
       "      <td>0.421041</td>\n",
       "      <td>0.100973</td>\n",
       "      <td>1938.25</td>\n",
       "      <td>105.30</td>\n",
       "      <td>3</td>\n",
       "    </tr>\n",
       "    <tr>\n",
       "      <th>2</th>\n",
       "      <td>64</td>\n",
       "      <td>l_shape</td>\n",
       "      <td>0.426367</td>\n",
       "      <td>0.115397</td>\n",
       "      <td>8721.20</td>\n",
       "      <td>479.80</td>\n",
       "      <td>3</td>\n",
       "    </tr>\n",
       "    <tr>\n",
       "      <th>3</th>\n",
       "      <td>64</td>\n",
       "      <td>square</td>\n",
       "      <td>0.424574</td>\n",
       "      <td>0.115839</td>\n",
       "      <td>8756.55</td>\n",
       "      <td>479.65</td>\n",
       "      <td>3</td>\n",
       "    </tr>\n",
       "    <tr>\n",
       "      <th>0</th>\n",
       "      <td>32</td>\n",
       "      <td>l_shape</td>\n",
       "      <td>0.401142</td>\n",
       "      <td>0.108883</td>\n",
       "      <td>1963.15</td>\n",
       "      <td>78.75</td>\n",
       "      <td>4</td>\n",
       "    </tr>\n",
       "    <tr>\n",
       "      <th>1</th>\n",
       "      <td>32</td>\n",
       "      <td>square</td>\n",
       "      <td>0.401129</td>\n",
       "      <td>0.094961</td>\n",
       "      <td>1938.25</td>\n",
       "      <td>77.75</td>\n",
       "      <td>4</td>\n",
       "    </tr>\n",
       "    <tr>\n",
       "      <th>2</th>\n",
       "      <td>64</td>\n",
       "      <td>l_shape</td>\n",
       "      <td>0.408428</td>\n",
       "      <td>0.097089</td>\n",
       "      <td>8721.20</td>\n",
       "      <td>356.20</td>\n",
       "      <td>4</td>\n",
       "    </tr>\n",
       "    <tr>\n",
       "      <th>3</th>\n",
       "      <td>64</td>\n",
       "      <td>square</td>\n",
       "      <td>0.406841</td>\n",
       "      <td>0.097863</td>\n",
       "      <td>8756.55</td>\n",
       "      <td>356.20</td>\n",
       "      <td>4</td>\n",
       "    </tr>\n",
       "    <tr>\n",
       "      <th>0</th>\n",
       "      <td>32</td>\n",
       "      <td>l_shape</td>\n",
       "      <td>0.402174</td>\n",
       "      <td>0.078399</td>\n",
       "      <td>1963.15</td>\n",
       "      <td>64.45</td>\n",
       "      <td>5</td>\n",
       "    </tr>\n",
       "    <tr>\n",
       "      <th>1</th>\n",
       "      <td>32</td>\n",
       "      <td>square</td>\n",
       "      <td>0.402281</td>\n",
       "      <td>0.082698</td>\n",
       "      <td>1938.25</td>\n",
       "      <td>63.65</td>\n",
       "      <td>5</td>\n",
       "    </tr>\n",
       "    <tr>\n",
       "      <th>2</th>\n",
       "      <td>64</td>\n",
       "      <td>l_shape</td>\n",
       "      <td>0.411552</td>\n",
       "      <td>0.088051</td>\n",
       "      <td>8721.20</td>\n",
       "      <td>293.00</td>\n",
       "      <td>5</td>\n",
       "    </tr>\n",
       "    <tr>\n",
       "      <th>3</th>\n",
       "      <td>64</td>\n",
       "      <td>square</td>\n",
       "      <td>0.409813</td>\n",
       "      <td>0.090584</td>\n",
       "      <td>8756.55</td>\n",
       "      <td>292.90</td>\n",
       "      <td>5</td>\n",
       "    </tr>\n",
       "  </tbody>\n",
       "</table>\n",
       "</div>"
      ],
      "text/plain": [
       "   grid_size    shape  FLOPS ratio  CPU time ratio  nb iters existent solver  \\\n",
       "0         32  l_shape     0.688194        0.307704                   1963.15   \n",
       "1         32   square     0.688230        0.331942                   1938.25   \n",
       "2         64  l_shape     0.688738        0.351334                   8721.20   \n",
       "3         64   square     0.685782        0.327067                   8756.55   \n",
       "0         32  l_shape     0.518435        0.161434                   1963.15   \n",
       "1         32   square     0.518144        0.170808                   1938.25   \n",
       "2         64  l_shape     0.521290        0.164615                   8721.20   \n",
       "3         64   square     0.519136        0.182762                   8756.55   \n",
       "0         32  l_shape     0.421221        0.106157                   1963.15   \n",
       "1         32   square     0.421041        0.100973                   1938.25   \n",
       "2         64  l_shape     0.426367        0.115397                   8721.20   \n",
       "3         64   square     0.424574        0.115839                   8756.55   \n",
       "0         32  l_shape     0.401142        0.108883                   1963.15   \n",
       "1         32   square     0.401129        0.094961                   1938.25   \n",
       "2         64  l_shape     0.408428        0.097089                   8721.20   \n",
       "3         64   square     0.406841        0.097863                   8756.55   \n",
       "0         32  l_shape     0.402174        0.078399                   1963.15   \n",
       "1         32   square     0.402281        0.082698                   1938.25   \n",
       "2         64  l_shape     0.411552        0.088051                   8721.20   \n",
       "3         64   square     0.409813        0.090584                   8756.55   \n",
       "\n",
       "   nb iters trained solver  nb_layers  \n",
       "0                   415.70          1  \n",
       "1                   410.45          1  \n",
       "2                  1848.20          1  \n",
       "3                  1847.45          1  \n",
       "0                   185.05          2  \n",
       "1                   182.60          2  \n",
       "2                   826.60          2  \n",
       "3                   826.40          2  \n",
       "0                   106.70          3  \n",
       "1                   105.30          3  \n",
       "2                   479.80          3  \n",
       "3                   479.65          3  \n",
       "0                    78.75          4  \n",
       "1                    77.75          4  \n",
       "2                   356.20          4  \n",
       "3                   356.20          4  \n",
       "0                    64.45          5  \n",
       "1                    63.65          5  \n",
       "2                   293.00          5  \n",
       "3                   292.90          5  "
      ]
     },
     "execution_count": 7,
     "metadata": {},
     "output_type": "execute_result"
    }
   ],
   "source": [
    "agg, raw = zip(*ts)\n",
    "\n",
    "\n",
    "raw = pd.concat(raw)\n",
    "agg = pd.concat(agg)\n",
    "agg"
   ]
  },
  {
   "cell_type": "markdown",
   "metadata": {
    "ExecuteTime": {
     "end_time": "2019-01-03T15:33:29.114665Z",
     "start_time": "2019-01-03T15:33:29.106410Z"
    },
    "heading_collapsed": true
   },
   "source": [
    "## Tables plots for report"
   ]
  },
  {
   "cell_type": "code",
   "execution_count": 106,
   "metadata": {
    "ExecuteTime": {
     "end_time": "2019-01-03T13:32:54.367995Z",
     "start_time": "2019-01-03T13:32:54.299821Z"
    },
    "hidden": true
   },
   "outputs": [
    {
     "name": "stdout",
     "output_type": "stream",
     "text": [
      "\\begin{tabular}{llllll}\n",
      "\\toprule\n",
      "  &    &        &        FLOPS ratio &     CPU time ratio &     nb iters ratio \\\\\n",
      "nb\\_layers & grid\\_size & shape &                    &                    &                    \\\\\n",
      "\\midrule\n",
      "\\multirow{4}{*}{1} & \\multirow{2}{*}{32} & l\\_shape &  \\textbackslash \\$0.688\\textbackslash pm0.001\\textbackslash \\$ &  \\textbackslash \\$0.308\\textbackslash pm0.064\\textbackslash \\$ &  \\textbackslash \\$0.212\\textbackslash pm0.000\\textbackslash \\$ \\\\\n",
      "  &    & square &  \\textbackslash \\$0.688\\textbackslash pm0.000\\textbackslash \\$ &  \\textbackslash \\$0.332\\textbackslash pm0.097\\textbackslash \\$ &  \\textbackslash \\$0.212\\textbackslash pm0.000\\textbackslash \\$ \\\\\n",
      "\\cline{2-6}\n",
      "  & \\multirow{2}{*}{64} & l\\_shape &  \\textbackslash \\$0.689\\textbackslash pm0.001\\textbackslash \\$ &  \\textbackslash \\$0.351\\textbackslash pm0.053\\textbackslash \\$ &  \\textbackslash \\$0.212\\textbackslash pm0.000\\textbackslash \\$ \\\\\n",
      "  &    & square &  \\textbackslash \\$0.686\\textbackslash pm0.011\\textbackslash \\$ &  \\textbackslash \\$0.327\\textbackslash pm0.025\\textbackslash \\$ &  \\textbackslash \\$0.211\\textbackslash pm0.003\\textbackslash \\$ \\\\\n",
      "\\cline{1-6}\n",
      "\\cline{2-6}\n",
      "\\multirow{4}{*}{2} & \\multirow{2}{*}{32} & l\\_shape &  \\textbackslash \\$0.518\\textbackslash pm0.001\\textbackslash \\$ &  \\textbackslash \\$0.161\\textbackslash pm0.032\\textbackslash \\$ &  \\textbackslash \\$0.094\\textbackslash pm0.000\\textbackslash \\$ \\\\\n",
      "  &    & square &  \\textbackslash \\$0.518\\textbackslash pm0.001\\textbackslash \\$ &  \\textbackslash \\$0.171\\textbackslash pm0.051\\textbackslash \\$ &  \\textbackslash \\$0.094\\textbackslash pm0.000\\textbackslash \\$ \\\\\n",
      "\\cline{2-6}\n",
      "  & \\multirow{2}{*}{64} & l\\_shape &  \\textbackslash \\$0.521\\textbackslash pm0.001\\textbackslash \\$ &  \\textbackslash \\$0.165\\textbackslash pm0.026\\textbackslash \\$ &  \\textbackslash \\$0.095\\textbackslash pm0.000\\textbackslash \\$ \\\\\n",
      "  &    & square &  \\textbackslash \\$0.519\\textbackslash pm0.008\\textbackslash \\$ &  \\textbackslash \\$0.183\\textbackslash pm0.031\\textbackslash \\$ &  \\textbackslash \\$0.094\\textbackslash pm0.001\\textbackslash \\$ \\\\\n",
      "\\cline{1-6}\n",
      "\\cline{2-6}\n",
      "\\multirow{4}{*}{3} & \\multirow{2}{*}{32} & l\\_shape &  \\textbackslash \\$0.421\\textbackslash pm0.001\\textbackslash \\$ &  \\textbackslash \\$0.106\\textbackslash pm0.012\\textbackslash \\$ &  \\textbackslash \\$0.054\\textbackslash pm0.000\\textbackslash \\$ \\\\\n",
      "  &    & square &  \\textbackslash \\$0.421\\textbackslash pm0.001\\textbackslash \\$ &  \\textbackslash \\$0.101\\textbackslash pm0.013\\textbackslash \\$ &  \\textbackslash \\$0.054\\textbackslash pm0.000\\textbackslash \\$ \\\\\n",
      "\\cline{2-6}\n",
      "  & \\multirow{2}{*}{64} & l\\_shape &  \\textbackslash \\$0.426\\textbackslash pm0.001\\textbackslash \\$ &  \\textbackslash \\$0.115\\textbackslash pm0.017\\textbackslash \\$ &  \\textbackslash \\$0.055\\textbackslash pm0.000\\textbackslash \\$ \\\\\n",
      "  &    & square &  \\textbackslash \\$0.425\\textbackslash pm0.007\\textbackslash \\$ &  \\textbackslash \\$0.116\\textbackslash pm0.019\\textbackslash \\$ &  \\textbackslash \\$0.055\\textbackslash pm0.001\\textbackslash \\$ \\\\\n",
      "\\cline{1-6}\n",
      "\\cline{2-6}\n",
      "\\multirow{4}{*}{4} & \\multirow{2}{*}{32} & l\\_shape &  \\textbackslash \\$0.401\\textbackslash pm0.002\\textbackslash \\$ &  \\textbackslash \\$0.109\\textbackslash pm0.028\\textbackslash \\$ &  \\textbackslash \\$0.040\\textbackslash pm0.000\\textbackslash \\$ \\\\\n",
      "  &    & square &  \\textbackslash \\$0.401\\textbackslash pm0.002\\textbackslash \\$ &  \\textbackslash \\$0.095\\textbackslash pm0.022\\textbackslash \\$ &  \\textbackslash \\$0.040\\textbackslash pm0.000\\textbackslash \\$ \\\\\n",
      "\\cline{2-6}\n",
      "  & \\multirow{2}{*}{64} & l\\_shape &  \\textbackslash \\$0.408\\textbackslash pm0.001\\textbackslash \\$ &  \\textbackslash \\$0.097\\textbackslash pm0.013\\textbackslash \\$ &  \\textbackslash \\$0.041\\textbackslash pm0.000\\textbackslash \\$ \\\\\n",
      "  &    & square &  \\textbackslash \\$0.407\\textbackslash pm0.007\\textbackslash \\$ &  \\textbackslash \\$0.098\\textbackslash pm0.016\\textbackslash \\$ &  \\textbackslash \\$0.041\\textbackslash pm0.001\\textbackslash \\$ \\\\\n",
      "\\cline{1-6}\n",
      "\\cline{2-6}\n",
      "\\multirow{4}{*}{5} & \\multirow{2}{*}{32} & l\\_shape &  \\textbackslash \\$0.402\\textbackslash pm0.002\\textbackslash \\$ &  \\textbackslash \\$0.078\\textbackslash pm0.016\\textbackslash \\$ &  \\textbackslash \\$0.033\\textbackslash pm0.000\\textbackslash \\$ \\\\\n",
      "  &    & square &  \\textbackslash \\$0.402\\textbackslash pm0.002\\textbackslash \\$ &  \\textbackslash \\$0.083\\textbackslash pm0.016\\textbackslash \\$ &  \\textbackslash \\$0.033\\textbackslash pm0.000\\textbackslash \\$ \\\\\n",
      "\\cline{2-6}\n",
      "  & \\multirow{2}{*}{64} & l\\_shape &  \\textbackslash \\$0.412\\textbackslash pm0.001\\textbackslash \\$ &  \\textbackslash \\$0.088\\textbackslash pm0.012\\textbackslash \\$ &  \\textbackslash \\$0.034\\textbackslash pm0.000\\textbackslash \\$ \\\\\n",
      "  &    & square &  \\textbackslash \\$0.410\\textbackslash pm0.007\\textbackslash \\$ &  \\textbackslash \\$0.091\\textbackslash pm0.023\\textbackslash \\$ &  \\textbackslash \\$0.033\\textbackslash pm0.001\\textbackslash \\$ \\\\\n",
      "\\bottomrule\n",
      "\\end{tabular}\n",
      "\n"
     ]
    }
   ],
   "source": [
    "from nnpde.utils.misc import flatten\n",
    "_t = raw.groupby(['nb_layers', 'grid_size', 'shape'])['FLOPS ratio', 'CPU time ratio', 'nb iters ratio'].agg(['mean', 'std'])\n",
    "_t = pd.DataFrame(data=_t.reset_index().values, columns=['nb_layers', 'grid_size', 'shape'] + flatten([[c + ' mean', c + ' std'] for c in ['FLOPS ratio', 'CPU time ratio', 'nb iters ratio']]))\n",
    "for c in ['FLOPS ratio', 'CPU time ratio', 'nb iters ratio']:\n",
    "    _t[c] = _t[[p for p in _t.columns if c in p]].apply(lambda row: \"\\${0:1.3f}\\pm{1:1.3f}\\$\".format(row[0], row[1]), axis=1)\n",
    "\n",
    "print(_t[['nb_layers', 'grid_size', 'shape', 'FLOPS ratio', 'CPU time ratio', 'nb iters ratio']]\\\n",
    "    .set_index(['nb_layers', 'grid_size', 'shape']).to_latex(multirow=True))"
   ]
  },
  {
   "cell_type": "code",
   "execution_count": 108,
   "metadata": {
    "ExecuteTime": {
     "end_time": "2019-01-03T15:33:49.948332Z",
     "start_time": "2019-01-03T15:33:49.557151Z"
    },
    "hidden": true
   },
   "outputs": [
    {
     "data": {
      "image/png": "[encoded data removed]",
      "text/plain": [
       "<Figure size 432x288 with 1 Axes>"
      ]
     },
     "metadata": {
      "needs_background": "light"
     },
     "output_type": "display_data"
    }
   ],
   "source": [
    "raw['nb iters ratio'] = raw['nb iters trained solver'] / raw['nb iters existent solver']\n",
    "ax = raw[['FLOPS ratio', 'CPU time ratio', 'nb iters ratio']].plot.box()\n",
    "ax.set_xticklabels(['FLOPS', 'CPU time', '#iterations'])\n",
    "ax.set_xlabel('ratios')\n",
    "plt.ylabel('learned vs existent')\n",
    "plt.savefig(f'{_base_fig_path_}/ratio_plot.eps')\n",
    "#plt.xticks(rotation=45)"
   ]
  }
 ],
 "metadata": {
  "hide_input": false,
  "kernelspec": {
   "display_name": "Python 3",
   "language": "python",
   "name": "python3"
  },
  "language_info": {
   "codemirror_mode": {
    "name": "ipython",
    "version": 3
   },
   "file_extension": ".py",
   "mimetype": "text/x-python",
   "name": "python",
   "nbconvert_exporter": "python",
   "pygments_lexer": "ipython3",
   "version": "3.6.7"
  },
  "name": "main.ipynb",
  "toc": {
   "base_numbering": 1,
   "nav_menu": {
    "height": "67.7px",
    "width": "252px"
   },
   "number_sections": true,
   "sideBar": false,
   "skip_h1_title": false,
   "title_cell": "Table of Contents",
   "title_sidebar": "Contents",
   "toc_cell": true,
   "toc_position": {
    "height": "584.933px",
    "left": "1px",
    "right": "2569px",
    "top": "111px",
    "width": "600px"
   },
   "toc_section_display": false,
   "toc_window_display": false
  }
 },
 "nbformat": 4,
 "nbformat_minor": 2
}
